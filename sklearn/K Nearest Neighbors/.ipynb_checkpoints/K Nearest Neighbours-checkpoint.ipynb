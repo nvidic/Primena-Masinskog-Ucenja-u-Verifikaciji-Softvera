{
 "cells": [
  {
   "cell_type": "code",
   "execution_count": 148,
   "metadata": {
    "collapsed": true
   },
   "outputs": [],
   "source": [
    "import numpy as np\n",
    "from sklearn import neighbors\n",
    "from sklearn import metrics\n",
    "import pandas as pd\n",
    "\n",
    "# za standardizaciju\n",
    "from sklearn import preprocessing\n",
    "\n",
    "import matplotlib.pyplot as plt\n",
    "from matplotlib.colors import ListedColormap\n",
    "\n",
    "%matplotlib inline\n",
    "\n",
    "# rad sa arff fajlovima\n",
    "import arff\n",
    "\n",
    "#\n",
    "import seaborn as sns\n",
    "sns.set(style=\"white\")\n",
    "sns.set(style=\"whitegrid\", color_codes=True)\n",
    "\n",
    "# importujemo neighbors modul\n",
    "from sklearn import neighbors\n",
    "\n",
    "# \n",
    "#from sklearn.cross_validation import train_test_split\n",
    "from sklearn.model_selection import train_test_split\n",
    "\n",
    "# Cross validation attempts to avoid overfitting while still \n",
    "# producing a prediction for each observation dataset.\n",
    "from sklearn import model_selection\n",
    "from sklearn.model_selection import cross_val_score\n",
    "\n",
    "# Compute precision, recall, F-measure and support\n",
    "\n",
    "# prognozirani pozitivni/negativni koji su zaista pozitivni od svih prognoziranih pozitivnih/negativnih \n",
    "# The precision is the ratio tp / (tp + fp) where tp is the number \n",
    "# of true positives and fp the number of false positives. \n",
    "# The precision is intuitively the ability of the classifier \n",
    "# to not label a sample as positive if it is negative\n",
    "\n",
    "# odziv?\n",
    "# => prognozirani pozitivni/negativni koji su zaista pozitivni od ukupno pozitivnih/negativnih\n",
    "# The recall is the ratio tp / (tp + fn) where tp is the number \n",
    "# of true positives and fn the number of false negatives. \n",
    "# The recall is intuitively the ability of the classifier to find all the positive samples\n",
    "\n",
    "# The F-beta score can be interpreted as a weighted harmonic mean of the precision and recall, \n",
    "# where an F-beta score reaches its best value at 1 and worst score at 0\n",
    "\n",
    "# The F-beta score weights the recall more than the precision by a factor of beta. \n",
    "# beta = 1.0 means recall and precision are equally important\n",
    "\n",
    "# svi koji pripadaju datoj klasi\n",
    "# The support is the number of occurrences of each class in y_test\n",
    "\n",
    "from sklearn.metrics import classification_report\n",
    "\n",
    "# ROC Curve\n",
    "from sklearn.metrics import roc_auc_score\n",
    "from sklearn.metrics import roc_curve"
   ]
  },
  {
   "cell_type": "code",
   "execution_count": 150,
   "metadata": {},
   "outputs": [
    {
     "name": "stdout",
     "output_type": "stream",
     "text": [
      "['CM1.arff', 'JM1.arff', 'KC3.arff', 'MW1.arff', 'PC1.arff', 'PC2.arff', 'PC3.arff', 'PC4.arff']\n"
     ]
    }
   ],
   "source": [
    "arff_files = ['CM1.arff', 'JM1.arff', 'KC3.arff', 'MW1.arff', 'PC1.arff', 'PC2.arff', 'PC3.arff', 'PC4.arff']\n",
    "print(arff_files)"
   ]
  },
  {
   "cell_type": "code",
   "execution_count": 57,
   "metadata": {},
   "outputs": [
    {
     "data": {
      "text/plain": [
       "\"\\n# !!! prijavljuje bad format gresku za PC1.arff pa sam ga sklonio iz liste fajlova\\n\\n# imam i greske za JM1 tako da cu prvo da proverim svaki fajl posebno pa onda da spojim\\n\\nfor file in arff_files:\\n    ...\\n    \\n    \\n    print('--------------------------------------\\n')\\n    \""
      ]
     },
     "execution_count": 57,
     "metadata": {},
     "output_type": "execute_result"
    }
   ],
   "source": [
    "'''\n",
    "# !!! prijavljuje bad format gresku za PC1.arff pa sam ga sklonio iz liste fajlova\n",
    "\n",
    "# imam i greske za JM1 tako da cu prvo da proverim svaki fajl posebno pa onda da spojim\n",
    "\n",
    "for file in arff_files:\n",
    "    ...\n",
    "    \n",
    "    \n",
    "    print('--------------------------------------\\n')\n",
    "    '''"
   ]
  },
  {
   "cell_type": "code",
   "execution_count": 242,
   "metadata": {
    "collapsed": true
   },
   "outputs": [],
   "source": [
    "#file = 'CM1.arff'\n",
    "#file = 'JM1.arff'\n",
    "#file = 'KC3.arff'\n",
    "#file = 'MW1.arff'\n",
    "#file = 'PC1.arff'\n",
    "#file = 'PC2.arff'\n",
    "#file = 'PC3.arff'\n",
    "file = 'PC4.arff'\n",
    "\n",
    "#dataset = arff.load(open(file, 'r'), encode_nominal=False, return_type=arff.DENSE)\n",
    "#print('---> Otvoren', file, ':\\n')\n",
    "#print('type(dataset): ', type(dataset))\n",
    "\n",
    "#print(dataset)\n",
    "#print(dataset['attributes'])\n",
    "\n",
    "# data kao ndarray\n",
    "#data = np.array(dataset['data'])\n",
    "#print(data)\n",
    "\n",
    "#print(data, '\\n')\n",
    "#data_input = data[:,0:-1]\n",
    "# posto su vrednosti atributa realni brojevi predstavljeni \n",
    "# stringovima, potrebno je izvrsiti konverziju\n",
    "#data_input = np.array(data_input).astype(np.float)\n",
    "#print(data_input)\n",
    "\n",
    "# vrsi se standardizacija podataka da ne bi neke vrednosti \n",
    "# drasticno uticale na rezultat klasifikacije\n",
    "\n",
    "# objekti\n",
    "#X = preprocessing.scale(data_input)\n",
    "#print(X)\n",
    "\n",
    "#labels = data[:,-1] \n",
    "#print(labels)\n",
    "\n",
    "# kodiramo True/False u 1/0\n",
    "\n",
    "# klase\n",
    "#y = pd.factorize(labels)\n",
    "\n",
    "#print(y)"
   ]
  },
  {
   "cell_type": "code",
   "execution_count": 185,
   "metadata": {
    "collapsed": true
   },
   "outputs": [],
   "source": [
    "#type(dataset)"
   ]
  },
  {
   "cell_type": "code",
   "execution_count": 186,
   "metadata": {
    "collapsed": true
   },
   "outputs": [],
   "source": [
    "#dataset"
   ]
  },
  {
   "cell_type": "code",
   "execution_count": 187,
   "metadata": {
    "collapsed": true
   },
   "outputs": [],
   "source": [
    "#dataset['attributes'][-1]"
   ]
  },
  {
   "cell_type": "code",
   "execution_count": 188,
   "metadata": {
    "collapsed": true
   },
   "outputs": [],
   "source": [
    "#type(X)"
   ]
  },
  {
   "cell_type": "code",
   "execution_count": 243,
   "metadata": {
    "collapsed": true
   },
   "outputs": [],
   "source": [
    "from arff2pandas import a2p"
   ]
  },
  {
   "cell_type": "code",
   "execution_count": 244,
   "metadata": {},
   "outputs": [],
   "source": [
    "with open(file) as f:\n",
    "    df = a2p.load(f)\n",
    "    #print(df)"
   ]
  },
  {
   "cell_type": "code",
   "execution_count": 245,
   "metadata": {},
   "outputs": [
    {
     "data": {
      "text/html": [
       "<div>\n",
       "<style>\n",
       "    .dataframe thead tr:only-child th {\n",
       "        text-align: right;\n",
       "    }\n",
       "\n",
       "    .dataframe thead th {\n",
       "        text-align: left;\n",
       "    }\n",
       "\n",
       "    .dataframe tbody tr th {\n",
       "        vertical-align: top;\n",
       "    }\n",
       "</style>\n",
       "<table border=\"1\" class=\"dataframe\">\n",
       "  <thead>\n",
       "    <tr style=\"text-align: right;\">\n",
       "      <th></th>\n",
       "      <th>LOC_BLANK@NUMERIC</th>\n",
       "      <th>BRANCH_COUNT@NUMERIC</th>\n",
       "      <th>CALL_PAIRS@NUMERIC</th>\n",
       "      <th>LOC_CODE_AND_COMMENT@NUMERIC</th>\n",
       "      <th>LOC_COMMENTS@NUMERIC</th>\n",
       "      <th>CONDITION_COUNT@NUMERIC</th>\n",
       "      <th>CYCLOMATIC_COMPLEXITY@NUMERIC</th>\n",
       "      <th>CYCLOMATIC_DENSITY@NUMERIC</th>\n",
       "      <th>DECISION_COUNT@NUMERIC</th>\n",
       "      <th>DECISION_DENSITY@NUMERIC</th>\n",
       "      <th>...</th>\n",
       "      <th>NORMALIZED_CYLOMATIC_COMPLEXITY@NUMERIC</th>\n",
       "      <th>NUM_OPERANDS@NUMERIC</th>\n",
       "      <th>NUM_OPERATORS@NUMERIC</th>\n",
       "      <th>NUM_UNIQUE_OPERANDS@NUMERIC</th>\n",
       "      <th>NUM_UNIQUE_OPERATORS@NUMERIC</th>\n",
       "      <th>NUMBER_OF_LINES@NUMERIC</th>\n",
       "      <th>PATHOLOGICAL_COMPLEXITY@NUMERIC</th>\n",
       "      <th>PERCENT_COMMENTS@NUMERIC</th>\n",
       "      <th>LOC_TOTAL@NUMERIC</th>\n",
       "      <th>Defective@{Y,N}</th>\n",
       "    </tr>\n",
       "  </thead>\n",
       "  <tbody>\n",
       "    <tr>\n",
       "      <th>0</th>\n",
       "      <td>7.0</td>\n",
       "      <td>1.0</td>\n",
       "      <td>2.0</td>\n",
       "      <td>0.0</td>\n",
       "      <td>2.0</td>\n",
       "      <td>0.0</td>\n",
       "      <td>1.0</td>\n",
       "      <td>0.14</td>\n",
       "      <td>0.0</td>\n",
       "      <td>0.00</td>\n",
       "      <td>...</td>\n",
       "      <td>0.06</td>\n",
       "      <td>8.0</td>\n",
       "      <td>30.0</td>\n",
       "      <td>4.0</td>\n",
       "      <td>10.0</td>\n",
       "      <td>18.0</td>\n",
       "      <td>1.0</td>\n",
       "      <td>22.22</td>\n",
       "      <td>7.0</td>\n",
       "      <td>N</td>\n",
       "    </tr>\n",
       "    <tr>\n",
       "      <th>1</th>\n",
       "      <td>22.0</td>\n",
       "      <td>15.0</td>\n",
       "      <td>9.0</td>\n",
       "      <td>4.0</td>\n",
       "      <td>11.0</td>\n",
       "      <td>26.0</td>\n",
       "      <td>8.0</td>\n",
       "      <td>0.22</td>\n",
       "      <td>12.0</td>\n",
       "      <td>2.17</td>\n",
       "      <td>...</td>\n",
       "      <td>0.11</td>\n",
       "      <td>42.0</td>\n",
       "      <td>78.0</td>\n",
       "      <td>23.0</td>\n",
       "      <td>16.0</td>\n",
       "      <td>71.0</td>\n",
       "      <td>1.0</td>\n",
       "      <td>31.91</td>\n",
       "      <td>36.0</td>\n",
       "      <td>Y</td>\n",
       "    </tr>\n",
       "    <tr>\n",
       "      <th>2</th>\n",
       "      <td>10.0</td>\n",
       "      <td>3.0</td>\n",
       "      <td>2.0</td>\n",
       "      <td>0.0</td>\n",
       "      <td>2.0</td>\n",
       "      <td>4.0</td>\n",
       "      <td>2.0</td>\n",
       "      <td>0.20</td>\n",
       "      <td>2.0</td>\n",
       "      <td>2.00</td>\n",
       "      <td>...</td>\n",
       "      <td>0.08</td>\n",
       "      <td>12.0</td>\n",
       "      <td>25.0</td>\n",
       "      <td>8.0</td>\n",
       "      <td>12.0</td>\n",
       "      <td>24.0</td>\n",
       "      <td>1.0</td>\n",
       "      <td>16.67</td>\n",
       "      <td>10.0</td>\n",
       "      <td>N</td>\n",
       "    </tr>\n",
       "    <tr>\n",
       "      <th>3</th>\n",
       "      <td>9.0</td>\n",
       "      <td>3.0</td>\n",
       "      <td>2.0</td>\n",
       "      <td>0.0</td>\n",
       "      <td>6.0</td>\n",
       "      <td>4.0</td>\n",
       "      <td>2.0</td>\n",
       "      <td>0.20</td>\n",
       "      <td>2.0</td>\n",
       "      <td>2.00</td>\n",
       "      <td>...</td>\n",
       "      <td>0.07</td>\n",
       "      <td>12.0</td>\n",
       "      <td>26.0</td>\n",
       "      <td>8.0</td>\n",
       "      <td>12.0</td>\n",
       "      <td>27.0</td>\n",
       "      <td>1.0</td>\n",
       "      <td>37.50</td>\n",
       "      <td>10.0</td>\n",
       "      <td>N</td>\n",
       "    </tr>\n",
       "    <tr>\n",
       "      <th>4</th>\n",
       "      <td>3.0</td>\n",
       "      <td>1.0</td>\n",
       "      <td>0.0</td>\n",
       "      <td>0.0</td>\n",
       "      <td>0.0</td>\n",
       "      <td>0.0</td>\n",
       "      <td>1.0</td>\n",
       "      <td>0.25</td>\n",
       "      <td>0.0</td>\n",
       "      <td>0.00</td>\n",
       "      <td>...</td>\n",
       "      <td>0.10</td>\n",
       "      <td>4.0</td>\n",
       "      <td>8.0</td>\n",
       "      <td>3.0</td>\n",
       "      <td>7.0</td>\n",
       "      <td>10.0</td>\n",
       "      <td>1.0</td>\n",
       "      <td>0.00</td>\n",
       "      <td>4.0</td>\n",
       "      <td>N</td>\n",
       "    </tr>\n",
       "  </tbody>\n",
       "</table>\n",
       "<p>5 rows × 41 columns</p>\n",
       "</div>"
      ],
      "text/plain": [
       "   LOC_BLANK@NUMERIC  BRANCH_COUNT@NUMERIC  CALL_PAIRS@NUMERIC  \\\n",
       "0                7.0                   1.0                 2.0   \n",
       "1               22.0                  15.0                 9.0   \n",
       "2               10.0                   3.0                 2.0   \n",
       "3                9.0                   3.0                 2.0   \n",
       "4                3.0                   1.0                 0.0   \n",
       "\n",
       "   LOC_CODE_AND_COMMENT@NUMERIC  LOC_COMMENTS@NUMERIC  \\\n",
       "0                           0.0                   2.0   \n",
       "1                           4.0                  11.0   \n",
       "2                           0.0                   2.0   \n",
       "3                           0.0                   6.0   \n",
       "4                           0.0                   0.0   \n",
       "\n",
       "   CONDITION_COUNT@NUMERIC  CYCLOMATIC_COMPLEXITY@NUMERIC  \\\n",
       "0                      0.0                            1.0   \n",
       "1                     26.0                            8.0   \n",
       "2                      4.0                            2.0   \n",
       "3                      4.0                            2.0   \n",
       "4                      0.0                            1.0   \n",
       "\n",
       "   CYCLOMATIC_DENSITY@NUMERIC  DECISION_COUNT@NUMERIC  \\\n",
       "0                        0.14                     0.0   \n",
       "1                        0.22                    12.0   \n",
       "2                        0.20                     2.0   \n",
       "3                        0.20                     2.0   \n",
       "4                        0.25                     0.0   \n",
       "\n",
       "   DECISION_DENSITY@NUMERIC       ...         \\\n",
       "0                      0.00       ...          \n",
       "1                      2.17       ...          \n",
       "2                      2.00       ...          \n",
       "3                      2.00       ...          \n",
       "4                      0.00       ...          \n",
       "\n",
       "   NORMALIZED_CYLOMATIC_COMPLEXITY@NUMERIC  NUM_OPERANDS@NUMERIC  \\\n",
       "0                                     0.06                   8.0   \n",
       "1                                     0.11                  42.0   \n",
       "2                                     0.08                  12.0   \n",
       "3                                     0.07                  12.0   \n",
       "4                                     0.10                   4.0   \n",
       "\n",
       "   NUM_OPERATORS@NUMERIC  NUM_UNIQUE_OPERANDS@NUMERIC  \\\n",
       "0                   30.0                          4.0   \n",
       "1                   78.0                         23.0   \n",
       "2                   25.0                          8.0   \n",
       "3                   26.0                          8.0   \n",
       "4                    8.0                          3.0   \n",
       "\n",
       "   NUM_UNIQUE_OPERATORS@NUMERIC  NUMBER_OF_LINES@NUMERIC  \\\n",
       "0                          10.0                     18.0   \n",
       "1                          16.0                     71.0   \n",
       "2                          12.0                     24.0   \n",
       "3                          12.0                     27.0   \n",
       "4                           7.0                     10.0   \n",
       "\n",
       "   PATHOLOGICAL_COMPLEXITY@NUMERIC  PERCENT_COMMENTS@NUMERIC  \\\n",
       "0                              1.0                     22.22   \n",
       "1                              1.0                     31.91   \n",
       "2                              1.0                     16.67   \n",
       "3                              1.0                     37.50   \n",
       "4                              1.0                      0.00   \n",
       "\n",
       "   LOC_TOTAL@NUMERIC  Defective@{Y,N}  \n",
       "0                7.0                N  \n",
       "1               36.0                Y  \n",
       "2               10.0                N  \n",
       "3               10.0                N  \n",
       "4                4.0                N  \n",
       "\n",
       "[5 rows x 41 columns]"
      ]
     },
     "execution_count": 245,
     "metadata": {},
     "output_type": "execute_result"
    }
   ],
   "source": [
    "df.head()"
   ]
  },
  {
   "cell_type": "code",
   "execution_count": 210,
   "metadata": {},
   "outputs": [
    {
     "data": {
      "text/plain": [
       "pandas.core.frame.DataFrame"
      ]
     },
     "execution_count": 210,
     "metadata": {},
     "output_type": "execute_result"
    }
   ],
   "source": [
    "type(df)"
   ]
  },
  {
   "cell_type": "code",
   "execution_count": 246,
   "metadata": {},
   "outputs": [
    {
     "data": {
      "text/plain": [
       "(1458, 41)"
      ]
     },
     "execution_count": 246,
     "metadata": {},
     "output_type": "execute_result"
    }
   ],
   "source": [
    "df.shape"
   ]
  },
  {
   "cell_type": "code",
   "execution_count": 247,
   "metadata": {},
   "outputs": [
    {
     "data": {
      "text/plain": [
       "Index(['LOC_BLANK@NUMERIC', 'BRANCH_COUNT@NUMERIC', 'CALL_PAIRS@NUMERIC',\n",
       "       'LOC_CODE_AND_COMMENT@NUMERIC', 'LOC_COMMENTS@NUMERIC',\n",
       "       'CONDITION_COUNT@NUMERIC', 'CYCLOMATIC_COMPLEXITY@NUMERIC',\n",
       "       'CYCLOMATIC_DENSITY@NUMERIC', 'DECISION_COUNT@NUMERIC',\n",
       "       'DECISION_DENSITY@NUMERIC', 'DESIGN_COMPLEXITY@NUMERIC',\n",
       "       'DESIGN_DENSITY@NUMERIC', 'EDGE_COUNT@NUMERIC',\n",
       "       'ESSENTIAL_COMPLEXITY@NUMERIC', 'ESSENTIAL_DENSITY@NUMERIC',\n",
       "       'LOC_EXECUTABLE@NUMERIC', 'PARAMETER_COUNT@NUMERIC',\n",
       "       'GLOBAL_DATA_COMPLEXITY@NUMERIC', 'GLOBAL_DATA_DENSITY@NUMERIC',\n",
       "       'HALSTEAD_CONTENT@NUMERIC', 'HALSTEAD_DIFFICULTY@NUMERIC',\n",
       "       'HALSTEAD_EFFORT@NUMERIC', 'HALSTEAD_ERROR_EST@NUMERIC',\n",
       "       'HALSTEAD_LENGTH@NUMERIC', 'HALSTEAD_LEVEL@NUMERIC',\n",
       "       'HALSTEAD_PROG_TIME@NUMERIC', 'HALSTEAD_VOLUME@NUMERIC',\n",
       "       'MAINTENANCE_SEVERITY@NUMERIC', 'MODIFIED_CONDITION_COUNT@NUMERIC',\n",
       "       'MULTIPLE_CONDITION_COUNT@NUMERIC', 'NODE_COUNT@NUMERIC',\n",
       "       'NORMALIZED_CYLOMATIC_COMPLEXITY@NUMERIC', 'NUM_OPERANDS@NUMERIC',\n",
       "       'NUM_OPERATORS@NUMERIC', 'NUM_UNIQUE_OPERANDS@NUMERIC',\n",
       "       'NUM_UNIQUE_OPERATORS@NUMERIC', 'NUMBER_OF_LINES@NUMERIC',\n",
       "       'PATHOLOGICAL_COMPLEXITY@NUMERIC', 'PERCENT_COMMENTS@NUMERIC',\n",
       "       'LOC_TOTAL@NUMERIC', 'Defective@{Y,N}'],\n",
       "      dtype='object')"
      ]
     },
     "execution_count": 247,
     "metadata": {},
     "output_type": "execute_result"
    }
   ],
   "source": [
    "df.columns"
   ]
  },
  {
   "cell_type": "code",
   "execution_count": 248,
   "metadata": {},
   "outputs": [
    {
     "name": "stdout",
     "output_type": "stream",
     "text": [
      "(1458, 41)\n"
     ]
    }
   ],
   "source": [
    "df = df.dropna()\n",
    "print(df.shape)\n",
    "#print(list(df.columns))"
   ]
  },
  {
   "cell_type": "code",
   "execution_count": 249,
   "metadata": {},
   "outputs": [
    {
     "data": {
      "text/html": [
       "<div>\n",
       "<style>\n",
       "    .dataframe thead tr:only-child th {\n",
       "        text-align: right;\n",
       "    }\n",
       "\n",
       "    .dataframe thead th {\n",
       "        text-align: left;\n",
       "    }\n",
       "\n",
       "    .dataframe tbody tr th {\n",
       "        vertical-align: top;\n",
       "    }\n",
       "</style>\n",
       "<table border=\"1\" class=\"dataframe\">\n",
       "  <thead>\n",
       "    <tr style=\"text-align: right;\">\n",
       "      <th></th>\n",
       "      <th>LOC_BLANK@NUMERIC</th>\n",
       "      <th>BRANCH_COUNT@NUMERIC</th>\n",
       "      <th>CALL_PAIRS@NUMERIC</th>\n",
       "      <th>LOC_CODE_AND_COMMENT@NUMERIC</th>\n",
       "      <th>LOC_COMMENTS@NUMERIC</th>\n",
       "      <th>CONDITION_COUNT@NUMERIC</th>\n",
       "      <th>CYCLOMATIC_COMPLEXITY@NUMERIC</th>\n",
       "      <th>CYCLOMATIC_DENSITY@NUMERIC</th>\n",
       "      <th>DECISION_COUNT@NUMERIC</th>\n",
       "      <th>DECISION_DENSITY@NUMERIC</th>\n",
       "      <th>...</th>\n",
       "      <th>NORMALIZED_CYLOMATIC_COMPLEXITY@NUMERIC</th>\n",
       "      <th>NUM_OPERANDS@NUMERIC</th>\n",
       "      <th>NUM_OPERATORS@NUMERIC</th>\n",
       "      <th>NUM_UNIQUE_OPERANDS@NUMERIC</th>\n",
       "      <th>NUM_UNIQUE_OPERATORS@NUMERIC</th>\n",
       "      <th>NUMBER_OF_LINES@NUMERIC</th>\n",
       "      <th>PATHOLOGICAL_COMPLEXITY@NUMERIC</th>\n",
       "      <th>PERCENT_COMMENTS@NUMERIC</th>\n",
       "      <th>LOC_TOTAL@NUMERIC</th>\n",
       "      <th>Defective@{Y,N}</th>\n",
       "    </tr>\n",
       "  </thead>\n",
       "  <tbody>\n",
       "    <tr>\n",
       "      <th>0</th>\n",
       "      <td>7.0</td>\n",
       "      <td>1.0</td>\n",
       "      <td>2.0</td>\n",
       "      <td>0.0</td>\n",
       "      <td>2.0</td>\n",
       "      <td>0.0</td>\n",
       "      <td>1.0</td>\n",
       "      <td>0.14</td>\n",
       "      <td>0.0</td>\n",
       "      <td>0.00</td>\n",
       "      <td>...</td>\n",
       "      <td>0.06</td>\n",
       "      <td>8.0</td>\n",
       "      <td>30.0</td>\n",
       "      <td>4.0</td>\n",
       "      <td>10.0</td>\n",
       "      <td>18.0</td>\n",
       "      <td>1.0</td>\n",
       "      <td>22.22</td>\n",
       "      <td>7.0</td>\n",
       "      <td>N</td>\n",
       "    </tr>\n",
       "    <tr>\n",
       "      <th>1</th>\n",
       "      <td>22.0</td>\n",
       "      <td>15.0</td>\n",
       "      <td>9.0</td>\n",
       "      <td>4.0</td>\n",
       "      <td>11.0</td>\n",
       "      <td>26.0</td>\n",
       "      <td>8.0</td>\n",
       "      <td>0.22</td>\n",
       "      <td>12.0</td>\n",
       "      <td>2.17</td>\n",
       "      <td>...</td>\n",
       "      <td>0.11</td>\n",
       "      <td>42.0</td>\n",
       "      <td>78.0</td>\n",
       "      <td>23.0</td>\n",
       "      <td>16.0</td>\n",
       "      <td>71.0</td>\n",
       "      <td>1.0</td>\n",
       "      <td>31.91</td>\n",
       "      <td>36.0</td>\n",
       "      <td>Y</td>\n",
       "    </tr>\n",
       "    <tr>\n",
       "      <th>2</th>\n",
       "      <td>10.0</td>\n",
       "      <td>3.0</td>\n",
       "      <td>2.0</td>\n",
       "      <td>0.0</td>\n",
       "      <td>2.0</td>\n",
       "      <td>4.0</td>\n",
       "      <td>2.0</td>\n",
       "      <td>0.20</td>\n",
       "      <td>2.0</td>\n",
       "      <td>2.00</td>\n",
       "      <td>...</td>\n",
       "      <td>0.08</td>\n",
       "      <td>12.0</td>\n",
       "      <td>25.0</td>\n",
       "      <td>8.0</td>\n",
       "      <td>12.0</td>\n",
       "      <td>24.0</td>\n",
       "      <td>1.0</td>\n",
       "      <td>16.67</td>\n",
       "      <td>10.0</td>\n",
       "      <td>N</td>\n",
       "    </tr>\n",
       "    <tr>\n",
       "      <th>3</th>\n",
       "      <td>9.0</td>\n",
       "      <td>3.0</td>\n",
       "      <td>2.0</td>\n",
       "      <td>0.0</td>\n",
       "      <td>6.0</td>\n",
       "      <td>4.0</td>\n",
       "      <td>2.0</td>\n",
       "      <td>0.20</td>\n",
       "      <td>2.0</td>\n",
       "      <td>2.00</td>\n",
       "      <td>...</td>\n",
       "      <td>0.07</td>\n",
       "      <td>12.0</td>\n",
       "      <td>26.0</td>\n",
       "      <td>8.0</td>\n",
       "      <td>12.0</td>\n",
       "      <td>27.0</td>\n",
       "      <td>1.0</td>\n",
       "      <td>37.50</td>\n",
       "      <td>10.0</td>\n",
       "      <td>N</td>\n",
       "    </tr>\n",
       "    <tr>\n",
       "      <th>4</th>\n",
       "      <td>3.0</td>\n",
       "      <td>1.0</td>\n",
       "      <td>0.0</td>\n",
       "      <td>0.0</td>\n",
       "      <td>0.0</td>\n",
       "      <td>0.0</td>\n",
       "      <td>1.0</td>\n",
       "      <td>0.25</td>\n",
       "      <td>0.0</td>\n",
       "      <td>0.00</td>\n",
       "      <td>...</td>\n",
       "      <td>0.10</td>\n",
       "      <td>4.0</td>\n",
       "      <td>8.0</td>\n",
       "      <td>3.0</td>\n",
       "      <td>7.0</td>\n",
       "      <td>10.0</td>\n",
       "      <td>1.0</td>\n",
       "      <td>0.00</td>\n",
       "      <td>4.0</td>\n",
       "      <td>N</td>\n",
       "    </tr>\n",
       "  </tbody>\n",
       "</table>\n",
       "<p>5 rows × 41 columns</p>\n",
       "</div>"
      ],
      "text/plain": [
       "   LOC_BLANK@NUMERIC  BRANCH_COUNT@NUMERIC  CALL_PAIRS@NUMERIC  \\\n",
       "0                7.0                   1.0                 2.0   \n",
       "1               22.0                  15.0                 9.0   \n",
       "2               10.0                   3.0                 2.0   \n",
       "3                9.0                   3.0                 2.0   \n",
       "4                3.0                   1.0                 0.0   \n",
       "\n",
       "   LOC_CODE_AND_COMMENT@NUMERIC  LOC_COMMENTS@NUMERIC  \\\n",
       "0                           0.0                   2.0   \n",
       "1                           4.0                  11.0   \n",
       "2                           0.0                   2.0   \n",
       "3                           0.0                   6.0   \n",
       "4                           0.0                   0.0   \n",
       "\n",
       "   CONDITION_COUNT@NUMERIC  CYCLOMATIC_COMPLEXITY@NUMERIC  \\\n",
       "0                      0.0                            1.0   \n",
       "1                     26.0                            8.0   \n",
       "2                      4.0                            2.0   \n",
       "3                      4.0                            2.0   \n",
       "4                      0.0                            1.0   \n",
       "\n",
       "   CYCLOMATIC_DENSITY@NUMERIC  DECISION_COUNT@NUMERIC  \\\n",
       "0                        0.14                     0.0   \n",
       "1                        0.22                    12.0   \n",
       "2                        0.20                     2.0   \n",
       "3                        0.20                     2.0   \n",
       "4                        0.25                     0.0   \n",
       "\n",
       "   DECISION_DENSITY@NUMERIC       ...         \\\n",
       "0                      0.00       ...          \n",
       "1                      2.17       ...          \n",
       "2                      2.00       ...          \n",
       "3                      2.00       ...          \n",
       "4                      0.00       ...          \n",
       "\n",
       "   NORMALIZED_CYLOMATIC_COMPLEXITY@NUMERIC  NUM_OPERANDS@NUMERIC  \\\n",
       "0                                     0.06                   8.0   \n",
       "1                                     0.11                  42.0   \n",
       "2                                     0.08                  12.0   \n",
       "3                                     0.07                  12.0   \n",
       "4                                     0.10                   4.0   \n",
       "\n",
       "   NUM_OPERATORS@NUMERIC  NUM_UNIQUE_OPERANDS@NUMERIC  \\\n",
       "0                   30.0                          4.0   \n",
       "1                   78.0                         23.0   \n",
       "2                   25.0                          8.0   \n",
       "3                   26.0                          8.0   \n",
       "4                    8.0                          3.0   \n",
       "\n",
       "   NUM_UNIQUE_OPERATORS@NUMERIC  NUMBER_OF_LINES@NUMERIC  \\\n",
       "0                          10.0                     18.0   \n",
       "1                          16.0                     71.0   \n",
       "2                          12.0                     24.0   \n",
       "3                          12.0                     27.0   \n",
       "4                           7.0                     10.0   \n",
       "\n",
       "   PATHOLOGICAL_COMPLEXITY@NUMERIC  PERCENT_COMMENTS@NUMERIC  \\\n",
       "0                              1.0                     22.22   \n",
       "1                              1.0                     31.91   \n",
       "2                              1.0                     16.67   \n",
       "3                              1.0                     37.50   \n",
       "4                              1.0                      0.00   \n",
       "\n",
       "   LOC_TOTAL@NUMERIC  Defective@{Y,N}  \n",
       "0                7.0                N  \n",
       "1               36.0                Y  \n",
       "2               10.0                N  \n",
       "3               10.0                N  \n",
       "4                4.0                N  \n",
       "\n",
       "[5 rows x 41 columns]"
      ]
     },
     "execution_count": 249,
     "metadata": {},
     "output_type": "execute_result"
    }
   ],
   "source": [
    "df.head()"
   ]
  },
  {
   "cell_type": "code",
   "execution_count": 250,
   "metadata": {},
   "outputs": [
    {
     "data": {
      "text/plain": [
       "N    1280\n",
       "Y     178\n",
       "Name: Defective@{Y,N}, dtype: int64"
      ]
     },
     "execution_count": 250,
     "metadata": {},
     "output_type": "execute_result"
    }
   ],
   "source": [
    "df['Defective@{Y,N}'].value_counts()"
   ]
  },
  {
   "cell_type": "code",
   "execution_count": 251,
   "metadata": {},
   "outputs": [
    {
     "data": {
      "image/png": "[encoded data removed]",
      "text/plain": [
       "<matplotlib.figure.Figure at 0x4316330978>"
      ]
     },
     "metadata": {},
     "output_type": "display_data"
    }
   ],
   "source": [
    "sns.countplot(x='Defective@{Y,N}', data=df, palette='hls')\n",
    "plt.show()\n",
    "#plt.savefig('count_plot')"
   ]
  },
  {
   "cell_type": "code",
   "execution_count": 199,
   "metadata": {
    "collapsed": true
   },
   "outputs": [],
   "source": [
    "# kodiramo True/False u 1/0\n",
    "#print(pd.factorize(df['defects@{false,true}'])[0])"
   ]
  },
  {
   "cell_type": "code",
   "execution_count": 252,
   "metadata": {},
   "outputs": [
    {
     "name": "stdout",
     "output_type": "stream",
     "text": [
      "Index(['N', 'Y'], dtype='object')\n"
     ]
    }
   ],
   "source": [
    "print(pd.factorize(df['Defective@{Y,N}'])[1])"
   ]
  },
  {
   "cell_type": "code",
   "execution_count": 253,
   "metadata": {
    "collapsed": true
   },
   "outputs": [],
   "source": [
    "df['Defective@{Y,N}'] = pd.factorize(df['Defective@{Y,N}'])[0]"
   ]
  },
  {
   "cell_type": "code",
   "execution_count": 254,
   "metadata": {},
   "outputs": [
    {
     "data": {
      "text/html": [
       "<div>\n",
       "<style>\n",
       "    .dataframe thead tr:only-child th {\n",
       "        text-align: right;\n",
       "    }\n",
       "\n",
       "    .dataframe thead th {\n",
       "        text-align: left;\n",
       "    }\n",
       "\n",
       "    .dataframe tbody tr th {\n",
       "        vertical-align: top;\n",
       "    }\n",
       "</style>\n",
       "<table border=\"1\" class=\"dataframe\">\n",
       "  <thead>\n",
       "    <tr style=\"text-align: right;\">\n",
       "      <th></th>\n",
       "      <th>LOC_BLANK@NUMERIC</th>\n",
       "      <th>BRANCH_COUNT@NUMERIC</th>\n",
       "      <th>CALL_PAIRS@NUMERIC</th>\n",
       "      <th>LOC_CODE_AND_COMMENT@NUMERIC</th>\n",
       "      <th>LOC_COMMENTS@NUMERIC</th>\n",
       "      <th>CONDITION_COUNT@NUMERIC</th>\n",
       "      <th>CYCLOMATIC_COMPLEXITY@NUMERIC</th>\n",
       "      <th>CYCLOMATIC_DENSITY@NUMERIC</th>\n",
       "      <th>DECISION_COUNT@NUMERIC</th>\n",
       "      <th>DECISION_DENSITY@NUMERIC</th>\n",
       "      <th>...</th>\n",
       "      <th>NORMALIZED_CYLOMATIC_COMPLEXITY@NUMERIC</th>\n",
       "      <th>NUM_OPERANDS@NUMERIC</th>\n",
       "      <th>NUM_OPERATORS@NUMERIC</th>\n",
       "      <th>NUM_UNIQUE_OPERANDS@NUMERIC</th>\n",
       "      <th>NUM_UNIQUE_OPERATORS@NUMERIC</th>\n",
       "      <th>NUMBER_OF_LINES@NUMERIC</th>\n",
       "      <th>PATHOLOGICAL_COMPLEXITY@NUMERIC</th>\n",
       "      <th>PERCENT_COMMENTS@NUMERIC</th>\n",
       "      <th>LOC_TOTAL@NUMERIC</th>\n",
       "      <th>Defective@{Y,N}</th>\n",
       "    </tr>\n",
       "  </thead>\n",
       "  <tbody>\n",
       "    <tr>\n",
       "      <th>0</th>\n",
       "      <td>7.0</td>\n",
       "      <td>1.0</td>\n",
       "      <td>2.0</td>\n",
       "      <td>0.0</td>\n",
       "      <td>2.0</td>\n",
       "      <td>0.0</td>\n",
       "      <td>1.0</td>\n",
       "      <td>0.14</td>\n",
       "      <td>0.0</td>\n",
       "      <td>0.00</td>\n",
       "      <td>...</td>\n",
       "      <td>0.06</td>\n",
       "      <td>8.0</td>\n",
       "      <td>30.0</td>\n",
       "      <td>4.0</td>\n",
       "      <td>10.0</td>\n",
       "      <td>18.0</td>\n",
       "      <td>1.0</td>\n",
       "      <td>22.22</td>\n",
       "      <td>7.0</td>\n",
       "      <td>0</td>\n",
       "    </tr>\n",
       "    <tr>\n",
       "      <th>1</th>\n",
       "      <td>22.0</td>\n",
       "      <td>15.0</td>\n",
       "      <td>9.0</td>\n",
       "      <td>4.0</td>\n",
       "      <td>11.0</td>\n",
       "      <td>26.0</td>\n",
       "      <td>8.0</td>\n",
       "      <td>0.22</td>\n",
       "      <td>12.0</td>\n",
       "      <td>2.17</td>\n",
       "      <td>...</td>\n",
       "      <td>0.11</td>\n",
       "      <td>42.0</td>\n",
       "      <td>78.0</td>\n",
       "      <td>23.0</td>\n",
       "      <td>16.0</td>\n",
       "      <td>71.0</td>\n",
       "      <td>1.0</td>\n",
       "      <td>31.91</td>\n",
       "      <td>36.0</td>\n",
       "      <td>1</td>\n",
       "    </tr>\n",
       "    <tr>\n",
       "      <th>2</th>\n",
       "      <td>10.0</td>\n",
       "      <td>3.0</td>\n",
       "      <td>2.0</td>\n",
       "      <td>0.0</td>\n",
       "      <td>2.0</td>\n",
       "      <td>4.0</td>\n",
       "      <td>2.0</td>\n",
       "      <td>0.20</td>\n",
       "      <td>2.0</td>\n",
       "      <td>2.00</td>\n",
       "      <td>...</td>\n",
       "      <td>0.08</td>\n",
       "      <td>12.0</td>\n",
       "      <td>25.0</td>\n",
       "      <td>8.0</td>\n",
       "      <td>12.0</td>\n",
       "      <td>24.0</td>\n",
       "      <td>1.0</td>\n",
       "      <td>16.67</td>\n",
       "      <td>10.0</td>\n",
       "      <td>0</td>\n",
       "    </tr>\n",
       "    <tr>\n",
       "      <th>3</th>\n",
       "      <td>9.0</td>\n",
       "      <td>3.0</td>\n",
       "      <td>2.0</td>\n",
       "      <td>0.0</td>\n",
       "      <td>6.0</td>\n",
       "      <td>4.0</td>\n",
       "      <td>2.0</td>\n",
       "      <td>0.20</td>\n",
       "      <td>2.0</td>\n",
       "      <td>2.00</td>\n",
       "      <td>...</td>\n",
       "      <td>0.07</td>\n",
       "      <td>12.0</td>\n",
       "      <td>26.0</td>\n",
       "      <td>8.0</td>\n",
       "      <td>12.0</td>\n",
       "      <td>27.0</td>\n",
       "      <td>1.0</td>\n",
       "      <td>37.50</td>\n",
       "      <td>10.0</td>\n",
       "      <td>0</td>\n",
       "    </tr>\n",
       "    <tr>\n",
       "      <th>4</th>\n",
       "      <td>3.0</td>\n",
       "      <td>1.0</td>\n",
       "      <td>0.0</td>\n",
       "      <td>0.0</td>\n",
       "      <td>0.0</td>\n",
       "      <td>0.0</td>\n",
       "      <td>1.0</td>\n",
       "      <td>0.25</td>\n",
       "      <td>0.0</td>\n",
       "      <td>0.00</td>\n",
       "      <td>...</td>\n",
       "      <td>0.10</td>\n",
       "      <td>4.0</td>\n",
       "      <td>8.0</td>\n",
       "      <td>3.0</td>\n",
       "      <td>7.0</td>\n",
       "      <td>10.0</td>\n",
       "      <td>1.0</td>\n",
       "      <td>0.00</td>\n",
       "      <td>4.0</td>\n",
       "      <td>0</td>\n",
       "    </tr>\n",
       "  </tbody>\n",
       "</table>\n",
       "<p>5 rows × 41 columns</p>\n",
       "</div>"
      ],
      "text/plain": [
       "   LOC_BLANK@NUMERIC  BRANCH_COUNT@NUMERIC  CALL_PAIRS@NUMERIC  \\\n",
       "0                7.0                   1.0                 2.0   \n",
       "1               22.0                  15.0                 9.0   \n",
       "2               10.0                   3.0                 2.0   \n",
       "3                9.0                   3.0                 2.0   \n",
       "4                3.0                   1.0                 0.0   \n",
       "\n",
       "   LOC_CODE_AND_COMMENT@NUMERIC  LOC_COMMENTS@NUMERIC  \\\n",
       "0                           0.0                   2.0   \n",
       "1                           4.0                  11.0   \n",
       "2                           0.0                   2.0   \n",
       "3                           0.0                   6.0   \n",
       "4                           0.0                   0.0   \n",
       "\n",
       "   CONDITION_COUNT@NUMERIC  CYCLOMATIC_COMPLEXITY@NUMERIC  \\\n",
       "0                      0.0                            1.0   \n",
       "1                     26.0                            8.0   \n",
       "2                      4.0                            2.0   \n",
       "3                      4.0                            2.0   \n",
       "4                      0.0                            1.0   \n",
       "\n",
       "   CYCLOMATIC_DENSITY@NUMERIC  DECISION_COUNT@NUMERIC  \\\n",
       "0                        0.14                     0.0   \n",
       "1                        0.22                    12.0   \n",
       "2                        0.20                     2.0   \n",
       "3                        0.20                     2.0   \n",
       "4                        0.25                     0.0   \n",
       "\n",
       "   DECISION_DENSITY@NUMERIC       ...         \\\n",
       "0                      0.00       ...          \n",
       "1                      2.17       ...          \n",
       "2                      2.00       ...          \n",
       "3                      2.00       ...          \n",
       "4                      0.00       ...          \n",
       "\n",
       "   NORMALIZED_CYLOMATIC_COMPLEXITY@NUMERIC  NUM_OPERANDS@NUMERIC  \\\n",
       "0                                     0.06                   8.0   \n",
       "1                                     0.11                  42.0   \n",
       "2                                     0.08                  12.0   \n",
       "3                                     0.07                  12.0   \n",
       "4                                     0.10                   4.0   \n",
       "\n",
       "   NUM_OPERATORS@NUMERIC  NUM_UNIQUE_OPERANDS@NUMERIC  \\\n",
       "0                   30.0                          4.0   \n",
       "1                   78.0                         23.0   \n",
       "2                   25.0                          8.0   \n",
       "3                   26.0                          8.0   \n",
       "4                    8.0                          3.0   \n",
       "\n",
       "   NUM_UNIQUE_OPERATORS@NUMERIC  NUMBER_OF_LINES@NUMERIC  \\\n",
       "0                          10.0                     18.0   \n",
       "1                          16.0                     71.0   \n",
       "2                          12.0                     24.0   \n",
       "3                          12.0                     27.0   \n",
       "4                           7.0                     10.0   \n",
       "\n",
       "   PATHOLOGICAL_COMPLEXITY@NUMERIC  PERCENT_COMMENTS@NUMERIC  \\\n",
       "0                              1.0                     22.22   \n",
       "1                              1.0                     31.91   \n",
       "2                              1.0                     16.67   \n",
       "3                              1.0                     37.50   \n",
       "4                              1.0                      0.00   \n",
       "\n",
       "   LOC_TOTAL@NUMERIC  Defective@{Y,N}  \n",
       "0                7.0                0  \n",
       "1               36.0                1  \n",
       "2               10.0                0  \n",
       "3               10.0                0  \n",
       "4                4.0                0  \n",
       "\n",
       "[5 rows x 41 columns]"
      ]
     },
     "execution_count": 254,
     "metadata": {},
     "output_type": "execute_result"
    }
   ],
   "source": [
    "df.head()"
   ]
  },
  {
   "cell_type": "code",
   "execution_count": 255,
   "metadata": {
    "collapsed": true
   },
   "outputs": [],
   "source": [
    "# !!! skalirati podatke\n",
    "# preprocessing.scale(df[])"
   ]
  },
  {
   "cell_type": "code",
   "execution_count": 256,
   "metadata": {
    "collapsed": true
   },
   "outputs": [],
   "source": [
    "#for index, row in df.iterrows():\n",
    "#    print(index)\n",
    "#    print(row.values)"
   ]
  },
  {
   "cell_type": "code",
   "execution_count": 257,
   "metadata": {
    "collapsed": true
   },
   "outputs": [],
   "source": [
    "#df.iloc[:, 0]"
   ]
  },
  {
   "cell_type": "code",
   "execution_count": 258,
   "metadata": {},
   "outputs": [
    {
     "data": {
      "text/html": [
       "<div>\n",
       "<style>\n",
       "    .dataframe thead tr:only-child th {\n",
       "        text-align: right;\n",
       "    }\n",
       "\n",
       "    .dataframe thead th {\n",
       "        text-align: left;\n",
       "    }\n",
       "\n",
       "    .dataframe tbody tr th {\n",
       "        vertical-align: top;\n",
       "    }\n",
       "</style>\n",
       "<table border=\"1\" class=\"dataframe\">\n",
       "  <thead>\n",
       "    <tr style=\"text-align: right;\">\n",
       "      <th></th>\n",
       "      <th>LOC_BLANK@NUMERIC</th>\n",
       "      <th>BRANCH_COUNT@NUMERIC</th>\n",
       "      <th>CALL_PAIRS@NUMERIC</th>\n",
       "      <th>LOC_CODE_AND_COMMENT@NUMERIC</th>\n",
       "      <th>LOC_COMMENTS@NUMERIC</th>\n",
       "      <th>CONDITION_COUNT@NUMERIC</th>\n",
       "      <th>CYCLOMATIC_COMPLEXITY@NUMERIC</th>\n",
       "      <th>CYCLOMATIC_DENSITY@NUMERIC</th>\n",
       "      <th>DECISION_COUNT@NUMERIC</th>\n",
       "      <th>DECISION_DENSITY@NUMERIC</th>\n",
       "      <th>...</th>\n",
       "      <th>NODE_COUNT@NUMERIC</th>\n",
       "      <th>NORMALIZED_CYLOMATIC_COMPLEXITY@NUMERIC</th>\n",
       "      <th>NUM_OPERANDS@NUMERIC</th>\n",
       "      <th>NUM_OPERATORS@NUMERIC</th>\n",
       "      <th>NUM_UNIQUE_OPERANDS@NUMERIC</th>\n",
       "      <th>NUM_UNIQUE_OPERATORS@NUMERIC</th>\n",
       "      <th>NUMBER_OF_LINES@NUMERIC</th>\n",
       "      <th>PATHOLOGICAL_COMPLEXITY@NUMERIC</th>\n",
       "      <th>PERCENT_COMMENTS@NUMERIC</th>\n",
       "      <th>LOC_TOTAL@NUMERIC</th>\n",
       "    </tr>\n",
       "    <tr>\n",
       "      <th>Defective@{Y,N}</th>\n",
       "      <th></th>\n",
       "      <th></th>\n",
       "      <th></th>\n",
       "      <th></th>\n",
       "      <th></th>\n",
       "      <th></th>\n",
       "      <th></th>\n",
       "      <th></th>\n",
       "      <th></th>\n",
       "      <th></th>\n",
       "      <th></th>\n",
       "      <th></th>\n",
       "      <th></th>\n",
       "      <th></th>\n",
       "      <th></th>\n",
       "      <th></th>\n",
       "      <th></th>\n",
       "      <th></th>\n",
       "      <th></th>\n",
       "      <th></th>\n",
       "      <th></th>\n",
       "    </tr>\n",
       "  </thead>\n",
       "  <tbody>\n",
       "    <tr>\n",
       "      <th>0</th>\n",
       "      <td>6.342969</td>\n",
       "      <td>8.425000</td>\n",
       "      <td>2.222656</td>\n",
       "      <td>1.267969</td>\n",
       "      <td>4.549219</td>\n",
       "      <td>6.312500</td>\n",
       "      <td>4.836719</td>\n",
       "      <td>0.352250</td>\n",
       "      <td>2.862500</td>\n",
       "      <td>0.882727</td>\n",
       "      <td>...</td>\n",
       "      <td>15.525000</td>\n",
       "      <td>0.211891</td>\n",
       "      <td>33.614063</td>\n",
       "      <td>55.729687</td>\n",
       "      <td>11.853125</td>\n",
       "      <td>11.432813</td>\n",
       "      <td>35.277344</td>\n",
       "      <td>1.0</td>\n",
       "      <td>15.177211</td>\n",
       "      <td>18.359375</td>\n",
       "    </tr>\n",
       "    <tr>\n",
       "      <th>1</th>\n",
       "      <td>11.702247</td>\n",
       "      <td>8.623596</td>\n",
       "      <td>3.022472</td>\n",
       "      <td>8.157303</td>\n",
       "      <td>7.123596</td>\n",
       "      <td>13.876404</td>\n",
       "      <td>4.859551</td>\n",
       "      <td>0.164326</td>\n",
       "      <td>6.438202</td>\n",
       "      <td>1.915169</td>\n",
       "      <td>...</td>\n",
       "      <td>18.674157</td>\n",
       "      <td>0.098090</td>\n",
       "      <td>75.331461</td>\n",
       "      <td>113.505618</td>\n",
       "      <td>22.151685</td>\n",
       "      <td>14.191011</td>\n",
       "      <td>57.966292</td>\n",
       "      <td>1.0</td>\n",
       "      <td>34.018539</td>\n",
       "      <td>36.825843</td>\n",
       "    </tr>\n",
       "  </tbody>\n",
       "</table>\n",
       "<p>2 rows × 40 columns</p>\n",
       "</div>"
      ],
      "text/plain": [
       "                 LOC_BLANK@NUMERIC  BRANCH_COUNT@NUMERIC  CALL_PAIRS@NUMERIC  \\\n",
       "Defective@{Y,N}                                                                \n",
       "0                         6.342969              8.425000            2.222656   \n",
       "1                        11.702247              8.623596            3.022472   \n",
       "\n",
       "                 LOC_CODE_AND_COMMENT@NUMERIC  LOC_COMMENTS@NUMERIC  \\\n",
       "Defective@{Y,N}                                                       \n",
       "0                                    1.267969              4.549219   \n",
       "1                                    8.157303              7.123596   \n",
       "\n",
       "                 CONDITION_COUNT@NUMERIC  CYCLOMATIC_COMPLEXITY@NUMERIC  \\\n",
       "Defective@{Y,N}                                                           \n",
       "0                               6.312500                       4.836719   \n",
       "1                              13.876404                       4.859551   \n",
       "\n",
       "                 CYCLOMATIC_DENSITY@NUMERIC  DECISION_COUNT@NUMERIC  \\\n",
       "Defective@{Y,N}                                                       \n",
       "0                                  0.352250                2.862500   \n",
       "1                                  0.164326                6.438202   \n",
       "\n",
       "                 DECISION_DENSITY@NUMERIC        ...          \\\n",
       "Defective@{Y,N}                                  ...           \n",
       "0                                0.882727        ...           \n",
       "1                                1.915169        ...           \n",
       "\n",
       "                 NODE_COUNT@NUMERIC  NORMALIZED_CYLOMATIC_COMPLEXITY@NUMERIC  \\\n",
       "Defective@{Y,N}                                                                \n",
       "0                         15.525000                                 0.211891   \n",
       "1                         18.674157                                 0.098090   \n",
       "\n",
       "                 NUM_OPERANDS@NUMERIC  NUM_OPERATORS@NUMERIC  \\\n",
       "Defective@{Y,N}                                                \n",
       "0                           33.614063              55.729687   \n",
       "1                           75.331461             113.505618   \n",
       "\n",
       "                 NUM_UNIQUE_OPERANDS@NUMERIC  NUM_UNIQUE_OPERATORS@NUMERIC  \\\n",
       "Defective@{Y,N}                                                              \n",
       "0                                  11.853125                     11.432813   \n",
       "1                                  22.151685                     14.191011   \n",
       "\n",
       "                 NUMBER_OF_LINES@NUMERIC  PATHOLOGICAL_COMPLEXITY@NUMERIC  \\\n",
       "Defective@{Y,N}                                                             \n",
       "0                              35.277344                              1.0   \n",
       "1                              57.966292                              1.0   \n",
       "\n",
       "                 PERCENT_COMMENTS@NUMERIC  LOC_TOTAL@NUMERIC  \n",
       "Defective@{Y,N}                                               \n",
       "0                               15.177211          18.359375  \n",
       "1                               34.018539          36.825843  \n",
       "\n",
       "[2 rows x 40 columns]"
      ]
     },
     "execution_count": 258,
     "metadata": {},
     "output_type": "execute_result"
    }
   ],
   "source": [
    "df.groupby('Defective@{Y,N}').mean()"
   ]
  },
  {
   "cell_type": "code",
   "execution_count": 259,
   "metadata": {
    "collapsed": true
   },
   "outputs": [],
   "source": [
    "# potrebno je izvrsiti standardizaciju podataka kako atributi \n",
    "# sa visokim vrednostima ne bi previse uticali na rezultat klasifikacije \n",
    "\n",
    "for i in range(df.shape[1]-1):\n",
    "    #print(i)\n",
    "    df.iloc[:, i] = preprocessing.scale(df.iloc[:, i])"
   ]
  },
  {
   "cell_type": "code",
   "execution_count": 260,
   "metadata": {
    "collapsed": true
   },
   "outputs": [],
   "source": [
    "#df.head()"
   ]
  },
  {
   "cell_type": "code",
   "execution_count": 261,
   "metadata": {
    "collapsed": true
   },
   "outputs": [],
   "source": [
    "#df.tail()"
   ]
  },
  {
   "cell_type": "code",
   "execution_count": 262,
   "metadata": {},
   "outputs": [
    {
     "data": {
      "text/html": [
       "<div>\n",
       "<style>\n",
       "    .dataframe thead tr:only-child th {\n",
       "        text-align: right;\n",
       "    }\n",
       "\n",
       "    .dataframe thead th {\n",
       "        text-align: left;\n",
       "    }\n",
       "\n",
       "    .dataframe tbody tr th {\n",
       "        vertical-align: top;\n",
       "    }\n",
       "</style>\n",
       "<table border=\"1\" class=\"dataframe\">\n",
       "  <thead>\n",
       "    <tr style=\"text-align: right;\">\n",
       "      <th></th>\n",
       "      <th>LOC_BLANK@NUMERIC</th>\n",
       "      <th>BRANCH_COUNT@NUMERIC</th>\n",
       "      <th>CALL_PAIRS@NUMERIC</th>\n",
       "      <th>LOC_CODE_AND_COMMENT@NUMERIC</th>\n",
       "      <th>LOC_COMMENTS@NUMERIC</th>\n",
       "      <th>CONDITION_COUNT@NUMERIC</th>\n",
       "      <th>CYCLOMATIC_COMPLEXITY@NUMERIC</th>\n",
       "      <th>CYCLOMATIC_DENSITY@NUMERIC</th>\n",
       "      <th>DECISION_COUNT@NUMERIC</th>\n",
       "      <th>DECISION_DENSITY@NUMERIC</th>\n",
       "      <th>...</th>\n",
       "      <th>NODE_COUNT@NUMERIC</th>\n",
       "      <th>NORMALIZED_CYLOMATIC_COMPLEXITY@NUMERIC</th>\n",
       "      <th>NUM_OPERANDS@NUMERIC</th>\n",
       "      <th>NUM_OPERATORS@NUMERIC</th>\n",
       "      <th>NUM_UNIQUE_OPERANDS@NUMERIC</th>\n",
       "      <th>NUM_UNIQUE_OPERATORS@NUMERIC</th>\n",
       "      <th>NUMBER_OF_LINES@NUMERIC</th>\n",
       "      <th>PATHOLOGICAL_COMPLEXITY@NUMERIC</th>\n",
       "      <th>PERCENT_COMMENTS@NUMERIC</th>\n",
       "      <th>LOC_TOTAL@NUMERIC</th>\n",
       "    </tr>\n",
       "    <tr>\n",
       "      <th>Defective@{Y,N}</th>\n",
       "      <th></th>\n",
       "      <th></th>\n",
       "      <th></th>\n",
       "      <th></th>\n",
       "      <th></th>\n",
       "      <th></th>\n",
       "      <th></th>\n",
       "      <th></th>\n",
       "      <th></th>\n",
       "      <th></th>\n",
       "      <th></th>\n",
       "      <th></th>\n",
       "      <th></th>\n",
       "      <th></th>\n",
       "      <th></th>\n",
       "      <th></th>\n",
       "      <th></th>\n",
       "      <th></th>\n",
       "      <th></th>\n",
       "      <th></th>\n",
       "      <th></th>\n",
       "    </tr>\n",
       "  </thead>\n",
       "  <tbody>\n",
       "    <tr>\n",
       "      <th>0</th>\n",
       "      <td>-0.066466</td>\n",
       "      <td>-0.001907</td>\n",
       "      <td>-0.033782</td>\n",
       "      <td>-0.158231</td>\n",
       "      <td>-0.033139</td>\n",
       "      <td>-0.057047</td>\n",
       "      <td>-0.000418</td>\n",
       "      <td>0.069662</td>\n",
       "      <td>-0.058162</td>\n",
       "      <td>-0.112120</td>\n",
       "      <td>...</td>\n",
       "      <td>-0.018082</td>\n",
       "      <td>0.062216</td>\n",
       "      <td>-0.071309</td>\n",
       "      <td>-0.067846</td>\n",
       "      <td>-0.061245</td>\n",
       "      <td>-0.050909</td>\n",
       "      <td>-0.05561</td>\n",
       "      <td>0.0</td>\n",
       "      <td>-0.108491</td>\n",
       "      <td>-0.089373</td>\n",
       "    </tr>\n",
       "    <tr>\n",
       "      <th>1</th>\n",
       "      <td>0.477959</td>\n",
       "      <td>0.013716</td>\n",
       "      <td>0.242925</td>\n",
       "      <td>1.137844</td>\n",
       "      <td>0.238301</td>\n",
       "      <td>0.410225</td>\n",
       "      <td>0.003007</td>\n",
       "      <td>-0.500939</td>\n",
       "      <td>0.418241</td>\n",
       "      <td>0.806253</td>\n",
       "      <td>...</td>\n",
       "      <td>0.130028</td>\n",
       "      <td>-0.447398</td>\n",
       "      <td>0.512786</td>\n",
       "      <td>0.487883</td>\n",
       "      <td>0.440416</td>\n",
       "      <td>0.366088</td>\n",
       "      <td>0.39989</td>\n",
       "      <td>0.0</td>\n",
       "      <td>0.780160</td>\n",
       "      <td>0.642684</td>\n",
       "    </tr>\n",
       "  </tbody>\n",
       "</table>\n",
       "<p>2 rows × 40 columns</p>\n",
       "</div>"
      ],
      "text/plain": [
       "                 LOC_BLANK@NUMERIC  BRANCH_COUNT@NUMERIC  CALL_PAIRS@NUMERIC  \\\n",
       "Defective@{Y,N}                                                                \n",
       "0                        -0.066466             -0.001907           -0.033782   \n",
       "1                         0.477959              0.013716            0.242925   \n",
       "\n",
       "                 LOC_CODE_AND_COMMENT@NUMERIC  LOC_COMMENTS@NUMERIC  \\\n",
       "Defective@{Y,N}                                                       \n",
       "0                                   -0.158231             -0.033139   \n",
       "1                                    1.137844              0.238301   \n",
       "\n",
       "                 CONDITION_COUNT@NUMERIC  CYCLOMATIC_COMPLEXITY@NUMERIC  \\\n",
       "Defective@{Y,N}                                                           \n",
       "0                              -0.057047                      -0.000418   \n",
       "1                               0.410225                       0.003007   \n",
       "\n",
       "                 CYCLOMATIC_DENSITY@NUMERIC  DECISION_COUNT@NUMERIC  \\\n",
       "Defective@{Y,N}                                                       \n",
       "0                                  0.069662               -0.058162   \n",
       "1                                 -0.500939                0.418241   \n",
       "\n",
       "                 DECISION_DENSITY@NUMERIC        ...          \\\n",
       "Defective@{Y,N}                                  ...           \n",
       "0                               -0.112120        ...           \n",
       "1                                0.806253        ...           \n",
       "\n",
       "                 NODE_COUNT@NUMERIC  NORMALIZED_CYLOMATIC_COMPLEXITY@NUMERIC  \\\n",
       "Defective@{Y,N}                                                                \n",
       "0                         -0.018082                                 0.062216   \n",
       "1                          0.130028                                -0.447398   \n",
       "\n",
       "                 NUM_OPERANDS@NUMERIC  NUM_OPERATORS@NUMERIC  \\\n",
       "Defective@{Y,N}                                                \n",
       "0                           -0.071309              -0.067846   \n",
       "1                            0.512786               0.487883   \n",
       "\n",
       "                 NUM_UNIQUE_OPERANDS@NUMERIC  NUM_UNIQUE_OPERATORS@NUMERIC  \\\n",
       "Defective@{Y,N}                                                              \n",
       "0                                  -0.061245                     -0.050909   \n",
       "1                                   0.440416                      0.366088   \n",
       "\n",
       "                 NUMBER_OF_LINES@NUMERIC  PATHOLOGICAL_COMPLEXITY@NUMERIC  \\\n",
       "Defective@{Y,N}                                                             \n",
       "0                               -0.05561                              0.0   \n",
       "1                                0.39989                              0.0   \n",
       "\n",
       "                 PERCENT_COMMENTS@NUMERIC  LOC_TOTAL@NUMERIC  \n",
       "Defective@{Y,N}                                               \n",
       "0                               -0.108491          -0.089373  \n",
       "1                                0.780160           0.642684  \n",
       "\n",
       "[2 rows x 40 columns]"
      ]
     },
     "execution_count": 262,
     "metadata": {},
     "output_type": "execute_result"
    }
   ],
   "source": [
    "df.groupby('Defective@{Y,N}').mean()"
   ]
  },
  {
   "cell_type": "code",
   "execution_count": 263,
   "metadata": {},
   "outputs": [
    {
     "name": "stdout",
     "output_type": "stream",
     "text": [
      "y:  ['Defective@{Y,N}']\n",
      "X:  ['LOC_BLANK@NUMERIC', 'BRANCH_COUNT@NUMERIC', 'CALL_PAIRS@NUMERIC', 'LOC_CODE_AND_COMMENT@NUMERIC', 'LOC_COMMENTS@NUMERIC', 'CONDITION_COUNT@NUMERIC', 'CYCLOMATIC_COMPLEXITY@NUMERIC', 'CYCLOMATIC_DENSITY@NUMERIC', 'DECISION_COUNT@NUMERIC', 'DECISION_DENSITY@NUMERIC', 'DESIGN_COMPLEXITY@NUMERIC', 'DESIGN_DENSITY@NUMERIC', 'EDGE_COUNT@NUMERIC', 'ESSENTIAL_COMPLEXITY@NUMERIC', 'ESSENTIAL_DENSITY@NUMERIC', 'LOC_EXECUTABLE@NUMERIC', 'PARAMETER_COUNT@NUMERIC', 'GLOBAL_DATA_COMPLEXITY@NUMERIC', 'GLOBAL_DATA_DENSITY@NUMERIC', 'HALSTEAD_CONTENT@NUMERIC', 'HALSTEAD_DIFFICULTY@NUMERIC', 'HALSTEAD_EFFORT@NUMERIC', 'HALSTEAD_ERROR_EST@NUMERIC', 'HALSTEAD_LENGTH@NUMERIC', 'HALSTEAD_LEVEL@NUMERIC', 'HALSTEAD_PROG_TIME@NUMERIC', 'HALSTEAD_VOLUME@NUMERIC', 'MAINTENANCE_SEVERITY@NUMERIC', 'MODIFIED_CONDITION_COUNT@NUMERIC', 'MULTIPLE_CONDITION_COUNT@NUMERIC', 'NODE_COUNT@NUMERIC', 'NORMALIZED_CYLOMATIC_COMPLEXITY@NUMERIC', 'NUM_OPERANDS@NUMERIC', 'NUM_OPERATORS@NUMERIC', 'NUM_UNIQUE_OPERANDS@NUMERIC', 'NUM_UNIQUE_OPERATORS@NUMERIC', 'NUMBER_OF_LINES@NUMERIC', 'PATHOLOGICAL_COMPLEXITY@NUMERIC', 'PERCENT_COMMENTS@NUMERIC', 'LOC_TOTAL@NUMERIC']\n"
     ]
    }
   ],
   "source": [
    "# ciljna kolona(defects@{false, true})\n",
    "y_cols=['Defective@{Y,N}']\n",
    "\n",
    "# lista atributa\n",
    "X_cols=[i for i in df.columns if i not in y_cols]\n",
    "\n",
    "print('y: ', y_cols)\n",
    "print('X: ', X_cols)"
   ]
  },
  {
   "cell_type": "code",
   "execution_count": 264,
   "metadata": {
    "collapsed": true
   },
   "outputs": [],
   "source": [
    "X=df[X_cols]\n",
    "y=df[y_cols]\n",
    "\n",
    "#print(X)\n",
    "#print(y)"
   ]
  },
  {
   "cell_type": "code",
   "execution_count": 265,
   "metadata": {
    "collapsed": true
   },
   "outputs": [],
   "source": [
    "X_train, X_test, y_train, y_test = train_test_split(X, y, test_size=0.4, random_state=4)"
   ]
  },
  {
   "cell_type": "code",
   "execution_count": 266,
   "metadata": {
    "collapsed": true
   },
   "outputs": [],
   "source": [
    "#X_train"
   ]
  },
  {
   "cell_type": "code",
   "execution_count": 267,
   "metadata": {},
   "outputs": [
    {
     "name": "stdout",
     "output_type": "stream",
     "text": [
      "X_train.shape: (874, 40)\n",
      "X_test.shape: (584, 40)\n",
      "y_train.shape: (874, 1)\n",
      "y_test.shape: (584, 1)\n"
     ]
    }
   ],
   "source": [
    "print('X_train.shape:', X_train.shape)\n",
    "print('X_test.shape:', X_test.shape)\n",
    "print('y_train.shape:', y_train.shape)\n",
    "print('y_test.shape:', y_test.shape)"
   ]
  },
  {
   "cell_type": "code",
   "execution_count": 268,
   "metadata": {},
   "outputs": [
    {
     "name": "stderr",
     "output_type": "stream",
     "text": [
      "C:\\Users\\Nikola\\Anaconda3\\lib\\site-packages\\ipykernel_launcher.py:11: DataConversionWarning: A column-vector y was passed when a 1d array was expected. Please change the shape of y to (n_samples, ), for example using ravel().\n",
      "  # This is added back by InteractiveShellApp.init_path()\n"
     ]
    },
    {
     "name": "stdout",
     "output_type": "stream",
     "text": [
      "[0.89212328767123283, 0.88013698630136983, 0.875, 0.88869863013698636, 0.88869863013698636, 0.88527397260273977, 0.87671232876712324, 0.88698630136986301, 0.88527397260273977, 0.88698630136986301, 0.88527397260273977, 0.88869863013698636, 0.8904109589041096, 0.88869863013698636, 0.88869863013698636, 0.89212328767123283, 0.89383561643835618, 0.88869863013698636, 0.89212328767123283, 0.8904109589041096, 0.8904109589041096, 0.88698630136986301, 0.88869863013698636, 0.88698630136986301, 0.88527397260273977]\n"
     ]
    }
   ],
   "source": [
    "# try K=1 through K=25 and record testing accuracy\n",
    "k_range = range(1, 26)\n",
    "\n",
    "# We can create Python dictionary using [] or dict()\n",
    "scores = []\n",
    "\n",
    "# We use a loop through the range 1 to 26\n",
    "# We append the scores in the dictionary\n",
    "for k in k_range:\n",
    "    knn = neighbors.KNeighborsClassifier(n_neighbors=k)\n",
    "    knn.fit(X_train, y_train)\n",
    "    y_pred = knn.predict(X_test)\n",
    "    scores.append(metrics.accuracy_score(y_test, y_pred))\n",
    "\n",
    "print(scores)"
   ]
  },
  {
   "cell_type": "code",
   "execution_count": 269,
   "metadata": {},
   "outputs": [
    {
     "data": {
      "text/plain": [
       "<matplotlib.text.Text at 0x43162f74a8>"
      ]
     },
     "execution_count": 269,
     "metadata": {},
     "output_type": "execute_result"
    },
    {
     "data": {
      "image/png": "[encoded data removed]",
      "text/plain": [
       "<matplotlib.figure.Figure at 0x43162ccfd0>"
      ]
     },
     "metadata": {},
     "output_type": "display_data"
    }
   ],
   "source": [
    "# plot the relationship between K and testing accuracy\n",
    "# plt.plot(x_axis, y_axis)\n",
    "plt.plot(k_range, scores)\n",
    "plt.xlabel('Value of K for KNN')\n",
    "plt.ylabel('Testing Accuracy')\n",
    "\n",
    "# Training accuracy rises as model complexity increases\n",
    "# Testing accuracy penalizes models that are too complex or not complex enough\n",
    "# For KNN models, complexity is determined by the value of K (lower value = more complex)\n",
    "# k=7 deluje ok"
   ]
  },
  {
   "cell_type": "code",
   "execution_count": 270,
   "metadata": {},
   "outputs": [
    {
     "data": {
      "text/plain": [
       "array([1, 0, 0, 0, 0, 0, 0, 0, 0, 0, 0, 0, 0, 1, 1, 0, 0, 0, 0, 0, 0, 0, 0,\n",
       "       1, 0, 0, 0, 0, 0, 0, 0, 0, 0, 1, 0, 0, 0, 0, 1, 0, 0, 0, 0, 0, 0, 0,\n",
       "       0, 0, 0, 0, 0, 0, 1, 0, 0, 0, 0, 0, 0, 0, 0, 1, 0, 0, 1, 0, 0, 0, 0,\n",
       "       0, 0, 0, 0, 0, 0, 0, 0, 0, 0, 0, 0, 0, 0, 0, 1, 0, 0, 0, 1, 0, 0, 0,\n",
       "       0, 0, 1, 0, 0, 0, 0, 0, 0, 0, 0, 1, 0, 0, 0, 0, 0, 0, 0, 0, 0, 0, 0,\n",
       "       0, 0, 0, 1, 0, 0, 0, 0, 0, 0, 1, 1, 0, 1, 0, 0, 0, 0, 1, 0, 0, 1, 0,\n",
       "       0, 0, 0, 0, 0, 0, 0, 0, 0, 0, 0, 0, 0, 0, 0, 0, 1, 1, 0, 0, 0, 0, 0,\n",
       "       0, 0, 1, 0, 0, 0, 0, 1, 0, 1, 0, 0, 0, 0, 1, 0, 0, 0, 0, 0, 0, 0, 0,\n",
       "       1, 0, 0, 0, 1, 1, 0, 0, 0, 0, 0, 0, 0, 0, 0, 0, 0, 0, 0, 0, 0, 0, 0,\n",
       "       0, 0, 0, 1, 0, 0, 0, 0, 0, 0, 0, 0, 0, 1, 0, 0, 0, 0, 0, 0, 1, 0, 0,\n",
       "       0, 0, 0, 0, 0, 0, 1, 0, 0, 0, 0, 0, 0, 0, 0, 0, 0, 0, 0, 0, 0, 0, 0,\n",
       "       0, 1, 0, 0, 0, 1, 0, 0, 1, 0, 0, 0, 0, 0, 0, 0, 0, 0, 1, 0, 0, 0, 0,\n",
       "       0, 0, 0, 0, 0, 0, 0, 0, 0, 1, 0, 0, 1, 0, 0, 0, 0, 0, 0, 1, 0, 0, 0,\n",
       "       0, 0, 0, 0, 0, 0, 0, 1, 0, 0, 0, 0, 0, 1, 0, 0, 1, 0, 0, 0, 0, 0, 0,\n",
       "       0, 0, 0, 0, 0, 0, 0, 0, 0, 0, 0, 0, 0, 0, 0, 0, 0, 0, 0, 0, 1, 1, 0,\n",
       "       0, 0, 0, 0, 0, 0, 1, 0, 0, 0, 0, 0, 0, 1, 0, 0, 0, 0, 0, 0, 0, 0, 0,\n",
       "       0, 0, 1, 0, 0, 0, 0, 1, 0, 0, 0, 0, 0, 0, 0, 1, 0, 0, 0, 0, 0, 0, 0,\n",
       "       0, 0, 0, 0, 0, 0, 0, 1, 0, 0, 0, 0, 0, 0, 1, 0, 1, 0, 0, 0, 0, 0, 0,\n",
       "       0, 0, 0, 0, 0, 0, 0, 0, 1, 0, 0, 0, 0, 0, 0, 0, 0, 0, 0, 0, 0, 0, 0,\n",
       "       0, 0, 0, 0, 0, 0, 0, 0, 0, 0, 0, 0, 0, 0, 1, 0, 0, 0, 1, 0, 0, 0, 0,\n",
       "       1, 0, 0, 0, 0, 0, 0, 1, 0, 0, 0, 0, 0, 0, 0, 0, 0, 1, 0, 0, 0, 0, 0,\n",
       "       1, 0, 0, 0, 0, 1, 0, 0, 0, 0, 1, 0, 0, 0, 0, 0, 0, 0, 1, 0, 0, 0, 0,\n",
       "       0, 0, 0, 0, 0, 0, 0, 1, 0, 0, 0, 0, 0, 0, 0, 0, 1, 0, 0, 0, 1, 0, 0,\n",
       "       0, 0, 0, 0, 0, 0, 0, 0, 0, 0, 0, 0, 0, 1, 0, 0, 0, 0, 0, 0, 1, 0, 0,\n",
       "       0, 0, 0, 0, 0, 1, 0, 0, 0, 0, 0, 0, 0, 0, 0, 0, 1, 0, 1, 0, 0, 0, 0,\n",
       "       0, 0, 1, 0, 0, 0, 1, 0, 0], dtype=int64)"
      ]
     },
     "execution_count": 270,
     "metadata": {},
     "output_type": "execute_result"
    }
   ],
   "source": [
    "np.ravel(y_test)"
   ]
  },
  {
   "cell_type": "code",
   "execution_count": 271,
   "metadata": {},
   "outputs": [
    {
     "name": "stdout",
     "output_type": "stream",
     "text": [
      "0.876712328767\n"
     ]
    }
   ],
   "source": [
    "knn = neighbors.KNeighborsClassifier(n_neighbors=7)\n",
    "knn.fit(X_train, np.ravel(y_train))\n",
    "y_pred = knn.predict(X_test)\n",
    "print(metrics.accuracy_score(y_test, y_pred))\n",
    "#print(knn.score(X_test, y_test))"
   ]
  },
  {
   "cell_type": "code",
   "execution_count": 272,
   "metadata": {},
   "outputs": [
    {
     "name": "stdout",
     "output_type": "stream",
     "text": [
      "10-fold cross validation average accuracy: 0.897\n"
     ]
    }
   ],
   "source": [
    "# ??? sta je ovo i da li ima neke poente\n",
    "# ??? mozda da se primeni na vec postojeci knn klasifikator\n",
    "\n",
    "kfold = model_selection.KFold(n_splits=10, random_state=7)\n",
    "modelCV = knn\n",
    "scoring = 'accuracy'\n",
    "results = model_selection.cross_val_score(modelCV, X_train, np.ravel(y_train), cv=kfold, scoring=scoring)\n",
    "print(\"10-fold cross validation average accuracy: %.3f\" % (results.mean()))\n",
    "\n",
    "# bilo je 0.913 kad nisam koristio knn nego novi model"
   ]
  },
  {
   "cell_type": "code",
   "execution_count": 273,
   "metadata": {},
   "outputs": [
    {
     "name": "stdout",
     "output_type": "stream",
     "text": [
      "0.897008881923\n",
      "0.0369512813805\n"
     ]
    }
   ],
   "source": [
    "print(results.mean())\n",
    "print(results.std())"
   ]
  },
  {
   "cell_type": "code",
   "execution_count": 274,
   "metadata": {},
   "outputs": [
    {
     "name": "stdout",
     "output_type": "stream",
     "text": [
      "[[496  16]\n",
      " [ 56  16]]\n"
     ]
    }
   ],
   "source": [
    "cm = metrics.confusion_matrix(y_test, y_pred)\n",
    "print(cm)"
   ]
  },
  {
   "cell_type": "code",
   "execution_count": 275,
   "metadata": {},
   "outputs": [
    {
     "data": {
      "image/png": "[encoded data removed]",
      "text/plain": [
       "<matplotlib.figure.Figure at 0x4316529e48>"
      ]
     },
     "metadata": {},
     "output_type": "display_data"
    }
   ],
   "source": [
    "plt.figure(figsize=(9,9))\n",
    "sns.heatmap(cm, annot=True, fmt=\".3f\", linewidths=.5, square = True, cmap = 'viridis');\n",
    "plt.ylabel('Stvarna klasa');\n",
    "plt.xlabel('Predvidjena klasa');\n",
    "all_sample_title = 'Accuracy Score: {0}'.format(metrics.accuracy_score(y_test, y_pred))\n",
    "plt.title(all_sample_title, size = 15);"
   ]
  },
  {
   "cell_type": "code",
   "execution_count": 182,
   "metadata": {},
   "outputs": [
    {
     "name": "stdout",
     "output_type": "stream",
     "text": [
      "             precision    recall  f1-score   support\n",
      "\n",
      "          0       0.88      1.00      0.94       121\n",
      "          1       1.00      0.06      0.11        17\n",
      "\n",
      "avg / total       0.90      0.88      0.84       138\n",
      "\n"
     ]
    }
   ],
   "source": [
    "# Compute precision, recall, F-measure and support\n",
    "\n",
    "# !!! vrednosti su sa drugog primera\n",
    "# Interpretation: Of the entire test set, 88% of the promoted \n",
    "# term deposit were the term deposit that the customers liked. \n",
    "# Of the entire test set, 90% of the customer’s preferred term deposits that were promoted\n",
    "\n",
    "print(classification_report(y_test, y_pred))"
   ]
  },
  {
   "cell_type": "code",
   "execution_count": 183,
   "metadata": {},
   "outputs": [
    {
     "data": {
      "image/png": "[encoded data removed]",
      "text/plain": [
       "<matplotlib.figure.Figure at 0x43160ad358>"
      ]
     },
     "metadata": {},
     "output_type": "display_data"
    }
   ],
   "source": [
    "# The receiver operating characteristic (ROC) curve is \n",
    "# another common tool used with binary classifiers. \n",
    "# The dotted line represents the ROC curve of a purely \n",
    "# random classifier; a good classifier stays as far away \n",
    "# from that line as possible (toward the top-left corner)\n",
    "\n",
    "logit_roc_auc = roc_auc_score(y_test, knn.predict(X_test))\n",
    "fpr, tpr, thresholds = roc_curve(y_test, knn.predict_proba(X_test)[:,1])\n",
    "plt.figure()\n",
    "plt.plot(fpr, tpr, label='Nearest Neighbours (area = %0.2f)' % logit_roc_auc)\n",
    "plt.plot([0, 1], [0, 1],'r--')\n",
    "plt.xlim([0.0, 1.0])\n",
    "plt.ylim([0.0, 1.05])\n",
    "plt.xlabel('False Positive Rate')\n",
    "plt.ylabel('True Positive Rate')\n",
    "plt.title('Receiver operating characteristic (ROC)')\n",
    "plt.legend(loc=\"lower right\")\n",
    "#plt.savefig('Log_ROC')\n",
    "plt.show()"
   ]
  },
  {
   "cell_type": "code",
   "execution_count": null,
   "metadata": {
    "collapsed": true
   },
   "outputs": [],
   "source": []
  },
  {
   "cell_type": "code",
   "execution_count": null,
   "metadata": {
    "collapsed": true
   },
   "outputs": [],
   "source": []
  },
  {
   "cell_type": "code",
   "execution_count": null,
   "metadata": {
    "collapsed": true
   },
   "outputs": [],
   "source": []
  },
  {
   "cell_type": "code",
   "execution_count": null,
   "metadata": {
    "collapsed": true
   },
   "outputs": [],
   "source": []
  }
 ],
 "metadata": {
  "kernelspec": {
   "display_name": "Python 3",
   "language": "python",
   "name": "python3"
  },
  "language_info": {
   "codemirror_mode": {
    "name": "ipython",
    "version": 3
   },
   "file_extension": ".py",
   "mimetype": "text/x-python",
   "name": "python",
   "nbconvert_exporter": "python",
   "pygments_lexer": "ipython3",
   "version": "3.6.1"
  }
 },
 "nbformat": 4,
 "nbformat_minor": 2
}
