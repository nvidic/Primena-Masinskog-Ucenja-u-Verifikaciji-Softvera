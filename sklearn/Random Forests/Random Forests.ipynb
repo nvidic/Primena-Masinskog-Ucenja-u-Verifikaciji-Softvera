{
 "cells": [
  {
   "cell_type": "code",
   "execution_count": 1,
   "metadata": {},
   "outputs": [],
   "source": [
    "import numpy as np\n",
    "import sklearn as sl\n",
    "from sklearn.ensemble import RandomForestClassifier\n",
    "\n",
    "from sklearn import metrics\n",
    "import pandas as pd\n",
    "\n",
    "# za normalizaciju, standardizaciju\n",
    "from sklearn import preprocessing\n",
    "\n",
    "import matplotlib.pyplot as plt\n",
    "from matplotlib.colors import ListedColormap\n",
    "\n",
    "%matplotlib inline\n",
    "\n",
    "# rad sa arff fajlovima\n",
    "#import arff\n",
    "\n",
    "# graficki prikaz\n",
    "import seaborn as sns\n",
    "sns.set(style=\"white\")\n",
    "sns.set(style=\"whitegrid\", color_codes=True)\n",
    "\n",
    "# \n",
    "#from sklearn.cross_validation import train_test_split\n",
    "from sklearn.model_selection import train_test_split\n",
    "\n",
    "# Cross validation attempts to avoid overfitting while still \n",
    "# producing a prediction for each observation dataset.\n",
    "from sklearn import model_selection\n",
    "from sklearn.model_selection import cross_val_score\n",
    "\n",
    "# Compute precision, recall, F-measure and support\n",
    "# preciznost, odziv, F-mera, podrska\n",
    "\n",
    "# ovi podaci se nalaze u sklearn.model_selection\n",
    "\n",
    "# prognozirani pozitivni/negativni koji su zaista pozitivni od svih prognoziranih pozitivnih/negativnih \n",
    "# The precision is the ratio tp / (tp + fp) where tp is the number \n",
    "# of true positives and fp the number of false positives. \n",
    "# The precision is intuitively the ability of the classifier \n",
    "# to not label a sample as positive if it is negative\n",
    "\n",
    "# odziv\n",
    "# => prognozirani pozitivni/negativni koji su zaista pozitivni od ukupno pozitivnih/negativnih\n",
    "# The recall is the ratio tp / (tp + fn) where tp is the number \n",
    "# of true positives and fn the number of false negatives. \n",
    "# The recall is intuitively the ability of the classifier to find all the positive samples\n",
    "\n",
    "# The F-beta score can be interpreted as a weighted harmonic mean of the precision and recall, \n",
    "# where an F-beta score reaches its best value at 1 and worst score at 0\n",
    "\n",
    "# The F-beta score weights the recall more than the precision by a factor of beta. \n",
    "# beta = 1.0 means recall and precision are equally important\n",
    "\n",
    "# svi koji pripadaju datoj klasi\n",
    "# The support is the number of occurrences of each class in y_test\n",
    "\n",
    "from sklearn.metrics import classification_report\n",
    "\n",
    "# ROC Curve\n",
    "from sklearn.metrics import roc_auc_score\n",
    "from sklearn.metrics import roc_curve\n",
    "\n",
    "# oversampling\n",
    "from imblearn.over_sampling import SMOTE\n",
    "\n",
    "from collections import Counter\n",
    "\n",
    "# feature selection\n",
    "from sklearn.feature_selection import SelectPercentile, f_classif"
   ]
  },
  {
   "cell_type": "code",
   "execution_count": 2,
   "metadata": {},
   "outputs": [
    {
     "name": "stdout",
     "output_type": "stream",
     "text": [
      "(10878, 22)\n"
     ]
    }
   ],
   "source": [
    "from arff2pandas import a2p\n",
    "    \n",
    "with open('JM1.arff') as f:\n",
    "    df = a2p.load(f)\n",
    "\n",
    "print(df.shape)"
   ]
  },
  {
   "cell_type": "code",
   "execution_count": 3,
   "metadata": {},
   "outputs": [
    {
     "name": "stdout",
     "output_type": "stream",
     "text": [
      "(10878, 22)\n"
     ]
    }
   ],
   "source": [
    "# uklanjamo instance koje imaju nedostajuce vrednosti\n",
    "df = df.dropna()\n",
    "print(df.shape)"
   ]
  },
  {
   "cell_type": "code",
   "execution_count": 4,
   "metadata": {},
   "outputs": [
    {
     "data": {
      "text/plain": [
       "pandas.core.frame.DataFrame"
      ]
     },
     "execution_count": 4,
     "metadata": {},
     "output_type": "execute_result"
    }
   ],
   "source": [
    "type(df)"
   ]
  },
  {
   "cell_type": "code",
   "execution_count": 5,
   "metadata": {},
   "outputs": [
    {
     "data": {
      "text/plain": [
       "Index(['LOC_BLANK@NUMERIC', 'BRANCH_COUNT@NUMERIC',\n",
       "       'LOC_CODE_AND_COMMENT@NUMERIC', 'LOC_COMMENTS@NUMERIC',\n",
       "       'CYCLOMATIC_COMPLEXITY@NUMERIC', 'DESIGN_COMPLEXITY@NUMERIC',\n",
       "       'ESSENTIAL_COMPLEXITY@NUMERIC', 'LOC_EXECUTABLE@NUMERIC',\n",
       "       'HALSTEAD_CONTENT@NUMERIC', 'HALSTEAD_DIFFICULTY@NUMERIC',\n",
       "       'HALSTEAD_EFFORT@NUMERIC', 'HALSTEAD_ERROR_EST@NUMERIC',\n",
       "       'HALSTEAD_LENGTH@NUMERIC', 'HALSTEAD_LEVEL@NUMERIC',\n",
       "       'HALSTEAD_PROG_TIME@NUMERIC', 'HALSTEAD_VOLUME@NUMERIC',\n",
       "       'NUM_OPERANDS@NUMERIC', 'NUM_OPERATORS@NUMERIC',\n",
       "       'NUM_UNIQUE_OPERANDS@NUMERIC', 'NUM_UNIQUE_OPERATORS@NUMERIC',\n",
       "       'LOC_TOTAL@NUMERIC', 'Defective@{Y,N}'],\n",
       "      dtype='object')"
      ]
     },
     "execution_count": 5,
     "metadata": {},
     "output_type": "execute_result"
    }
   ],
   "source": [
    "df.columns"
   ]
  },
  {
   "cell_type": "code",
   "execution_count": 6,
   "metadata": {
    "scrolled": true
   },
   "outputs": [],
   "source": [
    "# df"
   ]
  },
  {
   "cell_type": "code",
   "execution_count": 7,
   "metadata": {
    "scrolled": true
   },
   "outputs": [],
   "source": [
    "df = df.drop(columns = ['CYCLOMATIC_COMPLEXITY@NUMERIC', 'DESIGN_COMPLEXITY@NUMERIC', 'ESSENTIAL_COMPLEXITY@NUMERIC', 'BRANCH_COUNT@NUMERIC'])"
   ]
  },
  {
   "cell_type": "code",
   "execution_count": 8,
   "metadata": {},
   "outputs": [
    {
     "data": {
      "text/plain": [
       "Index(['LOC_BLANK@NUMERIC', 'LOC_CODE_AND_COMMENT@NUMERIC',\n",
       "       'LOC_COMMENTS@NUMERIC', 'LOC_EXECUTABLE@NUMERIC',\n",
       "       'HALSTEAD_CONTENT@NUMERIC', 'HALSTEAD_DIFFICULTY@NUMERIC',\n",
       "       'HALSTEAD_EFFORT@NUMERIC', 'HALSTEAD_ERROR_EST@NUMERIC',\n",
       "       'HALSTEAD_LENGTH@NUMERIC', 'HALSTEAD_LEVEL@NUMERIC',\n",
       "       'HALSTEAD_PROG_TIME@NUMERIC', 'HALSTEAD_VOLUME@NUMERIC',\n",
       "       'NUM_OPERANDS@NUMERIC', 'NUM_OPERATORS@NUMERIC',\n",
       "       'NUM_UNIQUE_OPERANDS@NUMERIC', 'NUM_UNIQUE_OPERATORS@NUMERIC',\n",
       "       'LOC_TOTAL@NUMERIC', 'Defective@{Y,N}'],\n",
       "      dtype='object')"
      ]
     },
     "execution_count": 8,
     "metadata": {},
     "output_type": "execute_result"
    }
   ],
   "source": [
    "df.columns"
   ]
  },
  {
   "cell_type": "code",
   "execution_count": 9,
   "metadata": {},
   "outputs": [],
   "source": [
    "# df"
   ]
  },
  {
   "cell_type": "code",
   "execution_count": 10,
   "metadata": {},
   "outputs": [
    {
     "data": {
      "text/plain": [
       "N    8776\n",
       "Y    2102\n",
       "Name: Defective@{Y,N}, dtype: int64"
      ]
     },
     "execution_count": 10,
     "metadata": {},
     "output_type": "execute_result"
    }
   ],
   "source": [
    "df['Defective@{Y,N}'].value_counts()"
   ]
  },
  {
   "cell_type": "code",
   "execution_count": 11,
   "metadata": {},
   "outputs": [
    {
     "data": {
      "image/png": "[encoded data removed]",
      "text/plain": [
       "<Figure size 432x288 with 1 Axes>"
      ]
     },
     "metadata": {
      "needs_background": "light"
     },
     "output_type": "display_data"
    }
   ],
   "source": [
    "sns.countplot(x='Defective@{Y,N}', data=df, palette='hls')\n",
    "plt.show()"
   ]
  },
  {
   "cell_type": "code",
   "execution_count": 12,
   "metadata": {},
   "outputs": [],
   "source": [
    "# Grafik rasporedjenosti instanci po klasama pokazuje da postoji problem neravnomerne raspodele klasa instanci\n",
    "# Posledica ove neravnomerne raspodele je da ce trenirani model dobro klasifikovati instance klase 'N', a lose\n",
    "# klasifikovati instance cija je klasa 'Y'. \n",
    "# Medjutim, problem je u tome sto su instance od znacaja bas instance klase 'Y'\n",
    "# Resenje ovog problema je over-sampling - dodavanje novih instanci koje pripadaju manje zastupljenoj klasi 'Y'\n",
    "# Postoji vise metoda dodavanja novih instanci, a probacemo SMOTE\n"
   ]
  },
  {
   "cell_type": "code",
   "execution_count": 13,
   "metadata": {},
   "outputs": [],
   "source": [
    "# kodiramo Y/N u 1/0\n",
    "df['Defective@{Y,N}'] = pd.factorize(df['Defective@{Y,N}'])[0]"
   ]
  },
  {
   "cell_type": "code",
   "execution_count": 14,
   "metadata": {},
   "outputs": [],
   "source": [
    "# ciljna kolona(defects@{false, true})\n",
    "y_cols=['Defective@{Y,N}']\n",
    "\n",
    "# lista atributa\n",
    "X_cols=[i for i in df.columns if i not in y_cols]"
   ]
  },
  {
   "cell_type": "code",
   "execution_count": 15,
   "metadata": {},
   "outputs": [],
   "source": [
    "X=df[X_cols]\n",
    "y=df[y_cols]"
   ]
  },
  {
   "cell_type": "code",
   "execution_count": 16,
   "metadata": {},
   "outputs": [],
   "source": [
    "np.set_printoptions(suppress='True')"
   ]
  },
  {
   "cell_type": "code",
   "execution_count": 17,
   "metadata": {},
   "outputs": [],
   "source": [
    "# potrebno je izvrsiti normalizaciju podataka kako atributi \n",
    "# sa visokim vrednostima ne bi previse uticali na rezultat klasifikacije \n",
    "X = preprocessing.normalize(X)"
   ]
  },
  {
   "cell_type": "code",
   "execution_count": 18,
   "metadata": {},
   "outputs": [],
   "source": [
    "# type(X)"
   ]
  },
  {
   "cell_type": "code",
   "execution_count": 19,
   "metadata": {},
   "outputs": [],
   "source": [
    "# type(X[0])"
   ]
  },
  {
   "cell_type": "code",
   "execution_count": 20,
   "metadata": {},
   "outputs": [],
   "source": [
    "# X"
   ]
  },
  {
   "cell_type": "code",
   "execution_count": 21,
   "metadata": {},
   "outputs": [
    {
     "data": {
      "text/plain": [
       "array([0.00045302, 0.0000755 , 0.00052852, 0.00218959, 0.00183246,\n",
       "       0.00176149, 0.99748456, 0.00001435, 0.00792782, 0.00000302,\n",
       "       0.05541547, 0.04274908, 0.00264261, 0.00528521, 0.00135906,\n",
       "       0.00181207, 0.00339764])"
      ]
     },
     "execution_count": 21,
     "metadata": {},
     "output_type": "execute_result"
    }
   ],
   "source": [
    "X[1156]"
   ]
  },
  {
   "cell_type": "code",
   "execution_count": 22,
   "metadata": {},
   "outputs": [],
   "source": [
    "y = y.values.ravel()"
   ]
  },
  {
   "cell_type": "code",
   "execution_count": 23,
   "metadata": {},
   "outputs": [],
   "source": [
    "X_train, X_test, y_train, y_test = train_test_split(X, y, test_size=0.4, random_state=42)"
   ]
  },
  {
   "cell_type": "code",
   "execution_count": 24,
   "metadata": {},
   "outputs": [
    {
     "name": "stderr",
     "output_type": "stream",
     "text": [
      "C:\\Users\\Dell\\Anaconda3\\lib\\site-packages\\sklearn\\ensemble\\forest.py:248: FutureWarning: The default value of n_estimators will change from 10 in version 0.20 to 100 in 0.22.\n",
      "  \"10 in version 0.20 to 100 in 0.22.\", FutureWarning)\n"
     ]
    },
    {
     "name": "stdout",
     "output_type": "stream",
     "text": [
      "0.8033088235294118\n"
     ]
    }
   ],
   "source": [
    "clf = RandomForestClassifier(n_jobs=2, random_state=0)\n",
    "clf.fit(X_train, np.ravel(y_train))\n",
    "y_pred = clf.predict(X_test)\n",
    "print(metrics.accuracy_score(y_test, y_pred))"
   ]
  },
  {
   "cell_type": "code",
   "execution_count": 25,
   "metadata": {},
   "outputs": [
    {
     "name": "stdout",
     "output_type": "stream",
     "text": [
      "10-fold cross validation: \n",
      "average accuracy: 0.803705174\n",
      "standard deviation: 0.013605030\n"
     ]
    }
   ],
   "source": [
    "kfold = model_selection.KFold(n_splits=10, random_state=7)\n",
    "modelCV = clf\n",
    "scoring = 'accuracy'\n",
    "results = model_selection.cross_val_score(modelCV, X_train, np.ravel(y_train), cv=kfold, scoring=scoring)\n",
    "print(\"10-fold cross validation: \")\n",
    "print(\"average accuracy: %.9f\" % (results.mean()))\n",
    "print(\"standard deviation: %.9f\" % (results.std()))"
   ]
  },
  {
   "cell_type": "code",
   "execution_count": 26,
   "metadata": {},
   "outputs": [
    {
     "data": {
      "image/png": "[encoded data removed]",
      "text/plain": [
       "<Figure size 648x648 with 2 Axes>"
      ]
     },
     "metadata": {
      "needs_background": "light"
     },
     "output_type": "display_data"
    }
   ],
   "source": [
    "# matrica konfuzije\n",
    "cm = metrics.confusion_matrix(y_test, y_pred)\n",
    "\n",
    "plt.figure(figsize=(9,9))\n",
    "sns.heatmap(cm, annot=True, fmt=\".3f\", linewidths=.5, square = True, cmap = 'viridis');\n",
    "plt.ylabel('Stvarna klasa');\n",
    "plt.xlabel('Predvidjena klasa');\n",
    "all_sample_title = 'Accuracy Score: {0}'.format(metrics.accuracy_score(y_test, y_pred))\n",
    "plt.title(all_sample_title, size = 15);\n",
    "figname = 'RF_basic_data_confussion_matrix.png'\n",
    "plt.savefig(figname)\n",
    "plt.show()"
   ]
  },
  {
   "cell_type": "code",
   "execution_count": 27,
   "metadata": {},
   "outputs": [
    {
     "name": "stdout",
     "output_type": "stream",
     "text": [
      "              precision    recall  f1-score   support\n",
      "\n",
      "           0       0.82      0.96      0.89      3478\n",
      "           1       0.53      0.17      0.26       874\n",
      "\n",
      "   micro avg       0.80      0.80      0.80      4352\n",
      "   macro avg       0.68      0.57      0.57      4352\n",
      "weighted avg       0.76      0.80      0.76      4352\n",
      "\n"
     ]
    }
   ],
   "source": [
    "# preciznost, odziv, f-mera, podrska\n",
    "print(classification_report(y_test, y_pred))"
   ]
  },
  {
   "cell_type": "code",
   "execution_count": 28,
   "metadata": {},
   "outputs": [
    {
     "data": {
      "image/png": "[encoded data removed]",
      "text/plain": [
       "<Figure size 432x288 with 1 Axes>"
      ]
     },
     "metadata": {
      "needs_background": "light"
     },
     "output_type": "display_data"
    }
   ],
   "source": [
    "# The receiver operating characteristic (ROC) curve is \n",
    "# another common tool used with binary classifiers. \n",
    "# The dotted line represents the ROC curve of a purely \n",
    "# random classifier; a good classifier stays as far away \n",
    "# from that line as possible (toward the top-left corner)\n",
    "\n",
    "logit_roc_auc = roc_auc_score(y_test, clf.predict(X_test))\n",
    "fpr, tpr, thresholds = roc_curve(y_test, clf.predict_proba(X_test)[:,1])\n",
    "plt.figure()\n",
    "plt.plot(fpr, tpr, label='Random Forrest (area = %0.2f)' % logit_roc_auc)\n",
    "plt.plot([0, 1], [0, 1],'r--')\n",
    "plt.xlim([0.0, 1.0])\n",
    "plt.ylim([0.0, 1.05])\n",
    "plt.xlabel('False Positive Rate')\n",
    "plt.ylabel('True Positive Rate')\n",
    "plt.title('Receiver operating characteristic (ROC)')\n",
    "plt.legend(loc=\"lower right\")\n",
    "#plt.savefig('Log_ROC')\n",
    "figname = 'RF_basic_data_ROC.png'\n",
    "plt.savefig(figname)\n",
    "plt.show()"
   ]
  },
  {
   "cell_type": "code",
   "execution_count": 29,
   "metadata": {},
   "outputs": [],
   "source": [
    "# oversampling na osnovnim podacima, bez izbora atributa"
   ]
  },
  {
   "cell_type": "code",
   "execution_count": 30,
   "metadata": {},
   "outputs": [],
   "source": [
    "X_resampled, y_resampled = SMOTE(kind=\"svm\").fit_sample(X, y)"
   ]
  },
  {
   "cell_type": "code",
   "execution_count": 31,
   "metadata": {},
   "outputs": [
    {
     "name": "stdout",
     "output_type": "stream",
     "text": [
      "[(0, 8776), (1, 8776)]\n"
     ]
    }
   ],
   "source": [
    "print(sorted(Counter(y_resampled).items()))"
   ]
  },
  {
   "cell_type": "code",
   "execution_count": 32,
   "metadata": {},
   "outputs": [],
   "source": [
    "X_train, X_test, y_train, y_test = train_test_split(X_resampled, y_resampled, test_size=0.4, random_state=42)"
   ]
  },
  {
   "cell_type": "code",
   "execution_count": 33,
   "metadata": {},
   "outputs": [
    {
     "name": "stderr",
     "output_type": "stream",
     "text": [
      "C:\\Users\\Dell\\Anaconda3\\lib\\site-packages\\sklearn\\ensemble\\forest.py:248: FutureWarning: The default value of n_estimators will change from 10 in version 0.20 to 100 in 0.22.\n",
      "  \"10 in version 0.20 to 100 in 0.22.\", FutureWarning)\n"
     ]
    },
    {
     "name": "stdout",
     "output_type": "stream",
     "text": [
      "0.8062953995157385\n"
     ]
    }
   ],
   "source": [
    "clf = RandomForestClassifier(n_jobs=2, random_state=0)\n",
    "clf.fit(X_train, np.ravel(y_train))\n",
    "y_pred = clf.predict(X_test)\n",
    "print(metrics.accuracy_score(y_test, y_pred))"
   ]
  },
  {
   "cell_type": "code",
   "execution_count": 34,
   "metadata": {},
   "outputs": [
    {
     "name": "stdout",
     "output_type": "stream",
     "text": [
      "10-fold cross validation: \n",
      "average accuracy: 0.790333122\n",
      "standard deviation: 0.010653167\n"
     ]
    }
   ],
   "source": [
    "kfold = model_selection.KFold(n_splits=10, random_state=7)\n",
    "modelCV = clf\n",
    "scoring = 'accuracy'\n",
    "results = model_selection.cross_val_score(modelCV, X_train, np.ravel(y_train), cv=kfold, scoring=scoring)\n",
    "print(\"10-fold cross validation: \")\n",
    "print(\"average accuracy: %.9f\" % (results.mean()))\n",
    "print(\"standard deviation: %.9f\" % (results.std()))"
   ]
  },
  {
   "cell_type": "code",
   "execution_count": 35,
   "metadata": {},
   "outputs": [
    {
     "data": {
      "image/png": "[encoded data removed]",
      "text/plain": [
       "<Figure size 648x648 with 2 Axes>"
      ]
     },
     "metadata": {
      "needs_background": "light"
     },
     "output_type": "display_data"
    }
   ],
   "source": [
    "cm = metrics.confusion_matrix(y_test, y_pred)\n",
    "\n",
    "plt.figure(figsize=(9,9))\n",
    "sns.heatmap(cm, annot=True, fmt=\".3f\", linewidths=.5, square = True, cmap = 'viridis');\n",
    "plt.ylabel('Stvarna klasa');\n",
    "plt.xlabel('Predvidjena klasa');\n",
    "all_sample_title = 'Accuracy Score: {0}'.format(metrics.accuracy_score(y_test, y_pred))\n",
    "plt.title(all_sample_title, size = 15);\n",
    "figname = 'RF_oversampled_confussion_matrix.png'\n",
    "plt.savefig(figname)\n",
    "plt.show()"
   ]
  },
  {
   "cell_type": "code",
   "execution_count": 36,
   "metadata": {},
   "outputs": [
    {
     "name": "stdout",
     "output_type": "stream",
     "text": [
      "              precision    recall  f1-score   support\n",
      "\n",
      "           0       0.84      0.76      0.80      3534\n",
      "           1       0.78      0.85      0.81      3487\n",
      "\n",
      "   micro avg       0.81      0.81      0.81      7021\n",
      "   macro avg       0.81      0.81      0.81      7021\n",
      "weighted avg       0.81      0.81      0.81      7021\n",
      "\n"
     ]
    }
   ],
   "source": [
    "print(classification_report(y_test, y_pred))"
   ]
  },
  {
   "cell_type": "code",
   "execution_count": 37,
   "metadata": {},
   "outputs": [
    {
     "data": {
      "image/png": "[encoded data removed]",
      "text/plain": [
       "<Figure size 432x288 with 1 Axes>"
      ]
     },
     "metadata": {
      "needs_background": "light"
     },
     "output_type": "display_data"
    }
   ],
   "source": [
    "logit_roc_auc = roc_auc_score(y_test, clf.predict(X_test))\n",
    "fpr, tpr, thresholds = roc_curve(y_test, clf.predict_proba(X_test)[:,1])\n",
    "plt.figure()\n",
    "plt.plot(fpr, tpr, label='Random Forrest (area = %0.2f)' % logit_roc_auc)\n",
    "plt.plot([0, 1], [0, 1],'r--')\n",
    "plt.xlim([0.0, 1.0])\n",
    "plt.ylim([0.0, 1.05])\n",
    "plt.xlabel('False Positive Rate')\n",
    "plt.ylabel('True Positive Rate')\n",
    "plt.title('Receiver operating characteristic (ROC)')\n",
    "plt.legend(loc=\"lower right\")\n",
    "#plt.savefig('Log_ROC')\n",
    "figname = 'RF_oversampled_ROC.png'\n",
    "plt.savefig(figname)\n",
    "plt.show()"
   ]
  },
  {
   "cell_type": "code",
   "execution_count": 38,
   "metadata": {},
   "outputs": [],
   "source": [
    "# pocetak izbora atributa"
   ]
  },
  {
   "cell_type": "code",
   "execution_count": 39,
   "metadata": {},
   "outputs": [],
   "source": [
    "X_indices = np.arange(X.shape[-1])"
   ]
  },
  {
   "cell_type": "code",
   "execution_count": 40,
   "metadata": {},
   "outputs": [
    {
     "data": {
      "text/plain": [
       "SelectPercentile(percentile=60,\n",
       "         score_func=<function f_classif at 0x000001EB805A1D08>)"
      ]
     },
     "execution_count": 40,
     "metadata": {},
     "output_type": "execute_result"
    }
   ],
   "source": [
    "# Univariate feature selection with F-test for feature scoring\n",
    "# We use the default selection function: the 60% most significant features\n",
    "selector = SelectPercentile(f_classif, percentile=60)\n",
    "selector.fit(X, y)"
   ]
  },
  {
   "cell_type": "code",
   "execution_count": 41,
   "metadata": {},
   "outputs": [],
   "source": [
    "scores = -np.log10(selector.pvalues_)\n",
    "scores /= scores.max()"
   ]
  },
  {
   "cell_type": "code",
   "execution_count": 42,
   "metadata": {},
   "outputs": [
    {
     "data": {
      "text/plain": [
       "<BarContainer object of 17 artists>"
      ]
     },
     "execution_count": 42,
     "metadata": {},
     "output_type": "execute_result"
    },
    {
     "data": {
      "image/png": "[encoded data removed]",
      "text/plain": [
       "<Figure size 432x288 with 1 Axes>"
      ]
     },
     "metadata": {
      "needs_background": "light"
     },
     "output_type": "display_data"
    }
   ],
   "source": [
    "plt.xticks(np.arange(0, len(X_indices)+1, 1.0))\n",
    "plt.bar(X_indices , scores, width=.2, label=r'Univariate score ($-Log(p_{value})$)', color='darkorange',\n",
    "        edgecolor='black')"
   ]
  },
  {
   "cell_type": "code",
   "execution_count": 43,
   "metadata": {},
   "outputs": [
    {
     "data": {
      "text/plain": [
       "Index(['LOC_BLANK@NUMERIC', 'LOC_CODE_AND_COMMENT@NUMERIC',\n",
       "       'LOC_COMMENTS@NUMERIC', 'LOC_EXECUTABLE@NUMERIC',\n",
       "       'HALSTEAD_CONTENT@NUMERIC', 'HALSTEAD_DIFFICULTY@NUMERIC',\n",
       "       'HALSTEAD_EFFORT@NUMERIC', 'HALSTEAD_ERROR_EST@NUMERIC',\n",
       "       'HALSTEAD_LENGTH@NUMERIC', 'HALSTEAD_LEVEL@NUMERIC',\n",
       "       'HALSTEAD_PROG_TIME@NUMERIC', 'HALSTEAD_VOLUME@NUMERIC',\n",
       "       'NUM_OPERANDS@NUMERIC', 'NUM_OPERATORS@NUMERIC',\n",
       "       'NUM_UNIQUE_OPERANDS@NUMERIC', 'NUM_UNIQUE_OPERATORS@NUMERIC',\n",
       "       'LOC_TOTAL@NUMERIC', 'Defective@{Y,N}'],\n",
       "      dtype='object')"
      ]
     },
     "execution_count": 43,
     "metadata": {},
     "output_type": "execute_result"
    }
   ],
   "source": [
    "df.columns"
   ]
  },
  {
   "cell_type": "code",
   "execution_count": 44,
   "metadata": {},
   "outputs": [
    {
     "data": {
      "text/plain": [
       "'NUM_OPERANDS@NUMERIC'"
      ]
     },
     "execution_count": 44,
     "metadata": {},
     "output_type": "execute_result"
    }
   ],
   "source": [
    "df.columns[12]"
   ]
  },
  {
   "cell_type": "code",
   "execution_count": 45,
   "metadata": {},
   "outputs": [
    {
     "data": {
      "text/plain": [
       "1.0"
      ]
     },
     "execution_count": 45,
     "metadata": {},
     "output_type": "execute_result"
    }
   ],
   "source": [
    "scores[11]"
   ]
  },
  {
   "cell_type": "code",
   "execution_count": 46,
   "metadata": {},
   "outputs": [
    {
     "data": {
      "text/plain": [
       "array([0.00104463, 0.00208168, 0.00547834, 0.52152631, 0.61425836,\n",
       "       0.749375  , 0.01989515, 0.50286302, 0.86975329, 0.35091799,\n",
       "       0.02004311, 1.        , 0.83754271, 0.77586396, 0.71235082,\n",
       "       0.60772886, 0.0359282 ])"
      ]
     },
     "execution_count": 46,
     "metadata": {},
     "output_type": "execute_result"
    }
   ],
   "source": [
    "#\n",
    "scores"
   ]
  },
  {
   "cell_type": "code",
   "execution_count": 47,
   "metadata": {},
   "outputs": [
    {
     "data": {
      "text/plain": [
       "array([ 0,  1,  2,  3,  4,  5,  6,  7,  8,  9, 10, 16, 12, 13, 14, 15, 11],\n",
       "      dtype=int64)"
      ]
     },
     "execution_count": 47,
     "metadata": {},
     "output_type": "execute_result"
    }
   ],
   "source": [
    "#\n",
    "np.argpartition(scores, -1)"
   ]
  },
  {
   "cell_type": "code",
   "execution_count": 48,
   "metadata": {},
   "outputs": [],
   "source": [
    "# df.columns[15]"
   ]
  },
  {
   "cell_type": "code",
   "execution_count": 49,
   "metadata": {},
   "outputs": [],
   "source": [
    "# df.columns[19]"
   ]
  },
  {
   "cell_type": "code",
   "execution_count": 50,
   "metadata": {},
   "outputs": [],
   "source": [
    "ind = np.argpartition(scores, -10)[-10:]"
   ]
  },
  {
   "cell_type": "code",
   "execution_count": 51,
   "metadata": {},
   "outputs": [
    {
     "data": {
      "text/plain": [
       "Index(['HALSTEAD_ERROR_EST@NUMERIC', 'LOC_EXECUTABLE@NUMERIC',\n",
       "       'NUM_UNIQUE_OPERATORS@NUMERIC', 'HALSTEAD_DIFFICULTY@NUMERIC',\n",
       "       'HALSTEAD_CONTENT@NUMERIC', 'NUM_OPERANDS@NUMERIC',\n",
       "       'NUM_OPERATORS@NUMERIC', 'NUM_UNIQUE_OPERANDS@NUMERIC',\n",
       "       'HALSTEAD_LENGTH@NUMERIC', 'HALSTEAD_VOLUME@NUMERIC'],\n",
       "      dtype='object')"
      ]
     },
     "execution_count": 51,
     "metadata": {},
     "output_type": "execute_result"
    }
   ],
   "source": [
    "df.columns[ind]"
   ]
  },
  {
   "cell_type": "code",
   "execution_count": 52,
   "metadata": {},
   "outputs": [],
   "source": [
    "X_transformed = selector.transform(X)"
   ]
  },
  {
   "cell_type": "code",
   "execution_count": 53,
   "metadata": {},
   "outputs": [],
   "source": [
    "# kraj izbora atributa"
   ]
  },
  {
   "cell_type": "code",
   "execution_count": 54,
   "metadata": {},
   "outputs": [],
   "source": [
    "# izbor atributa bez oversampling-a"
   ]
  },
  {
   "cell_type": "code",
   "execution_count": 55,
   "metadata": {},
   "outputs": [],
   "source": [
    "X_train, X_test, y_train, y_test = train_test_split(X_transformed, y, test_size=0.4, random_state=42)"
   ]
  },
  {
   "cell_type": "code",
   "execution_count": 56,
   "metadata": {},
   "outputs": [
    {
     "name": "stderr",
     "output_type": "stream",
     "text": [
      "C:\\Users\\Dell\\Anaconda3\\lib\\site-packages\\sklearn\\ensemble\\forest.py:248: FutureWarning: The default value of n_estimators will change from 10 in version 0.20 to 100 in 0.22.\n",
      "  \"10 in version 0.20 to 100 in 0.22.\", FutureWarning)\n"
     ]
    },
    {
     "name": "stdout",
     "output_type": "stream",
     "text": [
      "0.7973345588235294\n"
     ]
    }
   ],
   "source": [
    "clf = RandomForestClassifier(n_jobs=2, random_state=0)\n",
    "clf.fit(X_train, np.ravel(y_train))\n",
    "y_pred = clf.predict(X_test)\n",
    "print(metrics.accuracy_score(y_test, y_pred))"
   ]
  },
  {
   "cell_type": "code",
   "execution_count": 57,
   "metadata": {},
   "outputs": [
    {
     "name": "stdout",
     "output_type": "stream",
     "text": [
      "10-fold cross validation: \n",
      "average accuracy: 0.805699274\n",
      "standard deviation: 0.015845585\n"
     ]
    }
   ],
   "source": [
    "kfold = model_selection.KFold(n_splits=10, random_state=7)\n",
    "modelCV = clf\n",
    "scoring = 'accuracy'\n",
    "results = model_selection.cross_val_score(modelCV, X_train, np.ravel(y_train), cv=kfold, scoring=scoring)\n",
    "print(\"10-fold cross validation: \")\n",
    "print(\"average accuracy: %.9f\" % (results.mean()))\n",
    "print(\"standard deviation: %.9f\" % (results.std()))"
   ]
  },
  {
   "cell_type": "code",
   "execution_count": 58,
   "metadata": {},
   "outputs": [
    {
     "data": {
      "image/png": "[encoded data removed]",
      "text/plain": [
       "<Figure size 648x648 with 2 Axes>"
      ]
     },
     "metadata": {
      "needs_background": "light"
     },
     "output_type": "display_data"
    }
   ],
   "source": [
    "cm = metrics.confusion_matrix(y_test, y_pred)\n",
    "\n",
    "plt.figure(figsize=(9,9))\n",
    "sns.heatmap(cm, annot=True, fmt=\".3f\", linewidths=.5, square = True, cmap = 'viridis');\n",
    "plt.ylabel('Stvarna klasa');\n",
    "plt.xlabel('Predvidjena klasa');\n",
    "all_sample_title = 'Accuracy Score: {0}'.format(metrics.accuracy_score(y_test, y_pred))\n",
    "plt.title(all_sample_title, size = 15);\n",
    "figname = 'RF_feature_selection_confussion_matrix.png'\n",
    "plt.savefig(figname)\n",
    "plt.show()"
   ]
  },
  {
   "cell_type": "code",
   "execution_count": 59,
   "metadata": {},
   "outputs": [
    {
     "name": "stdout",
     "output_type": "stream",
     "text": [
      "              precision    recall  f1-score   support\n",
      "\n",
      "           0       0.82      0.96      0.88      3478\n",
      "           1       0.49      0.16      0.24       874\n",
      "\n",
      "   micro avg       0.80      0.80      0.80      4352\n",
      "   macro avg       0.65      0.56      0.56      4352\n",
      "weighted avg       0.75      0.80      0.75      4352\n",
      "\n"
     ]
    }
   ],
   "source": [
    "print(classification_report(y_test, y_pred))"
   ]
  },
  {
   "cell_type": "code",
   "execution_count": 60,
   "metadata": {},
   "outputs": [
    {
     "data": {
      "image/png": "[encoded data removed]",
      "text/plain": [
       "<Figure size 432x288 with 1 Axes>"
      ]
     },
     "metadata": {
      "needs_background": "light"
     },
     "output_type": "display_data"
    }
   ],
   "source": [
    "logit_roc_auc = roc_auc_score(y_test, clf.predict(X_test))\n",
    "fpr, tpr, thresholds = roc_curve(y_test, clf.predict_proba(X_test)[:,1])\n",
    "plt.figure()\n",
    "plt.plot(fpr, tpr, label='Random Forrest (area = %0.2f)' % logit_roc_auc)\n",
    "plt.plot([0, 1], [0, 1],'r--')\n",
    "plt.xlim([0.0, 1.0])\n",
    "plt.ylim([0.0, 1.05])\n",
    "plt.xlabel('False Positive Rate')\n",
    "plt.ylabel('True Positive Rate')\n",
    "plt.title('Receiver operating characteristic (ROC)')\n",
    "plt.legend(loc=\"lower right\")\n",
    "#plt.savefig('Log_ROC')\n",
    "figname = 'RF_feature_selection_ROC.png'\n",
    "plt.savefig(figname)\n",
    "plt.show()"
   ]
  },
  {
   "cell_type": "code",
   "execution_count": 61,
   "metadata": {},
   "outputs": [],
   "source": [
    "# izbor atributa i oversampling"
   ]
  },
  {
   "cell_type": "code",
   "execution_count": 62,
   "metadata": {},
   "outputs": [],
   "source": [
    "X_resampled, y_resampled = SMOTE(kind=\"svm\").fit_sample(X_transformed, y)"
   ]
  },
  {
   "cell_type": "code",
   "execution_count": 63,
   "metadata": {},
   "outputs": [
    {
     "data": {
      "text/plain": [
       "array([0.000188  , 0.00003289, 0.00004993, 0.00000191, 0.00077435,\n",
       "       0.00573086, 0.00022468, 0.00054967, 0.00003353, 0.0000149 ])"
      ]
     },
     "execution_count": 63,
     "metadata": {},
     "output_type": "execute_result"
    }
   ],
   "source": [
    "X_resampled[0]"
   ]
  },
  {
   "cell_type": "code",
   "execution_count": 64,
   "metadata": {},
   "outputs": [],
   "source": [
    "X_train, X_test, y_train, y_test = train_test_split(X_resampled, y_resampled, test_size=0.4, random_state=42)"
   ]
  },
  {
   "cell_type": "code",
   "execution_count": 65,
   "metadata": {},
   "outputs": [
    {
     "data": {
      "text/plain": [
       "array([0.05392335, 0.12766352, 0.03599383, 0.00013481, 0.12132753,\n",
       "       0.34066074, 0.05392335, 0.06740418, 0.04044251, 0.05392335])"
      ]
     },
     "execution_count": 65,
     "metadata": {},
     "output_type": "execute_result"
    }
   ],
   "source": [
    "X_train[0]"
   ]
  },
  {
   "cell_type": "code",
   "execution_count": 66,
   "metadata": {},
   "outputs": [
    {
     "data": {
      "text/plain": [
       "array([0.02053747, 0.06017478, 0.01369165, 0.00006846, 0.06161241,\n",
       "       0.24069914, 0.02396038, 0.03765203, 0.02396038, 0.02738329])"
      ]
     },
     "execution_count": 66,
     "metadata": {},
     "output_type": "execute_result"
    }
   ],
   "source": [
    "X_test[0]"
   ]
  },
  {
   "cell_type": "code",
   "execution_count": 67,
   "metadata": {},
   "outputs": [
    {
     "name": "stderr",
     "output_type": "stream",
     "text": [
      "C:\\Users\\Dell\\Anaconda3\\lib\\site-packages\\sklearn\\ensemble\\forest.py:248: FutureWarning: The default value of n_estimators will change from 10 in version 0.20 to 100 in 0.22.\n",
      "  \"10 in version 0.20 to 100 in 0.22.\", FutureWarning)\n"
     ]
    },
    {
     "name": "stdout",
     "output_type": "stream",
     "text": [
      "0.7836490528414756\n"
     ]
    }
   ],
   "source": [
    "clf = RandomForestClassifier(n_jobs=2, random_state=0)\n",
    "clf.fit(X_train, np.ravel(y_train))\n",
    "y_pred = clf.predict(X_test)\n",
    "print(metrics.accuracy_score(y_test, y_pred))"
   ]
  },
  {
   "cell_type": "code",
   "execution_count": 68,
   "metadata": {},
   "outputs": [
    {
     "name": "stdout",
     "output_type": "stream",
     "text": [
      "10-fold cross validation: \n",
      "average accuracy: 0.780457841\n",
      "standard deviation: 0.013764770\n"
     ]
    }
   ],
   "source": [
    "kfold = model_selection.KFold(n_splits=10, random_state=7)\n",
    "modelCV = clf\n",
    "scoring = 'accuracy'\n",
    "results = model_selection.cross_val_score(modelCV, X_train, np.ravel(y_train), cv=kfold, scoring=scoring)\n",
    "print(\"10-fold cross validation: \")\n",
    "print(\"average accuracy: %.9f\" % (results.mean()))\n",
    "print(\"standard deviation: %.9f\" % (results.std()))"
   ]
  },
  {
   "cell_type": "code",
   "execution_count": 69,
   "metadata": {},
   "outputs": [
    {
     "data": {
      "image/png": "[encoded data removed]",
      "text/plain": [
       "<Figure size 648x648 with 2 Axes>"
      ]
     },
     "metadata": {
      "needs_background": "light"
     },
     "output_type": "display_data"
    }
   ],
   "source": [
    "cm = metrics.confusion_matrix(y_test, y_pred)\n",
    "\n",
    "plt.figure(figsize=(9,9))\n",
    "sns.heatmap(cm, annot=True, fmt=\".3f\", linewidths=.5, square = True, cmap = 'viridis');\n",
    "plt.ylabel('Stvarna klasa');\n",
    "plt.xlabel('Predvidjena klasa');\n",
    "all_sample_title = 'Accuracy Score: {0}'.format(metrics.accuracy_score(y_test, y_pred))\n",
    "plt.title(all_sample_title, size = 15);\n",
    "figname = 'RF_feature_selection_oversampled_confussion_matrix.png'\n",
    "plt.savefig(figname)\n",
    "plt.show()"
   ]
  },
  {
   "cell_type": "code",
   "execution_count": 70,
   "metadata": {},
   "outputs": [
    {
     "name": "stdout",
     "output_type": "stream",
     "text": [
      "              precision    recall  f1-score   support\n",
      "\n",
      "           0       0.80      0.76      0.78      3534\n",
      "           1       0.77      0.81      0.79      3487\n",
      "\n",
      "   micro avg       0.78      0.78      0.78      7021\n",
      "   macro avg       0.78      0.78      0.78      7021\n",
      "weighted avg       0.78      0.78      0.78      7021\n",
      "\n"
     ]
    }
   ],
   "source": [
    "print(classification_report(y_test, y_pred))"
   ]
  },
  {
   "cell_type": "code",
   "execution_count": 71,
   "metadata": {},
   "outputs": [
    {
     "data": {
      "image/png": "[encoded data removed]",
      "text/plain": [
       "<Figure size 432x288 with 1 Axes>"
      ]
     },
     "metadata": {
      "needs_background": "light"
     },
     "output_type": "display_data"
    }
   ],
   "source": [
    "# The receiver operating characteristic (ROC) curve is \n",
    "# another common tool used with binary classifiers. \n",
    "# The dotted line represents the ROC curve of a purely \n",
    "# random classifier; a good classifier stays as far away \n",
    "# from that line as possible (toward the top-left corner)\n",
    "\n",
    "logit_roc_auc = roc_auc_score(y_test, clf.predict(X_test))\n",
    "fpr, tpr, thresholds = roc_curve(y_test, clf.predict_proba(X_test)[:,1])\n",
    "plt.figure()\n",
    "plt.plot(fpr, tpr, label='Random Forrest (area = %0.2f)' % logit_roc_auc)\n",
    "plt.plot([0, 1], [0, 1],'r--')\n",
    "plt.xlim([0.0, 1.0])\n",
    "plt.ylim([0.0, 1.05])\n",
    "plt.xlabel('False Positive Rate')\n",
    "plt.ylabel('True Positive Rate')\n",
    "plt.title('Receiver operating characteristic (ROC)')\n",
    "plt.legend(loc=\"lower right\")\n",
    "#plt.savefig('Log_ROC')\n",
    "figname = 'RF_feature_selection_oversampled_ROC.png'\n",
    "plt.savefig(figname)\n",
    "plt.show()"
   ]
  },
  {
   "cell_type": "code",
   "execution_count": 72,
   "metadata": {},
   "outputs": [],
   "source": [
    " # clf.predict([15, 51391.5957050955, 34.5, 591.0033506085982, 208, 1773010.0518257946, 46, 162, 16, 24])"
   ]
  },
  {
   "cell_type": "code",
   "execution_count": 73,
   "metadata": {},
   "outputs": [],
   "source": [
    "# new_object = np.array([60, 151, 22, 134, 214109.69314276046, 147.48611111111111, 4657346797.746469, 10526.068664273025, 728, 0.0067802994632262924, 258741488.7636927, 31578205.992819075, 259, 469, 36, 41, 211])\n",
    "\n",
    "# new_object = np.array([15, 38, 0, 15, 51391.5957050955, 34.5, 61168846.787989914, 591.0033506085982, 208, 0.028985507246376812, 3398269.2659994396, 1773010.0518257946, 46, 162, 16, 24, 53])\n",
    "\n",
    "# new_object = np.array([2, 6, 0, 2, 409.10624136968926, 4.0, 6545.699861915028, 0.545474988492919, 12, 0.25, 363.64999232861265, 1636.424965478757, 1, 11, 1, 8, 8])"
   ]
  },
  {
   "cell_type": "code",
   "execution_count": 74,
   "metadata": {},
   "outputs": [],
   "source": [
    "# new_object = preprocessing.normalize(new_object.reshape(1,-1))\n",
    "# print(new_object)"
   ]
  },
  {
   "cell_type": "code",
   "execution_count": 75,
   "metadata": {},
   "outputs": [],
   "source": [
    "# ind"
   ]
  },
  {
   "cell_type": "code",
   "execution_count": 76,
   "metadata": {},
   "outputs": [],
   "source": [
    "# i = np.arange(17)\n",
    "    \n",
    "# print(i)\n",
    "#new_object = np.delete(new_object, !ind)\n",
    "#print(new_object)"
   ]
  },
  {
   "cell_type": "code",
   "execution_count": 77,
   "metadata": {},
   "outputs": [],
   "source": [
    "# new_object = np.delete(new_object, [0, 1, 2, 6, 9, 10, 16])\n",
    "# print(new_object)"
   ]
  },
  {
   "cell_type": "code",
   "execution_count": 78,
   "metadata": {},
   "outputs": [],
   "source": [
    "# new_object = new_object.reshape(1, -1)"
   ]
  },
  {
   "cell_type": "code",
   "execution_count": 79,
   "metadata": {},
   "outputs": [],
   "source": [
    "# r = clf.predict(new_object)"
   ]
  },
  {
   "cell_type": "code",
   "execution_count": 80,
   "metadata": {},
   "outputs": [],
   "source": [
    "# r"
   ]
  },
  {
   "cell_type": "code",
   "execution_count": 81,
   "metadata": {},
   "outputs": [],
   "source": [
    "f = open(\"c_attributes.txt\")"
   ]
  },
  {
   "cell_type": "code",
   "execution_count": 82,
   "metadata": {},
   "outputs": [],
   "source": [
    "instances = f.readlines()"
   ]
  },
  {
   "cell_type": "code",
   "execution_count": 83,
   "metadata": {},
   "outputs": [],
   "source": [
    "# instances"
   ]
  },
  {
   "cell_type": "code",
   "execution_count": 84,
   "metadata": {},
   "outputs": [],
   "source": [
    "f.close()"
   ]
  },
  {
   "cell_type": "code",
   "execution_count": 85,
   "metadata": {},
   "outputs": [],
   "source": [
    "predictions = []"
   ]
  },
  {
   "cell_type": "code",
   "execution_count": 86,
   "metadata": {
    "scrolled": true
   },
   "outputs": [
    {
     "name": "stdout",
     "output_type": "stream",
     "text": [
      "[0.00000001 0.00000002 0.00000001 0.00000001 0.00005257 0.00000006\n",
      " 0.99843415 0.00000241 0.00000025 0.         0.05546856 0.00724487\n",
      " 0.00000008 0.00000016 0.00000001 0.00000001 0.00000003]\n",
      "[0.00000001 0.00000003 0.         0.00000001 0.00005908 0.00000018\n",
      " 0.9984309  0.00000256 0.0000005  0.         0.05546838 0.00768024\n",
      " 0.00000022 0.00000028 0.00000002 0.00000003 0.00000003]\n",
      "[0.00000001 0.00000003 0.         0.00000001 0.00005444 0.00000006\n",
      " 0.99843322 0.00000246 0.00000024 0.         0.05546851 0.0073724\n",
      " 0.0000001  0.00000015 0.00000001 0.00000001 0.00000004]\n",
      "[0.00000005 0.00000089 0.00000007 0.0000007  0.008737   0.00000025\n",
      " 0.99407668 0.00003106 0.00000783 0.         0.05522648 0.09319469\n",
      " 0.00000009 0.00000774 0.00000007 0.00000038 0.00000094]\n",
      "[0.         0.00000001 0.         0.00000001 0.0000262  0.00000003\n",
      " 0.9984473  0.0000017  0.00000012 0.         0.05546929 0.00511419\n",
      " 0.00000003 0.00000009 0.         0.         0.00000001]\n",
      "[0.00000632 0.00001422 0.         0.00000316 0.00835463 0.00001724\n",
      " 0.99426973 0.00003038 0.00007427 0.00000014 0.05523721 0.09114139\n",
      " 0.00002528 0.00004899 0.00001738 0.0000237  0.00002054]\n",
      "[0.00000121 0.00000429 0.00000132 0.00000066 0.00173194 0.00000264\n",
      " 0.99759592 0.00001386 0.00001199 0.         0.055422   0.0415665\n",
      " 0.0000033  0.00000869 0.0000011  0.00000176 0.0000055 ]\n",
      "[0.         0.00000002 0.         0.00000001 0.00006681 0.00000018\n",
      " 0.99842705 0.00000272 0.00000053 0.         0.05546817 0.00816709\n",
      " 0.00000023 0.0000003  0.00000002 0.00000003 0.00000002]\n",
      "[0.00000001 0.00000002 0.         0.00000001 0.00007741 0.00000018\n",
      " 0.99842177 0.00000293 0.00000057 0.         0.05546788 0.00879114\n",
      " 0.00000025 0.00000032 0.00000002 0.00000003 0.00000002]\n",
      "[0.00000001 0.00000003 0.         0.00000001 0.0000651  0.00000017\n",
      " 0.9984279  0.00000269 0.00000051 0.         0.05546822 0.00806184\n",
      " 0.00000022 0.00000029 0.00000002 0.00000003 0.00000003]\n",
      "[0.00000024 0.00000284 0.         0.00000166 0.00167053 0.00000578\n",
      " 0.99762661 0.00001361 0.00001822 0.00000001 0.0554237  0.0408236\n",
      " 0.00000544 0.00001278 0.00000189 0.00000402 0.00000308]\n",
      "[0.00000408 0.00003262 0.00000408 0.00000408 0.01044798 0.00003976\n",
      " 0.9932115  0.00003396 0.00013864 0.00000042 0.05517842 0.10186785\n",
      " 0.0000367  0.00010194 0.00002447 0.00005301 0.0000367 ]\n",
      "[0.         0.00000002 0.         0.00000003 0.00008391 0.00000006\n",
      " 0.99841853 0.00000305 0.00000032 0.         0.0554677  0.00915281\n",
      " 0.0000001  0.00000022 0.00000001 0.00000001 0.00000003]\n",
      "[0.         0.00003225 0.         0.00001173 0.01044798 0.00002859\n",
      " 0.99321151 0.00003396 0.00011434 0.0000003  0.05517842 0.10186785\n",
      " 0.00003811 0.00007623 0.00002346 0.00003518 0.00003225]\n",
      "[0.00000001 0.00000002 0.         0.00000001 0.00004566 0.0000001\n",
      " 0.99843759 0.00000225 0.00000031 0.         0.05546876 0.0067519\n",
      " 0.00000012 0.00000019 0.00000001 0.00000002 0.00000003]\n",
      "[0.00000001 0.00000002 0.         0.00000001 0.00004051 0.00000019\n",
      " 0.99844016 0.00000212 0.00000043 0.         0.0554689  0.00635949\n",
      " 0.00000019 0.00000025 0.00000001 0.00000002 0.00000003]\n",
      "[0.00000001 0.00000002 0.         0.00000001 0.00005131 0.00000018\n",
      " 0.99843478 0.00000239 0.00000048 0.         0.0554686  0.00715724\n",
      " 0.0000002  0.00000028 0.00000001 0.00000002 0.00000002]\n",
      "[0.00000001 0.00000003 0.00000001 0.00000002 0.00009369 0.00000012\n",
      " 0.99841365 0.00000322 0.00000051 0.         0.05546743 0.00967143\n",
      " 0.0000002  0.00000032 0.00000002 0.00000002 0.00000004]\n",
      "[0.00000025 0.00000076 0.00000025 0.00000027 0.00068782 0.00000065\n",
      " 0.99811732 0.00000873 0.00000332 0.         0.05545096 0.0262016\n",
      " 0.0000009  0.00000242 0.00000027 0.00000039 0.00000102]\n",
      "[0.         0.00000001 0.         0.00000001 0.00003069 0.00000003\n",
      " 0.99844505 0.00000185 0.00000013 0.         0.05546917 0.00553593\n",
      " 0.00000003 0.0000001  0.         0.         0.00000001]\n",
      "[0.00000082 0.00001394 0.00000246 0.00000656 0.00389263 0.00001312\n",
      " 0.99651434 0.00002076 0.00004593 0.00000005 0.05536191 0.06228215\n",
      " 0.00001312 0.00003281 0.00000492 0.00000984 0.00001476]\n",
      "[0.00000001 0.00000002 0.         0.00000002 0.00008999 0.00000012\n",
      " 0.9984155  0.00000316 0.00000048 0.         0.05546753 0.00947863\n",
      " 0.00000017 0.00000031 0.00000002 0.00000002 0.00000003]\n",
      "[0.00000094 0.00001226 0.         0.00000377 0.00788966 0.00001059\n",
      " 0.99450433 0.00002953 0.00005566 0.00000008 0.05525024 0.08857933\n",
      " 0.00001793 0.00003774 0.00001038 0.00001226 0.00001321]\n",
      "[0.         0.00000002 0.         0.00000001 0.00005398 0.0000002\n",
      " 0.99843344 0.00000245 0.00000053 0.         0.05546852 0.00734142\n",
      " 0.00000023 0.0000003  0.00000001 0.00000002 0.00000002]\n",
      "[0.00000323 0.00000686 0.         0.00000282 0.00249304 0.00000807\n",
      " 0.99721534 0.00001662 0.00002742 0.00000002 0.05540085 0.04986077\n",
      " 0.00000645 0.00002097 0.00000242 0.00000605 0.00001008]\n",
      "[0.00000308 0.00001386 0.00000231 0.00000616 0.00821768 0.00000847\n",
      " 0.99433884 0.00003013 0.00005237 0.00000007 0.05524105 0.09039444\n",
      " 0.00001078 0.00004159 0.00000539 0.00000847 0.00001694]\n",
      "[0.         0.00000001 0.         0.00000001 0.00002989 0.00000003\n",
      " 0.99844545 0.00000182 0.00000014 0.         0.05546919 0.00546287\n",
      " 0.00000003 0.00000011 0.         0.00000001 0.00000001]\n",
      "[0.         0.00000007 0.         0.00000006 0.00023182 0.0000001\n",
      " 0.99834478 0.00000507 0.00000072 0.         0.0554636  0.01521287\n",
      " 0.00000007 0.00000065 0.00000001 0.00000003 0.00000007]\n",
      "[0.00000676 0.00002027 0.         0.0000045  0.0089094  0.00002379\n",
      " 0.9939896  0.00003137 0.0000946  0.00000021 0.05522164 0.09410552\n",
      " 0.00002928 0.00006532 0.00001802 0.00002928 0.00002703]\n",
      "[0.00000001 0.00000003 0.00000001 0.00000001 0.00005828 0.0000001\n",
      " 0.9984313  0.00000254 0.00000036 0.         0.05546841 0.00762846\n",
      " 0.00000014 0.00000022 0.00000001 0.00000002 0.00000004]\n",
      "[0.00000027 0.00000064 0.00000002 0.00000042 0.00049022 0.0000011\n",
      " 0.99821591 0.00000737 0.00000394 0.         0.05545644 0.02212113\n",
      " 0.00000093 0.00000301 0.0000002  0.00000047 0.00000091]\n",
      "[0.00000013 0.00000034 0.00000015 0.00000016 0.00089324 0.00000009\n",
      " 0.99801481 0.00000995 0.00000126 0.         0.05544527 0.02985751\n",
      " 0.00000025 0.00000101 0.00000007 0.00000005 0.00000047]\n",
      "[0.0000001  0.00000025 0.00000011 0.00000012 0.00085042 0.00000005\n",
      " 0.99803618 0.00000971 0.00000093 0.         0.05544645 0.0291333\n",
      " 0.00000019 0.00000074 0.00000005 0.00000003 0.00000034]\n",
      "[0.00000012 0.0000003  0.00000014 0.00000014 0.00087663 0.00000007\n",
      " 0.9980231  0.00000986 0.00000113 0.         0.05544573 0.02957861\n",
      " 0.00000022 0.00000091 0.00000006 0.00000004 0.00000042]\n",
      "[0.0000002  0.00000051 0.00000022 0.00000024 0.00096738 0.00000017\n",
      " 0.9979778  0.00001036 0.00000189 0.         0.05544321 0.03107121\n",
      " 0.00000037 0.00000152 0.00000011 0.0000001  0.00000071]\n",
      "[0.00000028 0.00000074 0.0000003  0.00000034 0.0010564  0.00000029\n",
      " 0.99793336 0.00001082 0.0000027  0.         0.05544074 0.03246865\n",
      " 0.00000052 0.00000218 0.00000016 0.00000018 0.00000102]\n",
      "[0.00000009 0.00000024 0.00000011 0.00000012 0.00085042 0.00000005\n",
      " 0.99803618 0.00000971 0.00000092 0.         0.05544645 0.0291333\n",
      " 0.00000018 0.00000074 0.00000005 0.00000003 0.00000033]\n",
      "[0.00000009 0.00000022 0.0000001  0.00000011 0.0008399  0.00000005\n",
      " 0.99804143 0.00000965 0.00000085 0.         0.05544675 0.02895271\n",
      " 0.00000017 0.00000068 0.00000005 0.00000003 0.00000031]\n",
      "[0.00000011 0.00000027 0.00000012 0.00000013 0.00086253 0.00000006\n",
      " 0.99803014 0.00000978 0.00000102 0.         0.05544612 0.02933991\n",
      " 0.0000002  0.00000082 0.00000006 0.00000003 0.00000038]\n",
      "[0.00000017 0.00000044 0.00000019 0.00000021 0.00093731 0.00000013\n",
      " 0.99799281 0.00001019 0.00000163 0.         0.05544405 0.03058472\n",
      " 0.00000032 0.00000131 0.00000009 0.00000008 0.00000061]\n",
      "[0.00000015 0.00000038 0.00000017 0.00000018 0.00091312 0.00000011\n",
      " 0.99800489 0.00001006 0.00000143 0.         0.05544472 0.03018769\n",
      " 0.00000028 0.00000115 0.00000008 0.00000006 0.00000053]\n",
      "[0.00000036 0.00000093 0.00000037 0.00000042 0.00112623 0.00000041\n",
      " 0.9978985  0.00001117 0.00000337 0.         0.05543881 0.03352403\n",
      " 0.00000064 0.00000273 0.00000021 0.00000026 0.00000129]\n",
      "[0.00000023 0.00000061 0.00000026 0.00000028 0.00100575 0.00000022\n",
      " 0.99795864 0.00001056 0.00000223 0.         0.05544215 0.03168123\n",
      " 0.00000043 0.0000018  0.00000013 0.00000013 0.00000084]\n",
      "[0.00000009 0.00000022 0.0000001  0.00000011 0.0008399  0.00000005\n",
      " 0.99804143 0.00000965 0.00000084 0.         0.05544675 0.02895271\n",
      " 0.00000017 0.00000067 0.00000005 0.00000002 0.00000031]\n"
     ]
    },
    {
     "name": "stdout",
     "output_type": "stream",
     "text": [
      "[0.00000014 0.00000118 0.00000007 0.00000061 0.00067089 0.00000138\n",
      " 0.99812577 0.00000863 0.00000492 0.         0.05545143 0.02587733\n",
      " 0.00000143 0.0000035  0.0000005  0.00000096 0.00000132]\n",
      "[0.00000261 0.00000915 0.         0.00000261 0.00239635 0.00001333\n",
      " 0.99726371 0.0000163  0.00003528 0.00000003 0.05540354 0.04888548\n",
      " 0.00000784 0.00002744 0.00000327 0.00001111 0.00001176]\n",
      "[0.00000017 0.00000046 0.         0.00000031 0.00024955 0.00000083\n",
      " 0.99833594 0.00000526 0.00000237 0.         0.05546311 0.01578397\n",
      " 0.0000006  0.00000177 0.0000001  0.00000029 0.00000063]\n",
      "[0.0000001  0.00000062 0.         0.00000037 0.00049595 0.00000093\n",
      " 0.99821305 0.00000742 0.00000353 0.         0.05545628 0.02224994\n",
      " 0.00000098 0.00000256 0.00000023 0.00000044 0.00000073]\n",
      "[0.00000005 0.00000075 0.         0.00000031 0.00036919 0.00000135\n",
      " 0.99827628 0.0000064  0.00000372 0.         0.05545979 0.01919762\n",
      " 0.00000101 0.0000027  0.00000023 0.00000062 0.00000081]\n",
      "[0.00000005 0.00000072 0.         0.0000003  0.00035096 0.00000133\n",
      " 0.99828537 0.00000624 0.00000359 0.         0.0554603  0.01871785\n",
      " 0.000001   0.0000026  0.00000022 0.0000006  0.00000077]\n",
      "[0.00000001 0.00000022 0.         0.00000012 0.00006617 0.00000049\n",
      " 0.99842737 0.00000271 0.00000092 0.         0.05546819 0.00812831\n",
      " 0.00000027 0.00000066 0.00000002 0.00000009 0.00000023]\n",
      "[0.00000008 0.00000082 0.00000019 0.00000023 0.00024157 0.00000132\n",
      " 0.99833992 0.00000518 0.00000298 0.         0.05546333 0.01552973\n",
      " 0.00000074 0.00000224 0.00000014 0.00000051 0.00000091]\n",
      "[0.00000009 0.00000097 0.         0.00000043 0.00040131 0.00000152\n",
      " 0.99826026 0.00000667 0.0000042  0.         0.0554589  0.02001524\n",
      " 0.00000116 0.00000304 0.00000024 0.00000064 0.00000107]\n",
      "[0.00000022 0.00000153 0.00000027 0.00000049 0.00054939 0.00000234\n",
      " 0.99818639 0.00000781 0.00000619 0.         0.0554548  0.02341786\n",
      " 0.0000017  0.00000449 0.00000044 0.00000121 0.00000175]\n",
      "[0.00000011 0.00000068 0.         0.00000037 0.00038214 0.00000134\n",
      " 0.99826982 0.00000651 0.00000378 0.         0.05545943 0.01953137\n",
      " 0.00000105 0.00000273 0.00000024 0.0000006  0.00000079]\n",
      "[0.00000009 0.00000097 0.         0.00000043 0.00040131 0.00000152\n",
      " 0.99826026 0.00000667 0.0000042  0.         0.0554589  0.02001524\n",
      " 0.00000116 0.00000304 0.00000024 0.00000064 0.00000107]\n",
      "[0.00000019 0.00000089 0.         0.00000037 0.00049295 0.00000167\n",
      " 0.99821455 0.00000739 0.00000478 0.         0.05545636 0.02218255\n",
      " 0.00000133 0.00000345 0.00000037 0.00000093 0.00000107]\n",
      "[0.00000009 0.00000097 0.         0.00000043 0.00040131 0.00000152\n",
      " 0.99826026 0.00000667 0.0000042  0.         0.0554589  0.02001524\n",
      " 0.00000116 0.00000304 0.00000024 0.00000064 0.00000107]\n",
      "[0.00000013 0.00000125 0.         0.00000059 0.00043477 0.00000316\n",
      " 0.99824356 0.00000694 0.00000653 0.         0.05545798 0.02083291\n",
      " 0.00000165 0.00000488 0.0000004  0.00000152 0.00000139]\n",
      "[0.00000004 0.00000032 0.         0.00000021 0.00035206 0.00000041\n",
      " 0.99828482 0.00000625 0.00000188 0.         0.05546027 0.01874713\n",
      " 0.00000054 0.00000133 0.00000011 0.00000016 0.00000036]\n",
      "[0.00000013 0.00000086 0.         0.00000032 0.00046768 0.00000125\n",
      " 0.99822715 0.0000072  0.00000402 0.         0.05545706 0.02160665\n",
      " 0.00000113 0.00000288 0.00000027 0.00000059 0.000001  ]\n",
      "[0.00000002 0.00000054 0.00000009 0.00000019 0.00016504 0.00000084\n",
      " 0.99837808 0.00000428 0.00000191 0.         0.05546545 0.01283629\n",
      " 0.0000006  0.0000013  0.0000001  0.00000027 0.00000056]\n",
      "[0.00000002 0.00000027 0.         0.00000015 0.00007983 0.00000059\n",
      " 0.99842056 0.00000298 0.00000112 0.         0.05546781 0.00892775\n",
      " 0.00000032 0.0000008  0.00000003 0.00000012 0.00000028]\n",
      "[0.0000002  0.00000143 0.         0.00000068 0.00047519 0.00000313\n",
      " 0.99822341 0.00000726 0.00000682 0.         0.05545686 0.02177942\n",
      " 0.0000017  0.00000511 0.00000041 0.0000015  0.00000164]\n",
      "[0.00000002 0.00000027 0.         0.00000015 0.00007983 0.00000059\n",
      " 0.99842056 0.00000298 0.00000112 0.         0.05546781 0.00892775\n",
      " 0.00000032 0.0000008  0.00000003 0.00000012 0.00000028]\n",
      "[0.00000005 0.00000069 0.         0.00000033 0.00035096 0.00000146\n",
      " 0.99828537 0.00000624 0.00000378 0.         0.0554603  0.01871785\n",
      " 0.0000011  0.00000269 0.00000025 0.00000066 0.00000074]\n",
      "[0.00000001 0.00000027 0.         0.00000013 0.00015445 0.00000052\n",
      " 0.99838336 0.00000414 0.00000143 0.         0.05546574 0.0124177\n",
      " 0.00000043 0.00000099 0.00000006 0.00000016 0.00000029]\n",
      "[0.00000015 0.0000011  0.         0.00000055 0.00062384 0.00000199\n",
      " 0.99814925 0.00000832 0.00000593 0.         0.05545274 0.02495373\n",
      " 0.00000159 0.00000433 0.0000005  0.00000125 0.00000125]\n",
      "[0.00000003 0.00000027 0.         0.00000018 0.00032644 0.00000033\n",
      " 0.99829759 0.00000602 0.0000016  0.         0.05546098 0.0180524\n",
      " 0.00000047 0.00000113 0.00000009 0.00000012 0.0000003 ]\n",
      "[0.00000002 0.00000019 0.         0.00000013 0.00027248 0.00000021\n",
      " 0.9983245  0.0000055  0.00000114 0.         0.05546247 0.01649321\n",
      " 0.00000034 0.0000008  0.00000006 0.00000007 0.00000021]\n",
      "[0.00000002 0.00000024 0.         0.00000016 0.00030626 0.00000027\n",
      " 0.99830766 0.00000583 0.00000139 0.         0.05546154 0.01748541\n",
      " 0.00000041 0.00000098 0.00000008 0.0000001  0.00000026]\n",
      "[0.00000007 0.0000007  0.         0.00000036 0.00021697 0.00000153\n",
      " 0.99835218 0.00000491 0.00000312 0.         0.05546401 0.01471772\n",
      " 0.00000084 0.00000228 0.00000014 0.0000005  0.00000077]\n",
      "[0.00000012 0.00000078 0.         0.00000032 0.0004279  0.00000118\n",
      " 0.99824699 0.00000689 0.00000372 0.         0.05545817 0.02066764\n",
      " 0.00000103 0.00000269 0.00000024 0.00000056 0.00000091]\n",
      "[0.00000008 0.00000042 0.         0.00000025 0.00018267 0.00000115\n",
      " 0.99836929 0.0000045  0.00000242 0.         0.05546496 0.01350451\n",
      " 0.0000007  0.00000172 0.00000011 0.00000036 0.0000005 ]\n",
      "[0.00000001 0.00000002 0.00000002 0.00000001 0.00001828 0.00000004\n",
      " 0.99845124 0.00000142 0.00000012 0.         0.05546951 0.00427236\n",
      " 0.00000005 0.00000008 0.         0.00000001 0.00000003]\n",
      "[0.00000015 0.00000143 0.         0.00000053 0.00053158 0.00000327\n",
      " 0.99819527 0.00000768 0.00000747 0.         0.05545529 0.02303528\n",
      " 0.00000196 0.00000551 0.00000045 0.00000151 0.00000158]\n",
      "[0.00000001 0.00000027 0.         0.00000013 0.00014994 0.00000052\n",
      " 0.99838561 0.00000408 0.0000014  0.         0.05546587 0.01223512\n",
      " 0.00000043 0.00000097 0.00000006 0.00000015 0.00000028]\n",
      "[0.00000024 0.00000114 0.         0.00000043 0.00070976 0.00000177\n",
      " 0.99810637 0.00000887 0.00000591 0.         0.05545035 0.02661617\n",
      " 0.00000156 0.00000435 0.00000052 0.00000118 0.00000137]\n",
      "[0.00000003 0.00000041 0.         0.00000022 0.00012372 0.0000009\n",
      " 0.99839868 0.0000037  0.00000176 0.         0.05546659 0.0111139\n",
      " 0.00000049 0.00000127 0.00000006 0.00000022 0.00000044]\n",
      "[0.00000019 0.00000158 0.         0.00000074 0.00077012 0.00000334\n",
      " 0.99807626 0.00000924 0.00000901 0.         0.05544868 0.02772434\n",
      " 0.00000223 0.00000678 0.00000065 0.00000195 0.00000176]\n",
      "[0.00000012 0.00000072 0.         0.00000039 0.00031194 0.0000017\n",
      " 0.99830483 0.00000588 0.00000394 0.         0.05546138 0.0176468\n",
      " 0.00000108 0.00000286 0.00000021 0.00000066 0.00000084]\n",
      "[0.00000028 0.00000124 0.         0.00000068 0.00076304 0.00000205\n",
      " 0.99807979 0.0000092  0.00000679 0.         0.05544888 0.02759668\n",
      " 0.00000175 0.00000503 0.00000051 0.00000119 0.00000153]\n",
      "[0.00000003 0.00000019 0.00000003 0.0000001  0.00013633 0.00000031\n",
      " 0.99839239 0.00000389 0.000001   0.         0.05546624 0.01166661\n",
      " 0.00000032 0.00000067 0.00000005 0.00000009 0.00000022]\n",
      "[0.00000002 0.00000033 0.         0.00000018 0.0000982  0.00000072\n",
      " 0.9984114  0.0000033  0.00000139 0.         0.0554673  0.0099016\n",
      " 0.00000039 0.000001   0.00000004 0.00000016 0.00000035]\n",
      "[0.00000001 0.00000022 0.         0.00000012 0.00006617 0.00000049\n",
      " 0.99842737 0.00000271 0.00000092 0.         0.05546819 0.00812831\n",
      " 0.00000027 0.00000066 0.00000002 0.00000009 0.00000023]\n",
      "[0.00000019 0.00000233 0.00000037 0.00000074 0.00072347 0.00000346\n",
      " 0.99809953 0.00000896 0.00000894 0.         0.05544997 0.02687191\n",
      " 0.00000242 0.00000652 0.00000065 0.00000186 0.00000251]\n",
      "[0.00000007 0.00000075 0.         0.00000034 0.00034971 0.00000182\n",
      " 0.99828599 0.00000623 0.00000433 0.         0.05546033 0.0186845\n",
      " 0.00000116 0.00000317 0.00000024 0.00000075 0.00000082]\n"
     ]
    },
    {
     "name": "stdout",
     "output_type": "stream",
     "text": [
      "[0.00000005 0.00000028 0.00000004 0.00000014 0.00018695 0.00000043\n",
      " 0.99836715 0.00000455 0.00000139 0.         0.05546484 0.01366187\n",
      " 0.00000045 0.00000095 0.00000008 0.00000015 0.00000032]\n",
      "[0.00000001 0.00000025 0.         0.00000012 0.00013819 0.00000051\n",
      " 0.99839147 0.00000392 0.00000132 0.         0.05546619 0.01174578\n",
      " 0.00000041 0.00000092 0.00000006 0.00000015 0.00000026]\n",
      "[0.00000026 0.00000168 0.         0.00000062 0.00064673 0.00000347\n",
      " 0.99813783 0.00000847 0.00000838 0.         0.0554521  0.02540714\n",
      " 0.00000221 0.00000617 0.00000062 0.00000194 0.00000194]\n",
      "[0.00000025 0.00000159 0.         0.00000059 0.00070976 0.00000314\n",
      " 0.99810637 0.00000887 0.00000821 0.         0.05545035 0.02661617\n",
      " 0.00000209 0.00000612 0.00000067 0.00000201 0.00000184]\n",
      "[0.0000002  0.00000143 0.         0.00000068 0.00047519 0.00000313\n",
      " 0.99822341 0.00000726 0.00000682 0.         0.05545686 0.02177942\n",
      " 0.0000017  0.00000511 0.00000041 0.0000015  0.00000164]\n",
      "[0.00000009 0.00000097 0.         0.00000043 0.00040131 0.00000152\n",
      " 0.99826026 0.00000667 0.0000042  0.         0.0554589  0.02001524\n",
      " 0.00000116 0.00000304 0.00000024 0.00000064 0.00000107]\n",
      "[0.00000007 0.00000064 0.         0.00000026 0.00035808 0.00000093\n",
      " 0.99828181 0.0000063  0.000003   0.         0.0554601  0.01890685\n",
      " 0.00000085 0.00000215 0.00000018 0.00000039 0.00000071]\n",
      "[0.0000001  0.00000107 0.         0.00000047 0.00044243 0.00000158\n",
      " 0.99823974 0.00000701 0.00000454 0.         0.05545776 0.02101557\n",
      " 0.00000127 0.00000327 0.00000027 0.00000067 0.00000117]\n",
      "[0.00000012 0.00000072 0.         0.00000039 0.00031194 0.0000017\n",
      " 0.99830483 0.00000588 0.00000394 0.         0.05546138 0.0176468\n",
      " 0.00000108 0.00000286 0.00000021 0.00000066 0.00000084]\n",
      "[0.00000017 0.00000167 0.         0.00000058 0.00059173 0.00000343\n",
      " 0.99816527 0.0000081  0.00000794 0.         0.05545363 0.02430315\n",
      " 0.00000209 0.00000585 0.00000058 0.00000192 0.00000184]\n",
      "[0.00000025 0.0000016  0.         0.00000059 0.00064205 0.00000332\n",
      " 0.99814016 0.00000844 0.00000808 0.         0.05545223 0.02531515\n",
      " 0.00000194 0.00000615 0.00000059 0.00000202 0.00000185]\n",
      "[0.00000003 0.00000025 0.         0.00000017 0.000303   0.00000031\n",
      " 0.99830929 0.0000058  0.00000148 0.         0.05546163 0.01739215\n",
      " 0.00000044 0.00000105 0.00000008 0.00000011 0.00000028]\n",
      "[0.00000002 0.00000021 0.         0.00000014 0.00028996 0.00000022\n",
      " 0.99831579 0.00000567 0.00000122 0.         0.05546199 0.0170139\n",
      " 0.00000036 0.00000086 0.00000006 0.00000008 0.00000022]\n",
      "[0.00000029 0.00000244 0.         0.000001   0.00082255 0.00000499\n",
      " 0.99805009 0.00000955 0.00001161 0.         0.05544723 0.02865216\n",
      " 0.00000272 0.00000888 0.00000086 0.00000315 0.00000272]\n",
      "[0.00000003 0.00000029 0.         0.0000002  0.0003241  0.00000038\n",
      " 0.99829876 0.000006   0.00000173 0.         0.05546104 0.01798737\n",
      " 0.0000005  0.00000122 0.0000001  0.00000014 0.00000033]\n",
      "[0.00000006 0.00000085 0.         0.00000038 0.00039058 0.00000159\n",
      " 0.99826561 0.00000658 0.00000414 0.         0.0554592  0.01974591\n",
      " 0.0000011  0.00000304 0.00000028 0.00000082 0.00000091]\n",
      "[0.00000009 0.00000097 0.         0.00000043 0.00040131 0.00000152\n",
      " 0.99826026 0.00000667 0.0000042  0.         0.0554589  0.02001524\n",
      " 0.00000116 0.00000304 0.00000024 0.00000064 0.00000107]\n",
      "[0.00000026 0.00000168 0.         0.00000062 0.00064673 0.00000347\n",
      " 0.99813783 0.00000847 0.00000838 0.         0.0554521  0.02540714\n",
      " 0.00000221 0.00000617 0.00000062 0.00000194 0.00000194]\n",
      "[0.0000001  0.0000008  0.00000016 0.00000023 0.00024157 0.00000132\n",
      " 0.99833992 0.00000518 0.00000298 0.         0.05546333 0.01552973\n",
      " 0.00000074 0.00000224 0.00000014 0.00000051 0.00000091]\n",
      "[0.00000001 0.00000002 0.00000002 0.00000001 0.00002164 0.00000004\n",
      " 0.99844956 0.00000155 0.00000012 0.         0.05546942 0.00464865\n",
      " 0.00000005 0.00000008 0.         0.00000001 0.00000003]\n",
      "[0.00000004 0.00000039 0.         0.00000025 0.00038554 0.00000052\n",
      " 0.99826812 0.00000654 0.00000225 0.         0.05545934 0.01961827\n",
      " 0.00000065 0.00000161 0.00000013 0.00000022 0.00000043]\n",
      "[0.00000011 0.00000097 0.         0.00000049 0.00030907 0.00000213\n",
      " 0.99830626 0.00000586 0.00000445 0.         0.05546146 0.01756551\n",
      " 0.00000116 0.00000329 0.00000022 0.00000082 0.00000109]\n",
      "[0.00000002 0.00000033 0.         0.00000018 0.0000982  0.00000072\n",
      " 0.9984114  0.0000033  0.00000139 0.         0.0554673  0.0099016\n",
      " 0.00000039 0.000001   0.00000004 0.00000016 0.00000035]\n",
      "[0.00000002 0.00000022 0.         0.00000015 0.00028618 0.00000025\n",
      " 0.99831767 0.00000563 0.00000129 0.         0.05546209 0.01690273\n",
      " 0.00000038 0.00000091 0.00000007 0.00000009 0.00000024]\n",
      "[0.00000013 0.00000072 0.         0.00000045 0.00051327 0.00000117\n",
      " 0.99820441 0.00000755 0.00000408 0.         0.0554558  0.02263502\n",
      " 0.00000111 0.00000297 0.00000027 0.00000056 0.00000085]\n",
      "[0.00000009 0.00000054 0.         0.00000035 0.00043823 0.00000083\n",
      " 0.99824184 0.00000697 0.00000312 0.         0.05545788 0.02091554\n",
      " 0.00000087 0.00000225 0.00000019 0.00000037 0.00000063]\n",
      "[0.00000009 0.00000097 0.         0.00000043 0.00040131 0.00000152\n",
      " 0.99826026 0.00000667 0.0000042  0.         0.0554589  0.02001524\n",
      " 0.00000116 0.00000304 0.00000024 0.00000064 0.00000107]\n",
      "[0.00000005 0.00000079 0.         0.0000003  0.00040198 0.00000136\n",
      " 0.99825992 0.00000668 0.00000391 0.         0.05545888 0.02003197\n",
      " 0.00000107 0.00000285 0.00000025 0.00000063 0.00000085]\n",
      "[0.00000004 0.00000053 0.         0.00000028 0.00016065 0.00000116\n",
      " 0.99838027 0.00000422 0.0000023  0.         0.05546557 0.01266444\n",
      " 0.00000063 0.00000167 0.00000009 0.00000032 0.00000057]\n",
      "[0.00000019 0.00000135 0.         0.00000064 0.00055449 0.00000272\n",
      " 0.99818385 0.00000784 0.00000679 0.         0.05545466 0.02352622\n",
      " 0.00000173 0.00000506 0.00000045 0.00000141 0.00000154]\n",
      "[0.00000006 0.00000043 0.         0.00000028 0.00038759 0.00000062\n",
      " 0.9982671  0.00000656 0.00000249 0.         0.05545928 0.01967029\n",
      " 0.00000071 0.00000178 0.00000015 0.00000026 0.00000049]\n",
      "[0.00000015 0.00000171 0.         0.00000052 0.00071452 0.00000278\n",
      " 0.998104   0.0000089  0.00000774 0.         0.05545022 0.02670512\n",
      " 0.00000193 0.0000058  0.0000006  0.00000171 0.00000186]\n",
      "[0.00000017 0.00000133 0.         0.00000066 0.0005614  0.0000035\n",
      " 0.9981804  0.00000789 0.00000789 0.         0.05545447 0.02367226\n",
      " 0.00000191 0.00000598 0.0000005  0.00000183 0.00000149]\n",
      "[0.00000009 0.00000097 0.         0.00000043 0.00040131 0.00000152\n",
      " 0.99826026 0.00000667 0.0000042  0.         0.0554589  0.02001524\n",
      " 0.00000116 0.00000304 0.00000024 0.00000064 0.00000107]\n",
      "[0.00000004 0.00000053 0.         0.00000028 0.00016065 0.00000116\n",
      " 0.99838027 0.00000422 0.0000023  0.         0.05546557 0.01266444\n",
      " 0.00000063 0.00000167 0.00000009 0.00000032 0.00000057]\n",
      "[0.00000005 0.00000028 0.00000004 0.00000014 0.00018695 0.00000043\n",
      " 0.99836715 0.00000455 0.00000139 0.         0.05546484 0.01366187\n",
      " 0.00000045 0.00000095 0.00000008 0.00000015 0.00000033]\n",
      "[0.00000023 0.00000138 0.         0.00000054 0.0005471  0.00000328\n",
      " 0.99818753 0.00000779 0.00000744 0.         0.05545486 0.02336894\n",
      " 0.00000199 0.00000545 0.00000054 0.00000176 0.00000161]\n",
      "[0.00000004 0.00000035 0.         0.00000023 0.0003513  0.00000048\n",
      " 0.9982852  0.00000624 0.00000205 0.         0.05546029 0.01872685\n",
      " 0.00000059 0.00000146 0.00000012 0.00000019 0.00000039]\n",
      "[0.00000022 0.00000101 0.         0.00000062 0.00063437 0.00000174\n",
      " 0.99814399 0.00000839 0.00000567 0.         0.05545244 0.02516329\n",
      " 0.00000149 0.00000418 0.0000004  0.00000092 0.00000123]\n",
      "[0.00000011 0.00000097 0.         0.00000049 0.00030907 0.00000213\n",
      " 0.99830626 0.00000586 0.00000445 0.         0.05546146 0.01756551\n",
      " 0.00000116 0.00000329 0.00000022 0.00000082 0.00000109]\n",
      "[0.00000072 0.00000287 0.         0.00000108 0.00100575 0.00000565\n",
      " 0.99795864 0.00001056 0.00001381 0.00000001 0.05544215 0.03168123\n",
      " 0.00000323 0.00001058 0.00000108 0.00000377 0.00000359]\n",
      "[0.00000017 0.0000014  0.         0.00000058 0.00058968 0.0000034\n",
      " 0.99816629 0.00000809 0.00000785 0.         0.05545368 0.02426099\n",
      " 0.00000198 0.00000586 0.00000058 0.00000198 0.00000157]\n",
      "[0.00000019 0.0000015  0.00000031 0.00000044 0.00057437 0.00000261\n",
      " 0.99817393 0.00000798 0.0000067  0.         0.05545411 0.0239442\n",
      " 0.00000182 0.00000488 0.0000005  0.00000144 0.00000169]\n",
      "[0.00000008 0.00000077 0.         0.00000033 0.00040198 0.00000136\n",
      " 0.99825992 0.00000668 0.00000391 0.         0.05545888 0.02003197\n",
      " 0.00000107 0.00000285 0.00000025 0.00000063 0.00000085]\n"
     ]
    },
    {
     "name": "stdout",
     "output_type": "stream",
     "text": [
      "[0.00000007 0.0000007  0.         0.00000036 0.00021697 0.00000153\n",
      " 0.99835218 0.00000491 0.00000312 0.         0.05546401 0.01471772\n",
      " 0.00000084 0.00000228 0.00000014 0.0000005  0.00000077]\n",
      "[0.00000003 0.00000041 0.         0.00000022 0.00012372 0.0000009\n",
      " 0.99839868 0.0000037  0.00000176 0.         0.05546659 0.0111139\n",
      " 0.00000049 0.00000127 0.00000006 0.00000022 0.00000044]\n",
      "[0.00000003 0.00000103 0.00000013 0.00000033 0.00039299 0.00000126\n",
      " 0.9982644  0.0000066  0.00000368 0.         0.05545913 0.01980683\n",
      " 0.00000105 0.00000263 0.00000025 0.0000006  0.00000105]\n",
      "[0.00000007 0.00000048 0.         0.0000003  0.00043102 0.00000068\n",
      " 0.99824544 0.00000691 0.00000277 0.         0.05545808 0.02074276\n",
      " 0.00000078 0.00000199 0.00000017 0.0000003  0.00000055]\n",
      "[0.00000016 0.00000085 0.         0.00000049 0.00059524 0.00000133\n",
      " 0.99816351 0.00000813 0.00000473 0.         0.05545353 0.02437518\n",
      " 0.00000127 0.00000345 0.00000033 0.00000068 0.00000101]\n",
      "[0.00000043 0.00000229 0.         0.000001   0.00082255 0.00000499\n",
      " 0.99805009 0.00000955 0.00001161 0.         0.05544723 0.02865216\n",
      " 0.00000272 0.00000888 0.00000086 0.00000315 0.00000272]\n",
      "[0.00000007 0.0000008  0.         0.00000036 0.00037122 0.00000189\n",
      " 0.99827526 0.00000642 0.00000455 0.         0.05545974 0.01925049\n",
      " 0.0000012  0.00000335 0.00000025 0.0000008  0.00000087]\n",
      "[0.00000033 0.00000191 0.00000008 0.00000066 0.00085704 0.00000283\n",
      " 0.99803288 0.00000975 0.00000864 0.         0.05544627 0.02924638\n",
      " 0.00000216 0.00000648 0.00000066 0.00000174 0.00000224]\n",
      "[0.00000013 0.00000083 0.         0.00000033 0.0004466  0.00000157\n",
      " 0.99823766 0.00000704 0.00000446 0.         0.05545765 0.02111431\n",
      " 0.00000123 0.00000323 0.0000003  0.00000077 0.00000097]\n",
      "[0.00000009 0.00000097 0.         0.00000043 0.00040131 0.00000152\n",
      " 0.99826026 0.00000667 0.0000042  0.         0.0554589  0.02001524\n",
      " 0.00000116 0.00000304 0.00000024 0.00000064 0.00000107]\n",
      "[0.00000001 0.00000003 0.         0.00000001 0.00003169 0.00000006\n",
      " 0.99844456 0.00000188 0.00000019 0.         0.05546914 0.00562504\n",
      " 0.00000007 0.00000012 0.00000001 0.00000001 0.00000004]\n",
      "[0.00000001 0.00000003 0.         0.00000001 0.00003291 0.00000006\n",
      " 0.99844395 0.00000191 0.0000002  0.         0.05546911 0.00573269\n",
      " 0.00000007 0.00000013 0.00000001 0.00000001 0.00000004]\n",
      "[0.00000001 0.00000003 0.         0.00000001 0.00005061 0.00000014\n",
      " 0.99843513 0.00000237 0.0000004  0.         0.05546862 0.00710825\n",
      " 0.00000017 0.00000024 0.00000001 0.00000002 0.00000003]\n",
      "[0.         0.00000001 0.         0.00000001 0.00002128 0.00000002\n",
      " 0.99844974 0.00000154 0.00000009 0.         0.05546943 0.00460988\n",
      " 0.00000003 0.00000006 0.         0.         0.00000002]\n",
      "[0.         0.00000002 0.         0.00000001 0.0000355  0.00000012\n",
      " 0.99844266 0.00000198 0.00000031 0.         0.05546904 0.00595345\n",
      " 0.00000012 0.00000018 0.00000001 0.00000002 0.00000002]\n",
      "[0.00000001 0.00000004 0.00000001 0.00000001 0.00009143 0.00000015\n",
      " 0.99841478 0.00000318 0.00000057 0.         0.05546749 0.00955421\n",
      " 0.00000024 0.00000032 0.00000002 0.00000003 0.00000005]\n",
      "[0.         0.00000002 0.         0.00000001 0.00002825 0.00000003\n",
      " 0.99844627 0.00000177 0.00000011 0.         0.05546924 0.00531088\n",
      " 0.00000004 0.00000007 0.         0.         0.00000002]\n",
      "[0.         0.00000002 0.         0.00000001 0.00002732 0.00000002\n",
      " 0.99844674 0.00000174 0.0000001  0.         0.05546926 0.00522276\n",
      " 0.00000004 0.00000007 0.         0.         0.00000002]\n",
      "[0.00000001 0.00000003 0.         0.00000001 0.00003698 0.00000011\n",
      " 0.99844192 0.00000203 0.0000003  0.         0.055469   0.00607666\n",
      " 0.00000012 0.00000018 0.00000001 0.00000002 0.00000004]\n",
      "[0.         0.00000001 0.         0.         0.0000126  0.00000002\n",
      " 0.99845407 0.00000118 0.00000007 0.         0.05546967 0.00354665\n",
      " 0.00000002 0.00000004 0.         0.         0.00000001]\n",
      "[0.         0.00000002 0.         0.00000001 0.0000355  0.00000012\n",
      " 0.99844266 0.00000198 0.00000031 0.         0.05546904 0.00595345\n",
      " 0.00000012 0.00000018 0.00000001 0.00000002 0.00000002]\n",
      "[0.         0.00000002 0.         0.00000001 0.00003415 0.00000002\n",
      " 0.99844333 0.00000195 0.00000011 0.         0.05546907 0.00583885\n",
      " 0.00000004 0.00000008 0.         0.00000001 0.00000002]\n",
      "[0.         0.00000002 0.         0.00000001 0.0000355  0.00000012\n",
      " 0.99844266 0.00000198 0.00000031 0.         0.05546904 0.00595345\n",
      " 0.00000012 0.00000018 0.00000001 0.00000002 0.00000002]\n",
      "[0.00000001 0.00000002 0.         0.00000001 0.000035   0.00000018\n",
      " 0.9984429  0.00000197 0.00000039 0.         0.05546905 0.00591183\n",
      " 0.00000017 0.00000022 0.00000001 0.00000002 0.00000003]\n",
      "[0.         0.00000001 0.         0.         0.00001297 0.00000002\n",
      " 0.99845389 0.0000012  0.00000007 0.         0.05546966 0.00359803\n",
      " 0.00000002 0.00000005 0.         0.         0.00000001]\n",
      "[0.00000001 0.00000002 0.         0.00000001 0.00003775 0.00000006\n",
      " 0.99844154 0.00000205 0.00000022 0.         0.05546897 0.00613928\n",
      " 0.00000008 0.00000014 0.00000001 0.00000001 0.00000003]\n",
      "[0.00000001 0.00000003 0.00000001 0.00000001 0.00003069 0.00000002\n",
      " 0.99844505 0.00000185 0.00000011 0.         0.05546917 0.00553585\n",
      " 0.00000004 0.00000007 0.         0.         0.00000003]\n",
      "[0.         0.00000001 0.         0.00000001 0.00002115 0.00000002\n",
      " 0.99844981 0.00000153 0.00000008 0.         0.05546943 0.0045951\n",
      " 0.00000003 0.00000006 0.         0.         0.00000002]\n",
      "[0.00000001 0.00000003 0.         0.00000001 0.00006871 0.00000019\n",
      " 0.9984261  0.00000276 0.00000056 0.         0.05546812 0.00828257\n",
      " 0.00000024 0.00000032 0.00000002 0.00000003 0.00000004]\n",
      "[0.00000001 0.00000003 0.         0.00000001 0.00003169 0.00000006\n",
      " 0.99844456 0.00000188 0.00000019 0.         0.05546914 0.00562504\n",
      " 0.00000007 0.00000012 0.00000001 0.00000001 0.00000004]\n",
      "[0.         0.00000002 0.         0.00000001 0.00005089 0.00000005\n",
      " 0.99843499 0.00000238 0.00000021 0.         0.05546861 0.00712791\n",
      " 0.00000008 0.00000013 0.00000001 0.00000001 0.00000003]\n",
      "[0.00000001 0.00000002 0.         0.00000001 0.00003812 0.00000006\n",
      " 0.99844135 0.00000206 0.00000022 0.         0.05546896 0.00616923\n",
      " 0.00000008 0.00000014 0.00000001 0.00000001 0.00000003]\n",
      "[0.         0.00000001 0.         0.         0.00001739 0.00000003\n",
      " 0.99845169 0.00000139 0.0000001  0.         0.05546954 0.00416683\n",
      " 0.00000003 0.00000006 0.         0.         0.00000002]\n",
      "[0.00000001 0.00000002 0.         0.00000001 0.00002493 0.00000005\n",
      " 0.99844793 0.00000166 0.00000016 0.         0.05546933 0.0049893\n",
      " 0.00000006 0.0000001  0.         0.00000001 0.00000003]\n",
      "[0.         0.00000002 0.         0.00000001 0.00002768 0.00000002\n",
      " 0.99844656 0.00000175 0.0000001  0.         0.05546925 0.00525689\n",
      " 0.00000004 0.00000007 0.         0.         0.00000002]\n",
      "[0.         0.00000001 0.         0.00000001 0.00003923 0.00000002\n",
      " 0.9984408  0.00000209 0.00000011 0.         0.05546893 0.00625811\n",
      " 0.00000004 0.00000007 0.00000001 0.         0.00000001]\n",
      "[0.00000001 0.00000003 0.         0.00000001 0.00003783 0.00000012\n",
      " 0.9984415  0.00000205 0.00000031 0.         0.05546897 0.00614571\n",
      " 0.00000013 0.00000018 0.00000001 0.00000002 0.00000003]\n",
      "[0.         0.00000002 0.         0.00000001 0.00003655 0.00000002\n",
      " 0.99844213 0.00000201 0.00000011 0.         0.05546901 0.00604084\n",
      " 0.00000004 0.00000007 0.00000001 0.00000001 0.00000002]\n",
      "[0.         0.00000001 0.         0.00000001 0.00002101 0.00000002\n",
      " 0.99844988 0.00000153 0.00000008 0.         0.05546944 0.00458042\n",
      " 0.00000003 0.00000006 0.         0.         0.00000002]\n",
      "[0.00000001 0.00000003 0.00000001 0.00000001 0.00009123 0.00000018\n",
      " 0.99841488 0.00000318 0.00000062 0.         0.05546749 0.00954367\n",
      " 0.00000027 0.00000035 0.00000002 0.00000003 0.00000005]\n",
      "[0.00000001 0.00000002 0.         0.00000001 0.00004163 0.00000006\n",
      " 0.9984396  0.00000215 0.00000023 0.         0.05546887 0.00644732\n",
      " 0.00000009 0.00000014 0.00000001 0.00000001 0.00000003]\n",
      "[0.00000001 0.00000003 0.         0.00000001 0.00003296 0.00000011\n",
      " 0.99844392 0.00000191 0.00000028 0.         0.05546911 0.00573692\n",
      " 0.00000011 0.00000016 0.00000001 0.00000002 0.00000004]\n",
      "[0.         0.00000002 0.         0.00000001 0.00002865 0.00000003\n",
      " 0.99844607 0.00000178 0.00000011 0.         0.05546923 0.00534882\n",
      " 0.00000004 0.00000007 0.         0.         0.00000002]\n"
     ]
    },
    {
     "name": "stdout",
     "output_type": "stream",
     "text": [
      "[0.00000001 0.00000002 0.         0.00000001 0.00004221 0.00000002\n",
      " 0.99843931 0.00000216 0.00000013 0.         0.05546885 0.00649148\n",
      " 0.00000004 0.00000009 0.00000001 0.00000001 0.00000002]\n",
      "[0.00000001 0.00000003 0.         0.00000001 0.00004975 0.00000014\n",
      " 0.99843555 0.00000235 0.0000004  0.         0.05546864 0.00704778\n",
      " 0.00000017 0.00000023 0.00000001 0.00000002 0.00000003]\n",
      "[0.00000001 0.00000003 0.         0.00000001 0.00003169 0.00000006\n",
      " 0.99844456 0.00000188 0.00000019 0.         0.05546914 0.00562504\n",
      " 0.00000007 0.00000012 0.00000001 0.00000001 0.00000004]\n",
      "[0.         0.00000001 0.         0.         0.00001714 0.00000003\n",
      " 0.99845181 0.00000138 0.00000009 0.         0.05546955 0.00413642\n",
      " 0.00000003 0.00000006 0.         0.         0.00000002]\n",
      "[0.00000015 0.00000073 0.         0.00000012 0.00035289 0.00000081\n",
      " 0.99828441 0.00000626 0.00000277 0.         0.05546024 0.01876915\n",
      " 0.00000056 0.00000221 0.00000012 0.00000035 0.00000088]\n",
      "[0.00000041 0.00000235 0.         0.00000028 0.00097798 0.0000022\n",
      " 0.99797251 0.00001041 0.00000794 0.         0.05544292 0.03124088\n",
      " 0.00000173 0.00000621 0.00000062 0.00000159 0.00000276]\n",
      "[0.00000041 0.00000235 0.         0.00000028 0.00097798 0.0000022\n",
      " 0.99797251 0.00001041 0.00000794 0.         0.05544292 0.03124088\n",
      " 0.00000173 0.00000621 0.00000062 0.00000159 0.00000276]\n",
      "[0.00000013 0.00000061 0.         0.00000014 0.00031834 0.00000072\n",
      " 0.99830164 0.00000594 0.00000244 0.         0.0554612  0.01782681\n",
      " 0.00000054 0.0000019  0.00000012 0.00000031 0.00000074]\n",
      "[0.00000013 0.00000061 0.         0.00000014 0.00031834 0.00000072\n",
      " 0.99830164 0.00000594 0.00000244 0.         0.0554612  0.01782681\n",
      " 0.00000054 0.0000019  0.00000012 0.00000031 0.00000074]\n",
      "[0.00000041 0.00000235 0.         0.00000028 0.00097798 0.0000022\n",
      " 0.99797251 0.00001041 0.00000794 0.         0.05544292 0.03124088\n",
      " 0.00000173 0.00000621 0.00000062 0.00000159 0.00000276]\n",
      "[0.00000083 0.00000485 0.00000014 0.00000055 0.00183223 0.00000323\n",
      " 0.9975458  0.00001425 0.00001358 0.00000001 0.05541921 0.04275196\n",
      " 0.00000291 0.00001067 0.00000125 0.00000277 0.00000568]\n",
      "[0.00000015 0.00000073 0.         0.00000012 0.00035289 0.00000081\n",
      " 0.99828441 0.00000626 0.00000277 0.         0.05546024 0.01876915\n",
      " 0.00000056 0.00000221 0.00000012 0.00000035 0.00000088]\n",
      "[0.00000083 0.00000485 0.00000014 0.00000055 0.00183223 0.00000323\n",
      " 0.9975458  0.00001425 0.00001358 0.00000001 0.05541921 0.04275196\n",
      " 0.00000291 0.00001067 0.00000125 0.00000277 0.00000568]\n",
      "[0.0000001  0.00000049 0.         0.00000014 0.00024374 0.00000065\n",
      " 0.99833884 0.0000052  0.00000202 0.         0.05546327 0.01559904\n",
      " 0.00000049 0.00000154 0.00000009 0.00000024 0.00000059]\n",
      "[0.00000083 0.00000485 0.00000014 0.00000055 0.00183223 0.00000323\n",
      " 0.9975458  0.00001425 0.00001358 0.00000001 0.05541921 0.04275196\n",
      " 0.00000291 0.00001067 0.00000125 0.00000277 0.00000568]\n",
      "[0.00000083 0.00000485 0.00000014 0.00000055 0.00183223 0.00000323\n",
      " 0.9975458  0.00001425 0.00001358 0.00000001 0.05541921 0.04275196\n",
      " 0.00000291 0.00001067 0.00000125 0.00000277 0.00000568]\n",
      "[0.00000083 0.00000485 0.00000014 0.00000055 0.00183223 0.00000323\n",
      " 0.9975458  0.00001425 0.00001358 0.00000001 0.05541921 0.04275196\n",
      " 0.00000291 0.00001067 0.00000125 0.00000277 0.00000568]\n",
      "[0.00000041 0.00000235 0.         0.00000028 0.00097798 0.0000022\n",
      " 0.99797251 0.00001041 0.00000794 0.         0.05544292 0.03124088\n",
      " 0.00000173 0.00000621 0.00000062 0.00000159 0.00000276]\n",
      "[0.00000041 0.00000235 0.         0.00000028 0.00097798 0.0000022\n",
      " 0.99797251 0.00001041 0.00000794 0.         0.05544292 0.03124088\n",
      " 0.00000173 0.00000621 0.00000062 0.00000159 0.00000276]\n",
      "[0.0000001  0.00000049 0.         0.00000014 0.00024374 0.00000065\n",
      " 0.99833884 0.0000052  0.00000202 0.         0.05546327 0.01559904\n",
      " 0.00000049 0.00000154 0.00000009 0.00000024 0.00000059]\n",
      "[0.0000001  0.00000049 0.         0.00000014 0.00024374 0.00000065\n",
      " 0.99833884 0.0000052  0.00000202 0.         0.05546327 0.01559904\n",
      " 0.00000049 0.00000154 0.00000009 0.00000024 0.00000059]\n",
      "[0.00000041 0.00000235 0.         0.00000028 0.00097798 0.0000022\n",
      " 0.99797251 0.00001041 0.00000794 0.         0.05544292 0.03124088\n",
      " 0.00000173 0.00000621 0.00000062 0.00000159 0.00000276]\n",
      "[0.00000013 0.00000061 0.         0.00000014 0.00031834 0.00000072\n",
      " 0.99830164 0.00000594 0.00000244 0.         0.0554612  0.01782681\n",
      " 0.00000054 0.0000019  0.00000012 0.00000031 0.00000074]\n",
      "[0.0000001  0.00000049 0.         0.00000014 0.00024374 0.00000065\n",
      " 0.99833884 0.0000052  0.00000202 0.         0.05546327 0.01559904\n",
      " 0.00000049 0.00000154 0.00000009 0.00000024 0.00000059]\n",
      "[0.00000015 0.00000073 0.         0.00000012 0.00035289 0.00000081\n",
      " 0.99828441 0.00000626 0.00000277 0.         0.05546024 0.01876915\n",
      " 0.00000056 0.00000221 0.00000012 0.00000035 0.00000088]\n",
      "[0.00000015 0.00000073 0.         0.00000012 0.00035289 0.00000081\n",
      " 0.99828441 0.00000626 0.00000277 0.         0.05546024 0.01876915\n",
      " 0.00000056 0.00000221 0.00000012 0.00000035 0.00000088]\n",
      "[0.00000015 0.00000073 0.         0.00000012 0.00035289 0.00000081\n",
      " 0.99828441 0.00000626 0.00000277 0.         0.05546024 0.01876915\n",
      " 0.00000056 0.00000221 0.00000012 0.00000035 0.00000088]\n",
      "[0.0000001  0.00000049 0.         0.00000014 0.00024374 0.00000065\n",
      " 0.99833884 0.0000052  0.00000202 0.         0.05546327 0.01559904\n",
      " 0.00000049 0.00000154 0.00000009 0.00000024 0.00000059]\n",
      "[0.00000013 0.00000061 0.         0.00000014 0.00031834 0.00000072\n",
      " 0.99830164 0.00000594 0.00000244 0.         0.0554612  0.01782681\n",
      " 0.00000054 0.0000019  0.00000012 0.00000031 0.00000074]\n",
      "[0.00000083 0.00000485 0.00000014 0.00000055 0.00183223 0.00000323\n",
      " 0.9975458  0.00001425 0.00001358 0.00000001 0.05541921 0.04275196\n",
      " 0.00000291 0.00001067 0.00000125 0.00000277 0.00000568]\n",
      "[0.00000083 0.00000485 0.00000014 0.00000055 0.00183223 0.00000323\n",
      " 0.9975458  0.00001425 0.00001358 0.00000001 0.05541921 0.04275196\n",
      " 0.00000291 0.00001067 0.00000125 0.00000277 0.00000568]\n",
      "[0.00000041 0.00000235 0.         0.00000028 0.00097798 0.0000022\n",
      " 0.99797251 0.00001041 0.00000794 0.         0.05544292 0.03124088\n",
      " 0.00000173 0.00000621 0.00000062 0.00000159 0.00000276]\n",
      "[0.00000013 0.00000061 0.         0.00000014 0.00031834 0.00000072\n",
      " 0.99830164 0.00000594 0.00000244 0.         0.0554612  0.01782681\n",
      " 0.00000054 0.0000019  0.00000012 0.00000031 0.00000074]\n",
      "[0.00000083 0.00000485 0.00000014 0.00000055 0.00183223 0.00000323\n",
      " 0.9975458  0.00001425 0.00001358 0.00000001 0.05541921 0.04275196\n",
      " 0.00000291 0.00001067 0.00000125 0.00000277 0.00000568]\n",
      "[0.00000015 0.00000073 0.         0.00000012 0.00035289 0.00000081\n",
      " 0.99828441 0.00000626 0.00000277 0.         0.05546024 0.01876915\n",
      " 0.00000056 0.00000221 0.00000012 0.00000035 0.00000088]\n",
      "[0.00000015 0.00000073 0.         0.00000012 0.00035289 0.00000081\n",
      " 0.99828441 0.00000626 0.00000277 0.         0.05546024 0.01876915\n",
      " 0.00000056 0.00000221 0.00000012 0.00000035 0.00000088]\n",
      "[0.0000001  0.00000049 0.         0.00000014 0.00024374 0.00000065\n",
      " 0.99833884 0.0000052  0.00000202 0.         0.05546327 0.01559904\n",
      " 0.00000049 0.00000154 0.00000009 0.00000024 0.00000059]\n",
      "[0.00000013 0.00000061 0.         0.00000014 0.00031834 0.00000072\n",
      " 0.99830164 0.00000594 0.00000244 0.         0.0554612  0.01782681\n",
      " 0.00000054 0.0000019  0.00000012 0.00000031 0.00000074]\n",
      "[0.0000001  0.00000049 0.         0.00000014 0.00024374 0.00000065\n",
      " 0.99833884 0.0000052  0.00000202 0.         0.05546327 0.01559904\n",
      " 0.00000049 0.00000154 0.00000009 0.00000024 0.00000059]\n",
      "[0.0000001  0.00000049 0.         0.00000014 0.00024374 0.00000065\n",
      " 0.99833884 0.0000052  0.00000202 0.         0.05546327 0.01559904\n",
      " 0.00000049 0.00000154 0.00000009 0.00000024 0.00000059]\n",
      "[0.00000015 0.00000073 0.         0.00000012 0.00035289 0.00000081\n",
      " 0.99828441 0.00000626 0.00000277 0.         0.05546024 0.01876915\n",
      " 0.00000056 0.00000221 0.00000012 0.00000035 0.00000088]\n",
      "[0.00000013 0.00000061 0.         0.00000014 0.00031834 0.00000072\n",
      " 0.99830164 0.00000594 0.00000244 0.         0.0554612  0.01782681\n",
      " 0.00000054 0.0000019  0.00000012 0.00000031 0.00000074]\n",
      "[0.00000041 0.00000235 0.         0.00000028 0.00097798 0.0000022\n",
      " 0.99797251 0.00001041 0.00000794 0.         0.05544292 0.03124088\n",
      " 0.00000173 0.00000621 0.00000062 0.00000159 0.00000276]\n"
     ]
    },
    {
     "name": "stdout",
     "output_type": "stream",
     "text": [
      "[0.00000013 0.00000061 0.         0.00000014 0.00031834 0.00000072\n",
      " 0.99830164 0.00000594 0.00000244 0.         0.0554612  0.01782681\n",
      " 0.00000054 0.0000019  0.00000012 0.00000031 0.00000074]\n",
      "[0.00000005 0.00000053 0.00000008 0.00000026 0.00025888 0.00000078\n",
      " 0.99833129 0.00000536 0.0000023  0.         0.05546285 0.01607619\n",
      " 0.00000068 0.00000163 0.00000013 0.00000029 0.00000058]\n",
      "[0.00000014 0.00000103 0.00000017 0.00000046 0.00041766 0.0000014\n",
      " 0.9982521  0.00000681 0.00000406 0.         0.05545845 0.02041879\n",
      " 0.00000114 0.00000292 0.00000026 0.00000063 0.00000117]\n",
      "[0.00000015 0.00000083 0.         0.00000046 0.00043935 0.00000146\n",
      " 0.99824128 0.00000698 0.00000427 0.         0.05545785 0.02094212\n",
      " 0.0000012  0.00000307 0.00000028 0.00000068 0.00000098]\n",
      "[0.00000005 0.00000053 0.00000008 0.00000026 0.00025888 0.00000078\n",
      " 0.99833129 0.00000536 0.0000023  0.         0.05546285 0.01607619\n",
      " 0.00000068 0.00000163 0.00000013 0.00000029 0.00000058]\n",
      "[0.00000002 0.00000013 0.         0.00000006 0.00009467 0.00000021\n",
      " 0.99841316 0.00000324 0.00000066 0.         0.0554674  0.00972238\n",
      " 0.00000018 0.00000048 0.00000003 0.00000006 0.00000015]\n",
      "[0.00000004 0.00000035 0.         0.00000015 0.00020153 0.00000045\n",
      " 0.99835988 0.00000473 0.00000146 0.         0.05546444 0.01418435\n",
      " 0.00000039 0.00000107 0.00000008 0.00000019 0.00000039]\n",
      "[0.00000001 0.00000006 0.         0.00000003 0.00005566 0.0000001\n",
      " 0.99843261 0.00000248 0.00000034 0.         0.05546848 0.00745496\n",
      " 0.0000001  0.00000025 0.00000001 0.00000002 0.00000007]\n",
      "[0.00000011 0.00000063 0.00000002 0.00000029 0.00036219 0.00000118\n",
      " 0.99827977 0.00000634 0.00000339 0.         0.05545999 0.01901485\n",
      " 0.00000094 0.00000245 0.00000022 0.00000056 0.00000074]\n",
      "[0.00000015 0.00000113 0.         0.00000041 0.00058085 0.00000156\n",
      " 0.9981707  0.00000803 0.000005   0.         0.05545393 0.02407868\n",
      " 0.00000143 0.00000357 0.00000041 0.0000009  0.00000128]\n",
      "[0.00000008 0.00000051 0.         0.00000021 0.00023762 0.00000089\n",
      " 0.99834189 0.00000513 0.0000023  0.         0.05546344 0.01540219\n",
      " 0.00000063 0.00000167 0.00000015 0.00000042 0.00000059]\n",
      "[0.00000005 0.00000035 0.         0.00000011 0.00020584 0.00000039\n",
      " 0.99835773 0.00000478 0.00000137 0.         0.05546432 0.01433539\n",
      " 0.00000037 0.000001   0.00000008 0.00000017 0.00000039]\n",
      "[0.00000015 0.00000084 0.00000003 0.00000039 0.00041239 0.00000147\n",
      " 0.99825473 0.00000676 0.0000041  0.         0.0554586  0.02028973\n",
      " 0.00000123 0.00000287 0.0000003  0.00000072 0.00000099]\n",
      "[0.00000017 0.00000132 0.00000004 0.00000047 0.00047175 0.00000195\n",
      " 0.99822512 0.00000723 0.00000518 0.         0.05545695 0.02170055\n",
      " 0.00000136 0.00000382 0.00000034 0.00000098 0.00000149]\n",
      "[0.00000009 0.00000055 0.         0.00000022 0.00027731 0.00000103\n",
      " 0.9983221  0.00000555 0.00000275 0.         0.05546234 0.0166387\n",
      " 0.00000069 0.00000206 0.00000015 0.00000046 0.00000064]\n",
      "[0.00000006 0.00000041 0.         0.00000014 0.0002308  0.00000052\n",
      " 0.99834529 0.00000506 0.0000017  0.         0.05546363 0.01517952\n",
      " 0.00000045 0.00000124 0.0000001  0.00000024 0.00000047]\n",
      "[0.00000004 0.00000029 0.         0.00000012 0.00017172 0.00000046\n",
      " 0.99837475 0.00000436 0.00000137 0.         0.05546526 0.01309344\n",
      " 0.00000037 0.000001   0.00000007 0.00000018 0.00000033]\n",
      "[0.00000003 0.00000021 0.         0.00000009 0.00012016 0.00000026\n",
      " 0.99840045 0.00000365 0.00000083 0.         0.05546669 0.01095292\n",
      " 0.00000022 0.00000061 0.00000004 0.00000008 0.00000023]\n",
      "[0.00000008 0.00000049 0.         0.00000019 0.00022762 0.00000085\n",
      " 0.99834687 0.00000502 0.0000022  0.         0.05546372 0.01507456\n",
      " 0.00000061 0.0000016  0.00000014 0.0000004  0.00000057]\n",
      "[0.00000016 0.00000096 0.         0.00000044 0.0003838  0.00000204\n",
      " 0.99826899 0.00000652 0.00000477 0.         0.05545939 0.0195739\n",
      " 0.00000136 0.00000341 0.00000032 0.00000096 0.00000112]\n",
      "[0.00000008 0.00000048 0.         0.0000002  0.00025153 0.00000095\n",
      " 0.99833495 0.00000528 0.0000025  0.         0.05546305 0.01584659\n",
      " 0.00000063 0.00000187 0.00000014 0.00000041 0.00000056]\n",
      "[0.00000014 0.00000096 0.         0.00000039 0.00039436 0.00000179\n",
      " 0.99826372 0.00000661 0.00000451 0.         0.0554591  0.01984127\n",
      " 0.00000124 0.00000327 0.00000028 0.00000082 0.0000011 ]\n",
      "[0.00000023 0.00000138 0.00000006 0.00000057 0.00061358 0.00000231\n",
      " 0.99815437 0.00000825 0.00000648 0.         0.05545302 0.02474763\n",
      " 0.00000189 0.00000459 0.00000052 0.00000126 0.00000161]\n",
      "[0.00000004 0.00000029 0.         0.00000009 0.00018735 0.00000031\n",
      " 0.99836696 0.00000456 0.00000114 0.         0.05546483 0.01367626\n",
      " 0.00000031 0.00000083 0.00000006 0.00000013 0.00000033]\n",
      "[0.00000008 0.00000049 0.         0.00000019 0.00022762 0.00000085\n",
      " 0.99834687 0.00000502 0.0000022  0.         0.05546372 0.01507456\n",
      " 0.00000061 0.0000016  0.00000014 0.0000004  0.00000057]\n",
      "[0.00000005 0.00000036 0.00000005 0.00000017 0.00022919 0.00000052\n",
      " 0.99834609 0.00000504 0.00000174 0.         0.05546367 0.01512646\n",
      " 0.00000057 0.00000117 0.00000009 0.00000017 0.00000041]\n",
      "[0.00000006 0.00000048 0.         0.0000002  0.00027731 0.00000063\n",
      " 0.9983221  0.00000555 0.00000205 0.         0.05546234 0.0166387\n",
      " 0.00000055 0.00000151 0.00000014 0.00000031 0.00000055]\n",
      "[0.00000007 0.00000051 0.         0.00000018 0.00026611 0.00000073\n",
      " 0.99832768 0.00000543 0.00000218 0.         0.05546265 0.01629923\n",
      " 0.00000058 0.0000016  0.00000014 0.00000036 0.00000058]\n",
      "[0.00000016 0.00000105 0.         0.00000043 0.00043102 0.00000187\n",
      " 0.99824544 0.00000691 0.00000485 0.         0.05545808 0.02074276\n",
      " 0.00000136 0.0000035  0.00000031 0.00000085 0.0000012 ]\n",
      "[0.00000003 0.00000026 0.         0.00000011 0.00015304 0.00000033\n",
      " 0.99838406 0.00000412 0.00000108 0.         0.05546578 0.01236095\n",
      " 0.00000029 0.00000079 0.00000005 0.00000012 0.0000003 ]\n",
      "[0.         0.00000003 0.         0.00000002 0.00003496 0.00000005\n",
      " 0.99844293 0.00000197 0.00000019 0.         0.05546905 0.00590795\n",
      " 0.00000005 0.00000014 0.         0.00000001 0.00000004]\n",
      "[0.00000008 0.00000051 0.         0.00000021 0.00023762 0.00000089\n",
      " 0.99834189 0.00000513 0.0000023  0.         0.05546344 0.01540219\n",
      " 0.00000063 0.00000167 0.00000015 0.00000042 0.00000059]\n",
      "[0.00000017 0.00000127 0.         0.00000047 0.00069122 0.00000161\n",
      " 0.99811563 0.00000876 0.0000056  0.         0.05545087 0.0262662\n",
      " 0.00000161 0.00000399 0.00000047 0.00000093 0.00000144]\n",
      "[0.         0.00000002 0.         0.00000001 0.00002394 0.00000013\n",
      " 0.99844842 0.00000163 0.00000026 0.         0.05546936 0.00488936\n",
      " 0.00000011 0.00000015 0.00000001 0.00000002 0.00000002]\n",
      "[0.         0.00000005 0.00000002 0.00000001 0.00004447 0.00000009\n",
      " 0.99843818 0.00000222 0.00000029 0.         0.05546879 0.00666366\n",
      " 0.00000012 0.00000017 0.00000001 0.00000002 0.00000005]\n",
      "[0.00000001 0.00000005 0.00000003 0.00000001 0.0000463  0.00000015\n",
      " 0.99843727 0.00000227 0.0000004  0.         0.05546874 0.00679921\n",
      " 0.00000017 0.00000023 0.00000001 0.00000002 0.00000006]\n",
      "[0.         0.00000001 0.         0.00000001 0.00002951 0.00000007\n",
      " 0.99844564 0.00000181 0.00000021 0.         0.0554692  0.00542818\n",
      " 0.00000009 0.00000012 0.00000001 0.00000001 0.00000001]\n",
      "[0.         0.00000004 0.00000002 0.00000001 0.00003979 0.00000012\n",
      " 0.99844052 0.0000021  0.00000031 0.         0.05546892 0.00630329\n",
      " 0.00000013 0.00000018 0.00000001 0.00000002 0.00000004]\n",
      "[0.         0.00000002 0.         0.00000001 0.000053   0.0000001\n",
      " 0.99843393 0.00000242 0.00000034 0.         0.05546855 0.00727456\n",
      " 0.00000014 0.0000002  0.00000001 0.00000002 0.00000003]\n",
      "[0.         0.00000001 0.         0.00000001 0.00002792 0.00000016\n",
      " 0.99844643 0.00000176 0.00000031 0.         0.05546925 0.00528025\n",
      " 0.00000013 0.00000018 0.00000001 0.00000002 0.00000002]\n",
      "[0.         0.00000001 0.         0.00000001 0.00002217 0.00000012\n",
      " 0.9984493  0.00000157 0.00000023 0.         0.05546941 0.00470455\n",
      " 0.0000001  0.00000014 0.00000001 0.00000002 0.00000002]\n",
      "[0.00000013 0.00000132 0.         0.00000063 0.00069122 0.00000238\n",
      " 0.99811563 0.00000876 0.00000702 0.         0.05545087 0.0262662\n",
      " 0.00000238 0.00000464 0.00000063 0.00000125 0.00000144]\n",
      "[0.         0.00000004 0.00000002 0.00000001 0.0000378  0.00000008\n",
      " 0.99844151 0.00000205 0.00000025 0.         0.05546897 0.00614326\n",
      " 0.0000001  0.00000015 0.00000001 0.00000002 0.00000004]\n",
      "[0.         0.00000001 0.         0.00000001 0.00003048 0.00000011\n",
      " 0.99844516 0.00000184 0.00000027 0.         0.05546918 0.00551627\n",
      " 0.00000011 0.00000016 0.00000001 0.00000002 0.00000001]\n"
     ]
    },
    {
     "name": "stdout",
     "output_type": "stream",
     "text": [
      "[0.00000001 0.00000004 0.00000002 0.00000001 0.00003786 0.00000012\n",
      " 0.99844148 0.00000205 0.00000032 0.         0.05546897 0.00614804\n",
      " 0.00000013 0.00000018 0.00000001 0.00000002 0.00000005]\n",
      "[0.         0.00000001 0.         0.00000001 0.00002215 0.00000011\n",
      " 0.99844931 0.00000157 0.00000023 0.         0.05546941 0.00470284\n",
      " 0.0000001  0.00000013 0.00000001 0.00000002 0.00000001]\n",
      "[0.         0.00000002 0.         0.00000001 0.00004544 0.00000011\n",
      " 0.9984377  0.00000225 0.00000032 0.         0.05546876 0.00673549\n",
      " 0.00000013 0.00000019 0.00000001 0.00000002 0.00000002]\n",
      "[0.00000058 0.00001036 0.0000023  0.00000403 0.00198794 0.00001289\n",
      " 0.99746796 0.00001484 0.00003223 0.00000003 0.05541489 0.04452982\n",
      " 0.00000921 0.00002302 0.00000288 0.00000806 0.00001094]\n",
      "[0.         0.00000002 0.         0.00000001 0.0000407  0.00000008\n",
      " 0.99844007 0.00000212 0.00000026 0.         0.05546889 0.00637445\n",
      " 0.0000001  0.00000016 0.00000001 0.00000002 0.00000002]\n",
      "[0.         0.00000002 0.00000001 0.00000001 0.00004112 0.00000009\n",
      " 0.99843986 0.00000214 0.00000028 0.         0.05546888 0.0064071\n",
      " 0.00000011 0.00000017 0.00000001 0.00000002 0.00000003]\n",
      "[0.         0.00000001 0.         0.         0.00001871 0.00000015\n",
      " 0.99845103 0.00000144 0.00000025 0.         0.0554695  0.0043223\n",
      " 0.00000011 0.00000014 0.00000001 0.00000002 0.00000001]\n",
      "[0.00000001 0.00000002 0.         0.00000001 0.00002242 0.00000011\n",
      " 0.99844918 0.00000158 0.00000023 0.         0.0554694  0.00473112\n",
      " 0.0000001  0.00000014 0.00000001 0.00000002 0.00000002]\n",
      "[0.         0.00000001 0.         0.00000001 0.00002699 0.00000008\n",
      " 0.9984469  0.00000173 0.0000002  0.         0.05546927 0.0051907\n",
      " 0.00000009 0.00000012 0.00000001 0.00000001 0.00000001]\n",
      "[0.00000034 0.00000307 0.         0.0000017  0.00155085 0.00000432\n",
      " 0.99768641 0.00001311 0.00001465 0.00000001 0.05542702 0.03933531\n",
      " 0.00000528 0.00000937 0.00000187 0.00000307 0.00000341]\n",
      "[0.         0.00000002 0.         0.00000001 0.00002541 0.00000011\n",
      " 0.99844769 0.00000168 0.00000024 0.         0.05546932 0.00503721\n",
      " 0.0000001  0.00000014 0.00000001 0.00000002 0.00000002]\n",
      "[0.         0.00000003 0.00000002 0.00000001 0.00003109 0.0000001\n",
      " 0.99844486 0.00000186 0.00000025 0.         0.05546916 0.0055711\n",
      " 0.0000001  0.00000015 0.00000001 0.00000002 0.00000004]\n",
      "[0.         0.00000001 0.         0.00000001 0.00002981 0.00000011\n",
      " 0.99844549 0.00000182 0.00000026 0.         0.05546919 0.00545599\n",
      " 0.00000011 0.00000015 0.00000001 0.00000002 0.00000001]\n",
      "[0.         0.00000004 0.00000002 0.00000001 0.00003506 0.0000001\n",
      " 0.99844288 0.00000197 0.00000027 0.         0.05546905 0.0059167\n",
      " 0.00000011 0.00000016 0.00000001 0.00000002 0.00000004]\n",
      "[0.         0.00000004 0.00000002 0.00000001 0.00003935 0.00000011\n",
      " 0.99844074 0.00000209 0.0000003  0.         0.05546893 0.00626768\n",
      " 0.00000012 0.00000018 0.00000001 0.00000002 0.00000005]\n",
      "[0.         0.00000004 0.00000002 0.00000001 0.00004645 0.0000001\n",
      " 0.9984372  0.00000227 0.0000003  0.         0.05546873 0.00681011\n",
      " 0.00000012 0.00000018 0.00000001 0.00000002 0.00000004]\n",
      "[0.00000001 0.00000002 0.         0.00000001 0.00003058 0.00000013\n",
      " 0.99844511 0.00000184 0.00000029 0.         0.05546917 0.00552566\n",
      " 0.00000012 0.00000017 0.00000001 0.00000002 0.00000003]\n",
      "[0.         0.00000006 0.00000003 0.00000001 0.0000729  0.00000013\n",
      " 0.99842401 0.00000284 0.00000045 0.         0.055468   0.00853139\n",
      " 0.00000019 0.00000026 0.00000002 0.00000002 0.00000006]\n",
      "[0.         0.00000002 0.         0.00000001 0.00003109 0.00000011\n",
      " 0.99844485 0.00000186 0.00000026 0.         0.05546916 0.00557168\n",
      " 0.00000011 0.00000015 0.00000001 0.00000002 0.00000002]\n",
      "[0.         0.00000005 0.00000003 0.00000001 0.0000625  0.00000011\n",
      " 0.9984292  0.00000263 0.00000039 0.         0.05546829 0.00789966\n",
      " 0.00000016 0.00000023 0.00000002 0.00000002 0.00000005]\n",
      "[0.         0.00000002 0.         0.00000001 0.00003667 0.00000015\n",
      " 0.99844207 0.00000202 0.00000035 0.         0.055469   0.00605116\n",
      " 0.00000015 0.0000002  0.00000001 0.00000002 0.00000003]\n",
      "[0.         0.00000004 0.00000002 0.00000001 0.00003506 0.00000012\n",
      " 0.99844288 0.00000197 0.0000003  0.         0.05546905 0.0059167\n",
      " 0.00000012 0.00000018 0.00000001 0.00000002 0.00000004]\n",
      "[0.         0.00000002 0.         0.00000001 0.00004524 0.00000009\n",
      " 0.9984378  0.00000224 0.0000003  0.         0.05546877 0.00672097\n",
      " 0.00000012 0.00000017 0.00000001 0.00000002 0.00000003]\n",
      "[0.         0.00000004 0.00000001 0.00000001 0.00005005 0.00000006\n",
      " 0.9984354  0.00000236 0.00000023 0.         0.05546863 0.00706907\n",
      " 0.00000009 0.00000015 0.00000001 0.00000001 0.00000004]\n",
      "[0.         0.00000002 0.         0.00000001 0.00004579 0.00000012\n",
      " 0.99843753 0.00000225 0.00000033 0.         0.05546875 0.0067619\n",
      " 0.00000014 0.0000002  0.00000001 0.00000002 0.00000003]\n",
      "[0.         0.00000002 0.         0.00000001 0.00003323 0.00000008\n",
      " 0.99844379 0.00000192 0.00000023 0.         0.0554691  0.00576025\n",
      " 0.00000009 0.00000013 0.00000001 0.00000001 0.00000002]\n",
      "[0.         0.00000004 0.00000002 0.00000001 0.00004875 0.0000001\n",
      " 0.99843605 0.00000233 0.00000031 0.         0.05546867 0.00697665\n",
      " 0.00000013 0.00000019 0.00000001 0.00000002 0.00000005]\n",
      "[0.00000018 0.00000276 0.00000037 0.00000129 0.00106956 0.00000281\n",
      " 0.99792679 0.00001089 0.00000949 0.         0.05544038 0.03267022\n",
      " 0.00000295 0.00000654 0.00000101 0.00000193 0.00000295]\n",
      "[0.00000023 0.00000316 0.0000007  0.00000117 0.00090272 0.00000389\n",
      " 0.99801008 0.00001001 0.00001066 0.         0.055445   0.03001534\n",
      " 0.00000328 0.00000738 0.00000094 0.00000223 0.0000034 ]\n",
      "[0.         0.00000006 0.00000003 0.00000001 0.00005947 0.00000014\n",
      " 0.99843071 0.00000257 0.00000043 0.         0.05546837 0.00770592\n",
      " 0.00000018 0.00000025 0.00000002 0.00000002 0.00000006]\n",
      "[0.         0.00000001 0.         0.00000001 0.00002874 0.00000008\n",
      " 0.99844603 0.00000179 0.00000022 0.         0.05546922 0.00535719\n",
      " 0.00000009 0.00000013 0.00000001 0.00000001 0.00000002]\n",
      "[0.         0.00000001 0.         0.00000001 0.00003122 0.00000011\n",
      " 0.99844479 0.00000186 0.00000027 0.         0.05546916 0.0055831\n",
      " 0.00000012 0.00000015 0.00000001 0.00000002 0.00000002]\n",
      "[0.         0.00000002 0.         0.00000001 0.00003707 0.0000001\n",
      " 0.99844188 0.00000203 0.00000027 0.         0.05546899 0.0060837\n",
      " 0.00000011 0.00000016 0.00000001 0.00000002 0.00000002]\n",
      "[0.         0.00000002 0.         0.00000001 0.00004695 0.00000012\n",
      " 0.99843695 0.00000228 0.00000035 0.         0.05546872 0.00684642\n",
      " 0.00000015 0.00000021 0.00000001 0.00000002 0.00000002]\n",
      "[0.         0.00000005 0.00000003 0.00000001 0.00005316 0.0000001\n",
      " 0.99843386 0.00000243 0.00000033 0.         0.05546855 0.00728504\n",
      " 0.00000013 0.00000019 0.00000001 0.00000002 0.00000006]\n",
      "[0.         0.00000001 0.         0.00000001 0.00002682 0.00000013\n",
      " 0.99844699 0.00000172 0.00000027 0.         0.05546928 0.00517433\n",
      " 0.00000012 0.00000016 0.00000001 0.00000002 0.00000002]\n",
      "[0.         0.00000005 0.00000003 0.00000001 0.00006462 0.00000011\n",
      " 0.99842814 0.00000268 0.00000039 0.         0.05546823 0.00803205\n",
      " 0.00000016 0.00000023 0.00000002 0.00000002 0.00000006]\n",
      "[0.         0.00000002 0.         0.00000001 0.00003443 0.00000009\n",
      " 0.99844319 0.00000195 0.00000025 0.         0.05546907 0.00586305\n",
      " 0.0000001  0.00000015 0.00000001 0.00000002 0.00000002]\n",
      "[0.         0.00000001 0.         0.00000001 0.00002449 0.00000012\n",
      " 0.99844815 0.00000165 0.00000025 0.         0.05546934 0.0049447\n",
      " 0.00000011 0.00000015 0.00000001 0.00000002 0.00000001]\n",
      "[0.         0.00000002 0.         0.00000001 0.00004054 0.0000001\n",
      " 0.99844015 0.00000212 0.00000029 0.         0.0554689  0.00636187\n",
      " 0.00000012 0.00000017 0.00000001 0.00000002 0.00000002]\n",
      "[0.         0.00000002 0.         0.00000001 0.00003151 0.00000012\n",
      " 0.99844465 0.00000187 0.00000029 0.         0.05546915 0.00560924\n",
      " 0.00000012 0.00000016 0.00000001 0.00000002 0.00000002]\n",
      "[0.         0.00000003 0.00000002 0.00000001 0.00003547 0.0000001\n",
      " 0.99844267 0.00000198 0.00000026 0.         0.05546904 0.00595145\n",
      " 0.00000011 0.00000016 0.00000001 0.00000002 0.00000004]\n",
      "[0.         0.00000002 0.         0.00000001 0.00003723 0.00000009\n",
      " 0.9984418  0.00000203 0.00000027 0.         0.05546899 0.00609681\n",
      " 0.00000011 0.00000016 0.00000001 0.00000002 0.00000002]\n",
      "[0.00000012 0.00000132 0.         0.00000039 0.00081474 0.00000136\n",
      " 0.99805399 0.00000951 0.00000548 0.         0.05544744 0.02851583\n",
      " 0.00000194 0.00000354 0.00000058 0.00000082 0.00000144]\n"
     ]
    },
    {
     "name": "stdout",
     "output_type": "stream",
     "text": [
      "[0.         0.00000002 0.         0.00000001 0.00003994 0.00000009\n",
      " 0.99844045 0.0000021  0.00000028 0.         0.05546891 0.00631454\n",
      " 0.00000011 0.00000016 0.00000001 0.00000002 0.00000002]\n",
      "[0.         0.00000002 0.         0.00000001 0.00003151 0.00000012\n",
      " 0.99844465 0.00000187 0.00000028 0.         0.05546915 0.00560924\n",
      " 0.00000012 0.00000016 0.00000001 0.00000002 0.00000002]\n",
      "[0.         0.00000005 0.00000003 0.00000001 0.00004732 0.0000001\n",
      " 0.99843677 0.00000229 0.00000031 0.         0.05546871 0.0068733\n",
      " 0.00000013 0.00000018 0.00000001 0.00000002 0.00000005]\n",
      "[0.         0.00000002 0.         0.00000001 0.00002315 0.00000012\n",
      " 0.99844882 0.0000016  0.00000024 0.         0.05546938 0.00480735\n",
      " 0.0000001  0.00000014 0.00000001 0.00000002 0.00000002]\n",
      "[0.         0.00000001 0.         0.00000001 0.00002191 0.00000011\n",
      " 0.99844943 0.00000156 0.00000022 0.         0.05546941 0.00467742\n",
      " 0.00000009 0.00000013 0.00000001 0.00000002 0.00000001]\n",
      "[0.         0.00000001 0.         0.00000001 0.00002642 0.00000016\n",
      " 0.99844718 0.00000171 0.00000031 0.         0.05546929 0.00513605\n",
      " 0.00000014 0.00000018 0.00000001 0.00000002 0.00000001]\n",
      "[0.00000012 0.00000146 0.         0.0000007  0.00073629 0.00000214\n",
      " 0.99809314 0.00000904 0.00000687 0.         0.05544962 0.0271087\n",
      " 0.00000262 0.00000425 0.00000064 0.00000105 0.00000157]\n",
      "[0.         0.00000002 0.         0.00000001 0.00002144 0.00000011\n",
      " 0.99844967 0.00000154 0.00000023 0.         0.05546943 0.00462657\n",
      " 0.0000001  0.00000013 0.00000001 0.00000002 0.00000002]\n",
      "[0.00000001 0.00000002 0.         0.00000001 0.00003082 0.00000009\n",
      " 0.99844499 0.00000185 0.00000024 0.         0.05546917 0.00554692\n",
      " 0.0000001  0.00000014 0.00000001 0.00000002 0.00000003]\n",
      "[0.         0.00000002 0.         0.00000001 0.0000365  0.00000013\n",
      " 0.99844216 0.00000201 0.00000033 0.         0.05546901 0.00603709\n",
      " 0.00000014 0.00000019 0.00000001 0.00000002 0.00000002]\n",
      "[0.         0.00000002 0.         0.00000001 0.00003397 0.00000009\n",
      " 0.99844342 0.00000194 0.00000025 0.         0.05546908 0.00582425\n",
      " 0.0000001  0.00000015 0.00000001 0.00000001 0.00000003]\n",
      "[0.         0.00000003 0.00000001 0.00000001 0.00003761 0.00000009\n",
      " 0.99844161 0.00000204 0.00000027 0.         0.05546898 0.00612791\n",
      " 0.00000011 0.00000016 0.00000001 0.00000002 0.00000003]\n",
      "[0.         0.00000003 0.         0.00000001 0.00005294 0.00000008\n",
      " 0.99843396 0.00000242 0.00000028 0.         0.05546855 0.00727015\n",
      " 0.00000011 0.00000017 0.00000001 0.00000002 0.00000003]\n",
      "[0.         0.00000003 0.         0.00000001 0.00004039 0.00000008\n",
      " 0.99844022 0.00000212 0.00000025 0.         0.0554689  0.00634998\n",
      " 0.00000009 0.00000015 0.00000001 0.00000001 0.00000003]\n",
      "[0.         0.00000003 0.00000001 0.00000001 0.00003761 0.00000009\n",
      " 0.99844161 0.00000204 0.00000027 0.         0.05546898 0.00612791\n",
      " 0.00000011 0.00000016 0.00000001 0.00000002 0.00000003]\n",
      "[0.         0.00000003 0.         0.00000001 0.00003909 0.00000011\n",
      " 0.99844087 0.00000208 0.0000003  0.         0.05546894 0.00624723\n",
      " 0.00000012 0.00000018 0.00000001 0.00000002 0.00000003]\n",
      "[0.         0.00000003 0.         0.00000001 0.00004039 0.00000008\n",
      " 0.99844022 0.00000212 0.00000025 0.         0.0554689  0.00634998\n",
      " 0.00000009 0.00000015 0.00000001 0.00000001 0.00000003]\n",
      "[0.         0.00000003 0.         0.00000001 0.00003955 0.00000006\n",
      " 0.99844064 0.00000209 0.00000022 0.         0.05546892 0.00628389\n",
      " 0.00000009 0.00000014 0.00000001 0.00000001 0.00000003]\n",
      "[0.00000001 0.00000003 0.00000001 0.00000001 0.0000463  0.00000013\n",
      " 0.99843727 0.00000227 0.00000037 0.         0.05546874 0.00679921\n",
      " 0.00000015 0.00000022 0.00000001 0.00000002 0.00000004]\n",
      "[0.00000001 0.00000003 0.         0.00000001 0.00004068 0.00000006\n",
      " 0.99844008 0.00000212 0.00000021 0.         0.05546889 0.00637302\n",
      " 0.00000009 0.00000013 0.00000001 0.00000001 0.00000003]\n",
      "[0.         0.00000003 0.         0.00000001 0.00003955 0.00000006\n",
      " 0.99844064 0.00000209 0.00000022 0.         0.05546892 0.00628389\n",
      " 0.00000009 0.00000014 0.00000001 0.00000001 0.00000003]\n",
      "[0.         0.00000003 0.         0.00000001 0.00003998 0.00000011\n",
      " 0.99844043 0.00000211 0.00000031 0.         0.05546891 0.00631782\n",
      " 0.00000012 0.00000018 0.00000001 0.00000002 0.00000003]\n",
      "[0.         0.00000002 0.         0.00000001 0.00003397 0.00000009\n",
      " 0.99844342 0.00000194 0.00000025 0.         0.05546908 0.00582425\n",
      " 0.0000001  0.00000015 0.00000001 0.00000001 0.00000003]\n",
      "[0.         0.00000002 0.         0.00000001 0.00001804 0.00000005\n",
      " 0.99845136 0.00000141 0.00000013 0.         0.05546952 0.00424448\n",
      " 0.00000005 0.00000008 0.         0.00000001 0.00000002]\n",
      "[0.         0.00000003 0.         0.00000001 0.00002664 0.00000007\n",
      " 0.99844708 0.00000172 0.00000018 0.         0.05546928 0.00515697\n",
      " 0.00000007 0.00000011 0.00000001 0.00000001 0.00000003]\n",
      "[0.         0.00000002 0.         0.00000001 0.00002694 0.00000005\n",
      " 0.99844693 0.00000173 0.00000016 0.         0.05546927 0.00518603\n",
      " 0.00000006 0.0000001  0.00000001 0.00000001 0.00000002]\n",
      "[0.         0.00000002 0.         0.00000001 0.0000212  0.00000006\n",
      " 0.99844978 0.00000153 0.00000016 0.         0.05546943 0.00460115\n",
      " 0.00000006 0.0000001  0.         0.00000001 0.00000002]\n",
      "[0.         0.00000002 0.         0.00000001 0.00002587 0.00000006\n",
      " 0.99844746 0.00000169 0.00000018 0.         0.0554693  0.00508259\n",
      " 0.00000007 0.00000011 0.00000001 0.00000001 0.00000003]\n",
      "[0.00000001 0.00000002 0.         0.00000001 0.00004438 0.00000012\n",
      " 0.99843823 0.00000222 0.00000034 0.         0.05546879 0.00665625\n",
      " 0.00000014 0.0000002  0.00000001 0.00000002 0.00000003]\n",
      "[0.00000001 0.00000002 0.         0.00000001 0.00002795 0.0000001\n",
      " 0.99844642 0.00000176 0.00000025 0.         0.05546925 0.00528279\n",
      " 0.0000001  0.00000015 0.00000001 0.00000001 0.00000002]\n",
      "[0.00000001 0.00000003 0.         0.00000001 0.00007051 0.00000014\n",
      " 0.99842521 0.0000028  0.00000046 0.         0.05546807 0.00839013\n",
      " 0.0000002  0.00000027 0.00000002 0.00000002 0.00000004]\n",
      "[0.00000001 0.00000003 0.         0.00000001 0.00003684 0.00000009\n",
      " 0.99844199 0.00000202 0.00000025 0.         0.055469   0.00606522\n",
      " 0.0000001  0.00000015 0.00000001 0.00000002 0.00000003]\n",
      "[0.         0.00000001 0.         0.00000001 0.00002882 0.00000002\n",
      " 0.99844599 0.00000179 0.00000009 0.         0.05546922 0.00536464\n",
      " 0.00000003 0.00000006 0.         0.00000001 0.00000002]\n",
      "[0.         0.00000002 0.         0.00000001 0.00003319 0.00000002\n",
      " 0.99844381 0.00000192 0.0000001  0.         0.0554691  0.00575623\n",
      " 0.00000003 0.00000006 0.         0.         0.00000002]\n",
      "[0.00000001 0.00000003 0.         0.00000001 0.00003023 0.00000009\n",
      " 0.99844528 0.00000183 0.00000024 0.         0.05546918 0.00549401\n",
      " 0.0000001  0.00000015 0.00000001 0.00000002 0.00000003]\n",
      "[0.00000001 0.00000002 0.         0.00000001 0.00002858 0.00000011\n",
      " 0.99844611 0.00000178 0.00000025 0.         0.05546923 0.00534148\n",
      " 0.0000001  0.00000015 0.00000001 0.00000002 0.00000002]\n",
      "[0.         0.00000003 0.         0.00000001 0.00003165 0.00000009\n",
      " 0.99844458 0.00000187 0.00000023 0.         0.05546914 0.00562108\n",
      " 0.00000009 0.00000014 0.00000001 0.00000001 0.00000003]\n",
      "[0.         0.00000002 0.         0.00000001 0.00002705 0.0000001\n",
      " 0.99844687 0.00000173 0.00000024 0.         0.05546927 0.00519712\n",
      " 0.0000001  0.00000014 0.00000001 0.00000001 0.00000002]\n",
      "[0.00000001 0.00000003 0.         0.00000001 0.00006934 0.00000014\n",
      " 0.99842579 0.00000277 0.00000048 0.         0.0554681  0.00832021\n",
      " 0.0000002  0.00000028 0.00000002 0.00000002 0.00000004]\n",
      "[0.00000001 0.00000004 0.00000001 0.00000001 0.0000714  0.00000013\n",
      " 0.99842476 0.00000281 0.00000045 0.         0.05546804 0.00844334\n",
      " 0.00000019 0.00000026 0.00000002 0.00000002 0.00000005]\n",
      "[0.00000001 0.00000003 0.         0.00000001 0.00002991 0.00000009\n",
      " 0.99844544 0.00000182 0.00000024 0.         0.05546919 0.00546494\n",
      " 0.0000001  0.00000014 0.00000001 0.00000001 0.00000003]\n",
      "[0.00000001 0.00000002 0.         0.00000001 0.00004352 0.00000012\n",
      " 0.99843866 0.0000022  0.00000033 0.         0.05546881 0.00659203\n",
      " 0.00000014 0.0000002  0.00000001 0.00000002 0.00000003]\n",
      "[0.         0.00000002 0.         0.00000001 0.00002302 0.00000006\n",
      " 0.99844888 0.0000016  0.00000017 0.         0.05546938 0.00479375\n",
      " 0.00000006 0.0000001  0.         0.00000001 0.00000002]\n",
      "[0.         0.00000002 0.         0.00000001 0.0000554  0.00000012\n",
      " 0.99843274 0.00000248 0.00000038 0.         0.05546849 0.00743712\n",
      " 0.00000015 0.00000022 0.00000001 0.00000002 0.00000002]\n"
     ]
    },
    {
     "name": "stdout",
     "output_type": "stream",
     "text": [
      "[0.         0.00000001 0.         0.         0.00002586 0.\n",
      " 0.99844746 0.00000169 0.00000004 0.         0.0554693  0.00508137\n",
      " 0.00000001 0.00000003 0.         0.         0.00000001]\n",
      "[0.00000033 0.00000127 0.         0.00000057 0.00072305 0.00000152\n",
      " 0.99809975 0.00000895 0.00000549 0.         0.05544999 0.02686397\n",
      " 0.00000172 0.00000377 0.00000053 0.00000094 0.0000016 ]\n",
      "[0.00000057 0.00000263 0.         0.00000149 0.00136869 0.00000309\n",
      " 0.99777741 0.00001232 0.00001156 0.         0.05543208 0.03695472\n",
      " 0.00000309 0.00000847 0.00000103 0.00000206 0.0000032 ]\n",
      "[0.         0.00000001 0.         0.00000001 0.00004039 0.00000002\n",
      " 0.99844022 0.00000212 0.00000012 0.         0.0554689  0.00635001\n",
      " 0.00000005 0.00000007 0.         0.         0.00000001]\n",
      "[0.         0.00000001 0.         0.         0.00002241 0.\n",
      " 0.99844918 0.00000158 0.00000003 0.         0.0554694  0.00472978\n",
      " 0.00000001 0.00000003 0.         0.         0.00000001]\n",
      "[0.         0.00000001 0.         0.         0.00002251 0.\n",
      " 0.99844913 0.00000158 0.00000003 0.         0.0554694  0.00474097\n",
      " 0.00000001 0.00000003 0.         0.         0.00000001]\n",
      "[0.00000029 0.00000111 0.         0.0000005  0.00068982 0.00000136\n",
      " 0.99811633 0.00000875 0.00000504 0.         0.05545091 0.02623966\n",
      " 0.00000154 0.0000035  0.00000046 0.00000082 0.00000139]\n",
      "[0.00000022 0.00000202 0.00000007 0.00000065 0.00106956 0.0000022\n",
      " 0.99792679 0.00001089 0.0000083  0.         0.05544038 0.03267022\n",
      " 0.00000231 0.00000599 0.00000079 0.00000152 0.00000224]\n",
      "[0.         0.00000001 0.         0.00000001 0.00003604 0.\n",
      " 0.99844239 0.000002   0.00000005 0.         0.05546902 0.00599894\n",
      " 0.00000001 0.00000004 0.         0.         0.00000002]\n",
      "[0.         0.00000003 0.         0.00000001 0.00004938 0.00000002\n",
      " 0.99843574 0.00000234 0.00000013 0.         0.05546865 0.00702135\n",
      " 0.00000003 0.0000001  0.         0.00000001 0.00000004]\n",
      "[0.         0.00000003 0.         0.00000001 0.00005101 0.00000002\n",
      " 0.99843493 0.00000238 0.00000013 0.         0.05546861 0.00713646\n",
      " 0.00000003 0.0000001  0.         0.00000001 0.00000004]\n",
      "[0.00000054 0.00000247 0.         0.00000139 0.0012285  0.00000306\n",
      " 0.99784743 0.00001167 0.00001083 0.         0.05543597 0.03501219\n",
      " 0.0000029  0.00000793 0.00000097 0.00000204 0.000003  ]\n",
      "[0.00000054 0.00000247 0.         0.0000014  0.00108159 0.00000327\n",
      " 0.99792078 0.00001095 0.00001065 0.         0.05544004 0.03285336\n",
      " 0.0000029  0.00000775 0.00000086 0.00000194 0.00000301]\n",
      "[0.         0.00000001 0.         0.00000001 0.00002804 0.\n",
      " 0.99844638 0.00000176 0.00000004 0.         0.05546924 0.00529091\n",
      " 0.00000001 0.00000003 0.         0.         0.00000001]\n",
      "[0.         0.00000001 0.         0.00000001 0.00003476 0.\n",
      " 0.99844303 0.00000196 0.00000004 0.         0.05546906 0.00589132\n",
      " 0.00000001 0.00000004 0.         0.         0.00000002]\n",
      "[0.         0.00000003 0.         0.00000001 0.00005101 0.00000002\n",
      " 0.99843493 0.00000238 0.00000013 0.         0.05546861 0.00713646\n",
      " 0.00000003 0.0000001  0.         0.00000001 0.00000004]\n",
      "[0.         0.00000002 0.         0.00000001 0.00003014 0.00000011\n",
      " 0.99844533 0.00000183 0.00000026 0.         0.05546918 0.00548596\n",
      " 0.00000011 0.00000015 0.00000001 0.00000002 0.00000003]\n",
      "[0.         0.00000001 0.         0.         0.00002554 0.\n",
      " 0.99844762 0.00000168 0.00000003 0.         0.05546931 0.0050501\n",
      " 0.00000001 0.00000003 0.         0.         0.00000001]\n",
      "[0.00000123 0.0000043  0.         0.00000205 0.00178731 0.00000483\n",
      " 0.99756825 0.00001408 0.00001698 0.00000001 0.05542046 0.04222511\n",
      " 0.0000043  0.00001268 0.00000164 0.00000368 0.00000552]\n",
      "[0.         0.00000001 0.         0.00000001 0.00004086 0.00000002\n",
      " 0.99843999 0.00000213 0.00000012 0.         0.05546889 0.00638682\n",
      " 0.00000005 0.00000007 0.         0.         0.00000002]\n",
      "[0.00000029 0.00000111 0.         0.0000005  0.00068982 0.00000136\n",
      " 0.99811633 0.00000875 0.00000504 0.         0.05545091 0.02623966\n",
      " 0.00000154 0.0000035  0.00000046 0.00000082 0.00000139]\n",
      "[0.00000009 0.00000205 0.00000027 0.00000071 0.00115021 0.00000263\n",
      " 0.99788652 0.00001129 0.00000937 0.         0.05543814 0.03387886\n",
      " 0.00000241 0.00000696 0.00000098 0.00000214 0.00000214]\n",
      "[0.         0.00000001 0.         0.00000001 0.00004062 0.00000002\n",
      " 0.99844011 0.00000212 0.00000012 0.         0.05546889 0.00636836\n",
      " 0.00000005 0.00000007 0.         0.         0.00000002]\n",
      "[0.         0.00000001 0.         0.00000001 0.00004062 0.00000002\n",
      " 0.99844011 0.00000212 0.00000012 0.         0.05546889 0.00636836\n",
      " 0.00000005 0.00000007 0.         0.         0.00000002]\n",
      "[0.         0.00000001 0.         0.00000001 0.00003316 0.\n",
      " 0.99844382 0.00000192 0.00000004 0.         0.0554691  0.00575421\n",
      " 0.00000001 0.00000004 0.         0.         0.00000002]\n",
      "[0.00000048 0.00000222 0.         0.00000125 0.00097079 0.00000309\n",
      " 0.9979761  0.00001038 0.00000973 0.         0.05544312 0.03112596\n",
      " 0.0000026  0.00000713 0.00000077 0.00000183 0.0000027 ]\n",
      "[0.         0.00000001 0.         0.00000001 0.00002821 0.\n",
      " 0.99844629 0.00000177 0.00000004 0.         0.05546924 0.00530724\n",
      " 0.00000001 0.00000003 0.         0.         0.00000001]\n",
      "[0.00000229 0.00000762 0.         0.00000267 0.00220868 0.0000081\n",
      " 0.99735758 0.00001564 0.00002553 0.00000002 0.05540875 0.04693447\n",
      " 0.00000572 0.00001981 0.00000229 0.00000648 0.00000991]\n",
      "[0.00000139 0.00000638 0.         0.00000222 0.00187402 0.0000064\n",
      " 0.99752491 0.00001441 0.00002052 0.00000001 0.05541805 0.04323637\n",
      " 0.00000527 0.00001525 0.00000194 0.00000471 0.00000777]\n",
      "[0.         0.00000003 0.         0.00000001 0.00005344 0.00000002\n",
      " 0.99843371 0.00000243 0.00000013 0.         0.05546854 0.0073045\n",
      " 0.00000004 0.0000001  0.         0.00000001 0.00000004]\n",
      "[0.         0.00000001 0.         0.00000001 0.00004086 0.00000002\n",
      " 0.99843999 0.00000213 0.00000012 0.         0.05546889 0.00638682\n",
      " 0.00000005 0.00000007 0.         0.         0.00000002]\n",
      "[0.         0.00000002 0.         0.00000001 0.00004022 0.\n",
      " 0.9984403  0.00000211 0.00000005 0.         0.05546891 0.00633736\n",
      " 0.00000001 0.00000004 0.         0.         0.00000002]\n",
      "[0.00000014 0.00000205 0.         0.00000096 0.00109506 0.00000413\n",
      " 0.99791406 0.00001102 0.0000119  0.         0.05543967 0.03305719\n",
      " 0.00000287 0.00000903 0.00000109 0.00000315 0.00000219]\n",
      "[0.         0.00000002 0.         0.00000001 0.00003014 0.00000011\n",
      " 0.99844533 0.00000183 0.00000026 0.         0.05546918 0.00548596\n",
      " 0.00000011 0.00000015 0.00000001 0.00000002 0.00000003]\n",
      "[0.         0.00000002 0.00000001 0.00000001 0.00003644 0.00000007\n",
      " 0.99844219 0.00000201 0.00000023 0.         0.05546901 0.00603181\n",
      " 0.00000009 0.00000014 0.00000001 0.00000001 0.00000002]\n",
      "[0.00000024 0.00000098 0.         0.00000042 0.00047175 0.00000122\n",
      " 0.99822512 0.00000723 0.00000397 0.         0.05545695 0.02170055\n",
      " 0.00000122 0.00000275 0.00000029 0.00000058 0.00000122]\n",
      "[0.         0.00000003 0.         0.00000001 0.00004983 0.00000001\n",
      " 0.99843551 0.00000235 0.0000001  0.         0.05546864 0.00705359\n",
      " 0.00000002 0.00000007 0.         0.         0.00000003]\n",
      "[0.00000021 0.00000201 0.00000007 0.00000062 0.00091644 0.00000229\n",
      " 0.99800323 0.00001008 0.00000791 0.         0.05544462 0.03024252\n",
      " 0.00000229 0.00000562 0.00000069 0.00000139 0.00000222]\n",
      "[0.00000263 0.00000877 0.         0.00000307 0.00300506 0.00000799\n",
      " 0.99695906 0.00001825 0.00002937 0.00000002 0.05538661 0.05473501\n",
      " 0.00000658 0.0000228  0.00000307 0.00000745 0.0000114 ]\n",
      "[0.         0.00000002 0.         0.00000001 0.00003761 0.00000009\n",
      " 0.99844161 0.00000204 0.00000027 0.         0.05546898 0.00612791\n",
      " 0.00000011 0.00000016 0.00000001 0.00000001 0.00000003]\n",
      "[0.         0.00000001 0.         0.00000001 0.00003604 0.\n",
      " 0.99844239 0.000002   0.00000005 0.         0.05546902 0.00599894\n",
      " 0.00000001 0.00000004 0.         0.         0.00000002]\n",
      "[0.00000051 0.00000237 0.         0.00000134 0.00108159 0.00000313\n",
      " 0.99792078 0.00001095 0.00001039 0.         0.05544004 0.03285336\n",
      " 0.00000278 0.00000762 0.00000082 0.00000185 0.00000288]\n",
      "[0.         0.00000001 0.         0.00000001 0.00004062 0.00000002\n",
      " 0.99844011 0.00000212 0.00000012 0.         0.05546889 0.00636836\n",
      " 0.00000005 0.00000007 0.         0.         0.00000002]\n",
      "[0.0000006  0.00000275 0.         0.00000156 0.00136869 0.00000323\n",
      " 0.99777741 0.00001232 0.00001184 0.         0.05543208 0.03695472\n",
      " 0.00000323 0.00000861 0.00000108 0.00000215 0.00000335]\n"
     ]
    },
    {
     "name": "stdout",
     "output_type": "stream",
     "text": [
      "[0.0000012  0.00000554 0.         0.00000193 0.00137718 0.00000649\n",
      " 0.99777317 0.00001236 0.00001783 0.00000001 0.05543184 0.03706897\n",
      " 0.00000458 0.00001325 0.00000145 0.0000041  0.00000675]\n",
      "[0.         0.00000002 0.         0.00000001 0.00003995 0.\n",
      " 0.99844044 0.00000211 0.00000005 0.         0.05546891 0.00631602\n",
      " 0.00000001 0.00000004 0.         0.         0.00000002]\n",
      "[0.00000109 0.00000381 0.         0.00000181 0.00136869 0.00000489\n",
      " 0.99777741 0.00001232 0.00001504 0.00000001 0.05543208 0.03695472\n",
      " 0.00000381 0.00001123 0.00000127 0.00000326 0.00000489]\n",
      "[0.         0.00000001 0.         0.00000001 0.00003778 0.00000018\n",
      " 0.99844152 0.00000205 0.00000041 0.         0.05546897 0.00614189\n",
      " 0.00000017 0.00000024 0.00000001 0.00000002 0.00000002]\n",
      "[0.00000166 0.00000533 0.00000033 0.000002   0.00173194 0.00000799\n",
      " 0.99759592 0.00001386 0.00002231 0.00000001 0.055422   0.0415665\n",
      " 0.00000533 0.00001698 0.000002   0.00000599 0.00000699]\n",
      "[0.         0.00000002 0.         0.00000002 0.00004909 0.00000017\n",
      " 0.99843588 0.00000233 0.00000045 0.         0.05546866 0.00700111\n",
      " 0.00000018 0.00000027 0.00000001 0.00000002 0.00000002]\n",
      "[0.00000054 0.00000214 0.         0.00000094 0.00131941 0.00000368\n",
      " 0.99780203 0.00001209 0.00001232 0.         0.05543345 0.03628371\n",
      " 0.00000268 0.00000964 0.00000107 0.00000295 0.00000268]\n",
      "[0.         0.00000001 0.         0.00000001 0.0000284  0.00000014\n",
      " 0.9984462  0.00000178 0.00000031 0.         0.05546923 0.00532505\n",
      " 0.00000011 0.0000002  0.00000001 0.00000002 0.00000001]\n",
      "[0.         0.00000001 0.         0.00000001 0.00004    0.00000014\n",
      " 0.99844042 0.00000211 0.00000036 0.         0.05546891 0.00631924\n",
      " 0.00000014 0.00000022 0.00000001 0.00000002 0.00000002]\n",
      "[0.00000001 0.00000002 0.         0.00000001 0.00007102 0.00000014\n",
      " 0.99842495 0.00000281 0.00000048 0.         0.05546805 0.00842045\n",
      " 0.0000002  0.00000028 0.00000002 0.00000002 0.00000003]\n",
      "[0.00000001 0.00000002 0.         0.00000002 0.00004975 0.0000001\n",
      " 0.99843555 0.00000235 0.00000032 0.         0.05546864 0.00704778\n",
      " 0.00000012 0.0000002  0.00000001 0.00000002 0.00000002]\n",
      "[0.         0.00000001 0.         0.00000002 0.00002576 0.0000001\n",
      " 0.99844751 0.00000169 0.00000025 0.         0.05546931 0.00507148\n",
      " 0.00000008 0.00000017 0.         0.00000001 0.00000001]\n",
      "[0.00000166 0.00000533 0.00000033 0.000002   0.00173194 0.00000799\n",
      " 0.99759592 0.00001386 0.00002231 0.00000001 0.055422   0.0415665\n",
      " 0.00000533 0.00001698 0.000002   0.00000599 0.00000699]\n",
      "[0.00000166 0.00000533 0.00000033 0.000002   0.00173194 0.00000799\n",
      " 0.99759592 0.00001386 0.00002231 0.00000001 0.055422   0.0415665\n",
      " 0.00000533 0.00001698 0.000002   0.00000599 0.00000699]\n",
      "[0.         0.00000001 0.         0.00000002 0.00003697 0.00000009\n",
      " 0.99844192 0.00000203 0.00000027 0.         0.055469   0.00607571\n",
      " 0.0000001  0.00000017 0.00000001 0.00000002 0.00000002]\n",
      "[0.         0.00000001 0.         0.00000001 0.00004    0.00000014\n",
      " 0.99844042 0.00000211 0.00000036 0.         0.05546891 0.00631924\n",
      " 0.00000014 0.00000022 0.00000001 0.00000002 0.00000002]\n",
      "[0.00000166 0.00000533 0.00000033 0.000002   0.00173194 0.00000799\n",
      " 0.99759592 0.00001386 0.00002231 0.00000001 0.055422   0.0415665\n",
      " 0.00000533 0.00001698 0.000002   0.00000599 0.00000699]\n",
      "[0.00000001 0.00000002 0.         0.00000001 0.00004992 0.00000013\n",
      " 0.99843547 0.00000235 0.00000038 0.         0.05546864 0.00705964\n",
      " 0.00000016 0.00000023 0.00000001 0.00000002 0.00000002]\n",
      "[0.         0.00000001 0.         0.00000001 0.00002038 0.00000006\n",
      " 0.99845019 0.0000015  0.00000016 0.         0.05546946 0.00451107\n",
      " 0.00000005 0.00000011 0.         0.00000001 0.00000001]\n",
      "[0.         0.00000001 0.         0.00000002 0.00003175 0.0000001\n",
      " 0.99844453 0.00000188 0.00000027 0.         0.05546914 0.00563033\n",
      " 0.00000008 0.00000018 0.00000001 0.00000001 0.00000002]\n",
      "[0.         0.00000001 0.         0.00000002 0.00001999 0.00000007\n",
      " 0.99845039 0.00000149 0.00000018 0.         0.05546947 0.00446734\n",
      " 0.00000005 0.00000013 0.         0.00000001 0.00000001]\n",
      "[0.         0.00000002 0.         0.00000002 0.00004909 0.00000017\n",
      " 0.99843588 0.00000233 0.00000045 0.         0.05546866 0.00700111\n",
      " 0.00000018 0.00000027 0.00000001 0.00000002 0.00000002]\n",
      "[0.         0.00000001 0.         0.00000002 0.00003659 0.00000009\n",
      " 0.99844211 0.00000201 0.00000027 0.         0.05546901 0.0060445\n",
      " 0.00000008 0.00000018 0.00000001 0.00000001 0.00000002]\n",
      "[0.         0.00000002 0.         0.00000001 0.00004741 0.00000011\n",
      " 0.99843672 0.00000229 0.00000033 0.         0.05546871 0.00687984\n",
      " 0.00000013 0.0000002  0.00000001 0.00000002 0.00000002]\n",
      "[0.00000001 0.00000002 0.         0.00000001 0.00005594 0.00000011\n",
      " 0.99843247 0.00000249 0.00000037 0.         0.05546847 0.00747365\n",
      " 0.00000015 0.00000022 0.00000001 0.00000002 0.00000002]\n",
      "[0.00000001 0.00000001 0.         0.00000001 0.00004503 0.00000016\n",
      " 0.99843791 0.00000224 0.00000042 0.         0.05546877 0.00670502\n",
      " 0.00000017 0.00000024 0.00000001 0.00000002 0.00000002]\n",
      "[0.         0.00000001 0.         0.00000001 0.0000341  0.00000016\n",
      " 0.99844335 0.00000195 0.00000036 0.         0.05546908 0.00583506\n",
      " 0.00000014 0.00000022 0.00000001 0.00000002 0.00000001]\n",
      "[0.         0.00000001 0.         0.00000001 0.00003659 0.00000011\n",
      " 0.99844211 0.00000201 0.0000003  0.         0.05546901 0.0060445\n",
      " 0.00000011 0.00000019 0.00000001 0.00000002 0.00000001]\n",
      "[0.         0.00000002 0.         0.00000001 0.00004909 0.00000017\n",
      " 0.99843588 0.00000233 0.00000046 0.         0.05546866 0.00700111\n",
      " 0.00000018 0.00000028 0.00000001 0.00000002 0.00000002]\n",
      "[0.         0.00000001 0.         0.00000001 0.000035   0.00000015\n",
      " 0.9984429  0.00000197 0.00000035 0.         0.05546905 0.00591183\n",
      " 0.00000013 0.00000022 0.00000001 0.00000002 0.00000001]\n",
      "[0.00000001 0.00000002 0.         0.00000002 0.00004975 0.0000001\n",
      " 0.99843555 0.00000235 0.00000032 0.         0.05546864 0.00704778\n",
      " 0.00000012 0.0000002  0.00000001 0.00000002 0.00000002]\n",
      "[0.00000001 0.00000002 0.         0.00000002 0.00004975 0.0000001\n",
      " 0.99843555 0.00000235 0.00000032 0.         0.05546864 0.00704778\n",
      " 0.00000012 0.0000002  0.00000001 0.00000002 0.00000002]\n",
      "[0.00000054 0.00000187 0.         0.00000094 0.00131941 0.00000368\n",
      " 0.99780203 0.00001209 0.00001232 0.         0.05543345 0.03628371\n",
      " 0.00000268 0.00000964 0.00000107 0.00000295 0.00000241]\n",
      "[0.         0.00000001 0.         0.00000001 0.00003447 0.00000013\n",
      " 0.99844317 0.00000196 0.00000031 0.         0.05546906 0.00586692\n",
      " 0.00000012 0.0000002  0.00000001 0.00000002 0.00000001]\n",
      "[0.         0.00000002 0.         0.00000002 0.00004909 0.00000017\n",
      " 0.99843588 0.00000233 0.00000045 0.         0.05546866 0.00700111\n",
      " 0.00000018 0.00000027 0.00000001 0.00000002 0.00000002]\n",
      "[0.         0.00000002 0.         0.00000001 0.00004909 0.00000017\n",
      " 0.99843588 0.00000233 0.00000046 0.         0.05546866 0.00700111\n",
      " 0.00000018 0.00000028 0.00000001 0.00000002 0.00000002]\n",
      "[0.         0.00000001 0.         0.00000001 0.00003778 0.00000016\n",
      " 0.99844152 0.00000205 0.00000039 0.         0.05546897 0.00614216\n",
      " 0.00000015 0.00000023 0.00000001 0.00000002 0.00000001]\n",
      "[0.         0.00000001 0.         0.00000001 0.00003147 0.00000016\n",
      " 0.99844467 0.00000187 0.00000035 0.         0.05546915 0.0056053\n",
      " 0.00000014 0.00000022 0.00000001 0.00000002 0.00000001]\n",
      "[0.         0.00000001 0.         0.00000001 0.00004    0.00000014\n",
      " 0.99844042 0.00000211 0.00000036 0.         0.05546891 0.00631924\n",
      " 0.00000014 0.00000022 0.00000001 0.00000002 0.00000002]\n",
      "[0.00000054 0.00000187 0.         0.00000094 0.00131941 0.00000368\n",
      " 0.99780203 0.00001209 0.00001232 0.         0.05543345 0.03628371\n",
      " 0.00000268 0.00000964 0.00000107 0.00000295 0.00000241]\n",
      "[0.00000054 0.00000214 0.         0.00000094 0.00131941 0.00000368\n",
      " 0.99780203 0.00001209 0.00001232 0.         0.05543345 0.03628371\n",
      " 0.00000268 0.00000964 0.00000107 0.00000295 0.00000268]\n",
      "[0.         0.00000001 0.         0.00000001 0.00002038 0.00000006\n",
      " 0.99845019 0.0000015  0.00000016 0.         0.05546946 0.00451107\n",
      " 0.00000005 0.00000011 0.         0.00000001 0.00000001]\n",
      "[0.         0.00000001 0.         0.00000002 0.00003175 0.0000001\n",
      " 0.99844453 0.00000188 0.00000027 0.         0.05546914 0.00563033\n",
      " 0.00000008 0.00000018 0.00000001 0.00000001 0.00000002]\n",
      "[0.00000001 0.00000003 0.         0.00000001 0.00003802 0.00000009\n",
      " 0.9984414  0.00000205 0.00000026 0.         0.05546897 0.00616098\n",
      " 0.0000001  0.00000016 0.00000001 0.00000002 0.00000003]\n"
     ]
    },
    {
     "name": "stdout",
     "output_type": "stream",
     "text": [
      "[0.         0.00000002 0.         0.00000001 0.00001803 0.00000004\n",
      " 0.99845137 0.00000141 0.00000011 0.         0.05546952 0.00424303\n",
      " 0.00000004 0.00000007 0.         0.00000001 0.00000002]\n",
      "[0.         0.00000002 0.         0.00000001 0.00003351 0.00000003\n",
      " 0.99844365 0.00000193 0.00000014 0.         0.05546909 0.00578421\n",
      " 0.00000005 0.00000009 0.00000001 0.00000001 0.00000003]\n",
      "[0.         0.00000002 0.         0.00000001 0.00001803 0.00000004\n",
      " 0.99845137 0.00000141 0.00000011 0.         0.05546952 0.00424303\n",
      " 0.00000004 0.00000007 0.         0.00000001 0.00000002]\n",
      "[0.00000001 0.00000003 0.         0.00000001 0.00003802 0.00000009\n",
      " 0.9984414  0.00000205 0.00000026 0.         0.05546897 0.00616098\n",
      " 0.0000001  0.00000016 0.00000001 0.00000002 0.00000003]\n",
      "[0.         0.00000002 0.         0.00000001 0.00003401 0.00000003\n",
      " 0.9984434  0.00000194 0.00000014 0.         0.05546908 0.00582705\n",
      " 0.00000005 0.00000009 0.00000001 0.00000001 0.00000003]\n",
      "[0.00000299 0.00001195 0.00000199 0.00000598 0.00690971 0.00001195\n",
      " 0.99499823 0.00002764 0.00005678 0.00000008 0.05527768 0.08291652\n",
      " 0.00001195 0.00004483 0.00000697 0.00001395 0.00001494]\n",
      "[0.00000054 0.00000215 0.00000013 0.00000121 0.00131941 0.0000037\n",
      " 0.99780203 0.00001209 0.00001225 0.         0.05543345 0.03628371\n",
      " 0.00000337 0.00000889 0.00000135 0.00000296 0.00000269]\n",
      "[0.0000002  0.00000076 0.00000008 0.0000004  0.0004467  0.0000012\n",
      " 0.99823762 0.00000704 0.00000377 0.         0.05545765 0.02111656\n",
      " 0.00000101 0.00000276 0.00000028 0.00000066 0.00000096]\n",
      "[0.00000118 0.00000512 0.00000039 0.00000315 0.00309598 0.00000706\n",
      " 0.99691354 0.00001852 0.00002755 0.00000002 0.05538409 0.05555555\n",
      " 0.00000748 0.00002007 0.00000354 0.00000669 0.0000063 ]\n",
      "[0.00000246 0.00001228 0.00000123 0.00000491 0.00716234 0.00001447\n",
      " 0.99487097 0.00002814 0.00006386 0.0000001  0.05527061 0.08441329\n",
      " 0.00001351 0.00005035 0.0000086  0.00001842 0.00001474]\n",
      "[0.00000026 0.00000066 0.00000013 0.00000047 0.00054346 0.00000091\n",
      " 0.99818935 0.00000776 0.00000357 0.         0.05545496 0.02329108\n",
      " 0.00000106 0.00000251 0.0000003  0.00000051 0.00000091]\n",
      "[0.00000013 0.00000038 0.00000003 0.00000022 0.00034959 0.00000168\n",
      " 0.99828605 0.00000623 0.00000419 0.         0.05546034 0.01868138\n",
      " 0.00000142 0.00000277 0.00000025 0.0000006  0.0000005 ]\n",
      "[0.00000119 0.00000555 0.00000079 0.00000238 0.0023539  0.00000816\n",
      " 0.99728495 0.00001615 0.00002615 0.00000002 0.05540472 0.04845109\n",
      " 0.00000515 0.000021   0.00000238 0.00000753 0.00000674]\n",
      "[0.00000016 0.00000045 0.00000007 0.00000032 0.00033654 0.00000064\n",
      " 0.99829256 0.00000611 0.00000231 0.         0.0554607  0.01832931\n",
      " 0.00000072 0.00000159 0.00000016 0.00000029 0.00000061]\n",
      "[0.00000005 0.00000024 0.00000006 0.00000014 0.00022436 0.00000037\n",
      " 0.9983485  0.00000499 0.00000137 0.         0.05546381 0.01496642\n",
      " 0.00000045 0.00000093 0.00000009 0.00000015 0.00000029]\n",
      "[0.00000027 0.00000126 0.00000013 0.00000058 0.00095612 0.00000145\n",
      " 0.99798342 0.0000103  0.00000619 0.         0.05544352 0.03088996\n",
      " 0.00000179 0.0000044  0.00000058 0.00000094 0.00000152]\n",
      "[0.00000039 0.00000098 0.0000003  0.00000044 0.00096252 0.00000159\n",
      " 0.99798023 0.00001033 0.00000655 0.         0.05544335 0.03099317\n",
      " 0.00000138 0.00000517 0.00000049 0.00000113 0.00000138]\n",
      "[0.00000115 0.00000536 0.00000038 0.00000268 0.00240644 0.00000779\n",
      " 0.99725867 0.00001633 0.00002564 0.00000002 0.05540326 0.04898815\n",
      " 0.00000574 0.0000199  0.00000268 0.00000727 0.00000651]\n",
      "[0.00000039 0.00000186 0.00000029 0.00000088 0.0010351  0.00000304\n",
      " 0.99794399 0.00001071 0.00000971 0.         0.05544133 0.0321399\n",
      " 0.00000265 0.00000706 0.00000098 0.00000226 0.00000226]\n",
      "[0.00000001 0.00000008 0.         0.00000002 0.00038183 0.00000003\n",
      " 0.99826997 0.00000651 0.00000047 0.         0.05545944 0.01952355\n",
      " 0.00000004 0.00000043 0.00000001 0.00000002 0.00000009]\n",
      "[0.0000001  0.00000047 0.00000006 0.00000023 0.00047849 0.00000053\n",
      " 0.99822176 0.00000728 0.00000242 0.         0.05545676 0.02185488\n",
      " 0.00000073 0.00000169 0.00000023 0.00000034 0.00000058]\n",
      "[0.00000001 0.00000008 0.         0.00000002 0.00037276 0.00000003\n",
      " 0.99827449 0.00000643 0.00000045 0.         0.05545969 0.01929033\n",
      " 0.00000004 0.00000041 0.00000001 0.00000002 0.00000009]\n",
      "[0.00000017 0.00000057 0.         0.00000044 0.00048793 0.00000111\n",
      " 0.99821705 0.00000736 0.00000379 0.         0.0554565  0.02206942\n",
      " 0.0000012  0.00000258 0.00000032 0.00000059 0.00000074]\n",
      "[0.00000005 0.00000034 0.00000002 0.00000015 0.00022332 0.00000034\n",
      " 0.99834902 0.00000498 0.00000131 0.         0.05546383 0.01493168\n",
      " 0.00000042 0.00000088 0.00000009 0.00000015 0.00000039]\n",
      "[0.00000056 0.00000246 0.00000078 0.00000123 0.00091644 0.00000368\n",
      " 0.99800323 0.00001008 0.00001027 0.         0.05544462 0.03024252\n",
      " 0.00000268 0.00000759 0.00000089 0.00000246 0.00000301]\n",
      "[0.00000022 0.00000135 0.00000045 0.00000045 0.00069908 0.00000121\n",
      " 0.99811171 0.00000881 0.00000475 0.         0.05545065 0.02641505\n",
      " 0.00000148 0.00000328 0.00000045 0.00000074 0.00000157]\n",
      "[0.00000013 0.00000053 0.00000006 0.00000041 0.00045431 0.00000069\n",
      " 0.99823382 0.0000071  0.00000278 0.         0.05545743 0.02129565\n",
      " 0.00000088 0.0000019  0.00000024 0.00000037 0.00000066]\n",
      "[0.00000002 0.00000012 0.00000001 0.00000007 0.00012057 0.00000017\n",
      " 0.99840025 0.00000366 0.00000065 0.         0.05546668 0.01097143\n",
      " 0.00000017 0.00000049 0.00000003 0.00000005 0.00000014]\n",
      "[0.00000003 0.00000018 0.00000001 0.00000011 0.00021496 0.00000028\n",
      " 0.99835319 0.00000488 0.00000116 0.         0.05546407 0.01464935\n",
      " 0.00000039 0.00000077 0.00000008 0.00000012 0.00000021]\n",
      "[0.00000001 0.00000007 0.         0.00000001 0.0003119  0.00000003\n",
      " 0.99830485 0.00000588 0.00000041 0.         0.05546138 0.01764569\n",
      " 0.00000004 0.00000037 0.00000001 0.00000002 0.00000008]\n",
      "[0.00000009 0.00000028 0.00000004 0.00000024 0.00039103 0.00000033\n",
      " 0.99826538 0.00000659 0.00000173 0.         0.05545919 0.01975734\n",
      " 0.00000053 0.0000012  0.00000013 0.00000016 0.00000037]\n",
      "[0.00000013 0.00000038 0.00000003 0.00000022 0.00034959 0.00000168\n",
      " 0.99828605 0.00000623 0.00000419 0.         0.05546034 0.01868138\n",
      " 0.00000142 0.00000277 0.00000025 0.0000006  0.0000005 ]\n",
      "[0.00000011 0.00000062 0.00000005 0.00000036 0.00042928 0.00000074\n",
      " 0.9982463  0.0000069  0.00000278 0.         0.05545813 0.02070096\n",
      " 0.00000096 0.00000182 0.00000028 0.00000043 0.00000073]\n",
      "[0.         0.00000001 0.         0.         0.00003902 0.00000001\n",
      " 0.9984409  0.00000208 0.00000005 0.         0.05546894 0.00624203\n",
      " 0.00000001 0.00000004 0.         0.         0.00000002]\n",
      "[0.00000118 0.00000512 0.00000039 0.00000315 0.00309598 0.00000706\n",
      " 0.99691354 0.00001852 0.00002755 0.00000002 0.05538409 0.05555555\n",
      " 0.00000748 0.00002007 0.00000354 0.00000669 0.0000063 ]\n",
      "[0.00000007 0.00000022 0.00000002 0.00000012 0.00049494 0.00000025\n",
      " 0.99821355 0.00000741 0.00000164 0.         0.05545631 0.02222743\n",
      " 0.00000042 0.00000122 0.00000012 0.00000014 0.00000029]\n",
      "[0.00000059 0.00000235 0.         0.00000147 0.00091644 0.00000486\n",
      " 0.99800323 0.00001008 0.00001207 0.         0.05544462 0.03024252\n",
      " 0.00000324 0.00000883 0.00000103 0.00000309 0.00000294]\n",
      "[0.00000021 0.00000094 0.00000006 0.00000036 0.00075175 0.00000076\n",
      " 0.99808543 0.00000913 0.00000382 0.         0.05544919 0.02739171\n",
      " 0.00000111 0.00000271 0.00000034 0.00000046 0.00000115]\n",
      "[0.00000001 0.00000007 0.         0.00000001 0.00029549 0.00000003\n",
      " 0.99831303 0.00000573 0.00000039 0.         0.05546184 0.01717528\n",
      " 0.00000004 0.00000035 0.00000001 0.00000002 0.00000007]\n",
      "[0.00000006 0.0000004  0.00000003 0.00000017 0.00045431 0.00000041\n",
      " 0.99823382 0.0000071  0.00000206 0.         0.05545743 0.02129565\n",
      " 0.00000065 0.00000141 0.00000017 0.00000022 0.00000046]\n",
      "[0.00000004 0.00000021 0.00000004 0.00000012 0.00021163 0.0000003\n",
      " 0.99835485 0.00000485 0.00000119 0.         0.05546416 0.01453543\n",
      " 0.00000039 0.00000079 0.00000008 0.00000013 0.00000025]\n",
      "[0.00000012 0.00000034 0.00000002 0.00000014 0.00031997 0.00000041\n",
      " 0.99830082 0.00000596 0.0000017  0.         0.05546116 0.01787239\n",
      " 0.0000005  0.00000119 0.00000015 0.00000025 0.00000046]\n",
      "[0.00000001 0.00000008 0.         0.00000002 0.00038183 0.00000003\n",
      " 0.99826997 0.00000651 0.00000047 0.         0.05545944 0.01952355\n",
      " 0.00000004 0.00000043 0.00000001 0.00000002 0.00000009]\n",
      "[0.00000004 0.0000002  0.00000001 0.00000013 0.00022135 0.00000032\n",
      " 0.99835    0.00000496 0.00000126 0.         0.05546389 0.01486571\n",
      " 0.00000042 0.00000084 0.00000009 0.00000014 0.00000024]\n"
     ]
    },
    {
     "name": "stdout",
     "output_type": "stream",
     "text": [
      "[0.00000004 0.00000027 0.         0.00000013 0.00044493 0.00000058\n",
      " 0.9982385  0.00000702 0.00000248 0.         0.05545769 0.0210747\n",
      " 0.0000006  0.00000188 0.00000018 0.00000035 0.00000031]\n",
      "[0.0000004  0.00000105 0.00000018 0.00000054 0.00052151 0.00000159\n",
      " 0.9982003  0.00000761 0.00000478 0.         0.05545557 0.02281601\n",
      " 0.00000127 0.00000352 0.00000036 0.00000091 0.00000145]\n",
      "[0.         0.         0.         0.         0.00002919 0.\n",
      " 0.9984458  0.0000018  0.00000003 0.         0.05546921 0.00539854\n",
      " 0.00000001 0.00000002 0.         0.         0.        ]\n",
      "[0.00000016 0.00000081 0.00000008 0.00000038 0.00067089 0.00000104\n",
      " 0.99812577 0.00000863 0.00000427 0.         0.05545143 0.02587733\n",
      " 0.00000122 0.00000306 0.00000038 0.00000065 0.00000097]\n",
      "[0.00000049 0.00000148 0.00000025 0.00000082 0.00077971 0.00000294\n",
      " 0.99807147 0.0000093  0.0000083  0.         0.05544841 0.02789641\n",
      " 0.0000023  0.000006   0.00000074 0.00000189 0.00000197]\n",
      "[0.00000011 0.00000042 0.00000003 0.00000024 0.00030907 0.00000046\n",
      " 0.99830626 0.00000586 0.0000018  0.         0.05546146 0.01756551\n",
      " 0.0000005  0.00000129 0.00000015 0.00000027 0.00000052]\n",
      "[0.0000002  0.00000123 0.0000002  0.00000059 0.00059702 0.00000201\n",
      " 0.99816263 0.00000814 0.00000589 0.         0.05545348 0.02441159\n",
      " 0.00000157 0.00000432 0.00000044 0.00000113 0.00000142]\n",
      "[0.00000018 0.00000098 0.00000009 0.00000049 0.00049494 0.00000137\n",
      " 0.99821355 0.00000741 0.00000427 0.         0.05545631 0.02222743\n",
      " 0.00000116 0.00000311 0.00000034 0.00000079 0.00000116]\n",
      "[0.00000237 0.00000949 0.00000158 0.00000475 0.00508121 0.00001107\n",
      " 0.99591788 0.00002371 0.00004666 0.00000006 0.05532877 0.07113699\n",
      " 0.00001107 0.00003559 0.00000554 0.00001107 0.00001186]\n",
      "[0.00000019 0.00000086 0.         0.00000042 0.0007476  0.00000101\n",
      " 0.99808749 0.00000911 0.00000444 0.         0.05544931 0.02731608\n",
      " 0.00000106 0.00000339 0.00000036 0.00000069 0.00000106]\n",
      "[0.00000054 0.00000242 0.0000004  0.00000121 0.00131941 0.0000037\n",
      " 0.99780203 0.00001209 0.00001225 0.         0.05543345 0.03628371\n",
      " 0.00000337 0.00000889 0.00000135 0.00000296 0.00000296]\n",
      "[0.00000005 0.00000024 0.00000005 0.00000013 0.00020375 0.00000038\n",
      " 0.99835878 0.00000475 0.00000134 0.         0.05546438 0.01426227\n",
      " 0.00000044 0.0000009  0.00000009 0.00000015 0.00000029]\n",
      "[0.00000118 0.00000512 0.00000039 0.00000315 0.00309598 0.00000706\n",
      " 0.99691354 0.00001852 0.00002755 0.00000002 0.05538409 0.05555555\n",
      " 0.00000748 0.00002007 0.00000354 0.00000669 0.0000063 ]\n",
      "[0.00000009 0.00000058 0.00000015 0.00000024 0.00044588 0.00000056\n",
      " 0.99823802 0.00000703 0.00000241 0.         0.05545767 0.02109736\n",
      " 0.00000073 0.00000168 0.00000022 0.00000034 0.00000067]\n",
      "[0.00000111 0.00000518 0.00000074 0.00000222 0.00240644 0.00000754\n",
      " 0.99725867 0.00001633 0.00002518 0.00000002 0.05540326 0.04898815\n",
      " 0.00000555 0.00001962 0.00000259 0.00000703 0.00000629]\n",
      "[0.00000035 0.00000102 0.00000012 0.00000055 0.00050534 0.00000174\n",
      " 0.99820836 0.00000749 0.00000497 0.         0.05545602 0.02245969\n",
      " 0.00000125 0.00000372 0.00000035 0.00000098 0.00000137]\n",
      "[0.00000049 0.00000148 0.00000025 0.00000082 0.00077971 0.00000294\n",
      " 0.99807147 0.0000093  0.0000083  0.         0.05544841 0.02789641\n",
      " 0.0000023  0.000006   0.00000074 0.00000189 0.00000197]\n",
      "[0.00000019 0.00000061 0.00000009 0.00000031 0.00042127 0.00000076\n",
      " 0.9982503  0.00000684 0.0000028  0.         0.05545835 0.02050698\n",
      " 0.00000073 0.00000207 0.00000022 0.00000045 0.00000079]\n",
      "[0.00000047 0.00000224 0.00000035 0.00000106 0.00121993 0.00000337\n",
      " 0.99785171 0.00001163 0.00001118 0.         0.05543621 0.03488992\n",
      " 0.00000306 0.00000812 0.00000118 0.00000259 0.00000271]\n",
      "[0.00000017 0.00000057 0.         0.00000044 0.00048793 0.00000111\n",
      " 0.99821705 0.00000736 0.00000379 0.         0.0554565  0.02206942\n",
      " 0.0000012  0.00000258 0.00000032 0.00000059 0.00000074]\n",
      "[0.00000008 0.00000039 0.         0.00000022 0.00050062 0.00000091\n",
      " 0.99821072 0.00000745 0.00000341 0.         0.05545615 0.02235442\n",
      " 0.00000088 0.00000253 0.00000027 0.00000055 0.00000047]\n",
      "[0.00000008 0.00000042 0.00000004 0.00000021 0.00047346 0.00000041\n",
      " 0.99822427 0.00000725 0.0000021  0.         0.0554569  0.02173991\n",
      " 0.00000051 0.0000016  0.00000016 0.00000026 0.0000005 ]\n",
      "[0.00000001 0.00000008 0.         0.00000002 0.00037276 0.00000003\n",
      " 0.99827449 0.00000643 0.00000045 0.         0.05545969 0.01929033\n",
      " 0.00000004 0.00000041 0.00000001 0.00000002 0.00000009]\n",
      "[0.0000001  0.00000082 0.00000002 0.00000027 0.00030727 0.00000111\n",
      " 0.99830716 0.00000584 0.00000306 0.         0.05546151 0.01751416\n",
      " 0.00000074 0.00000232 0.00000016 0.00000047 0.00000092]\n",
      "[0.00000019 0.00000134 0.         0.00000058 0.00062384 0.00000256\n",
      " 0.99814925 0.00000832 0.00000704 0.         0.05545274 0.02495373\n",
      " 0.00000179 0.00000524 0.00000045 0.00000128 0.00000153]\n",
      "[0.00000029 0.00000158 0.         0.00000064 0.00065623 0.00000228\n",
      " 0.99813308 0.00000853 0.00000654 0.         0.05545184 0.02559316\n",
      " 0.00000158 0.00000497 0.00000053 0.00000152 0.00000187]\n",
      "[0.00000009 0.00000075 0.         0.00000027 0.00077971 0.00000081\n",
      " 0.99807147 0.0000093  0.00000393 0.         0.05544841 0.02789641\n",
      " 0.00000104 0.00000288 0.00000041 0.00000064 0.00000084]\n",
      "[0.00000008 0.00000082 0.         0.00000027 0.00067925 0.00000073\n",
      " 0.9981216  0.00000868 0.00000343 0.         0.0554512  0.02603795\n",
      " 0.00000087 0.00000256 0.00000034 0.00000057 0.00000089]\n",
      "[0.00000008 0.00000044 0.00000002 0.00000015 0.00036296 0.00000046\n",
      " 0.99827938 0.00000634 0.00000194 0.         0.05545997 0.01903499\n",
      " 0.00000051 0.00000143 0.00000016 0.00000028 0.00000052]\n",
      "[0.00000043 0.00000164 0.         0.00000078 0.00046768 0.00000399\n",
      " 0.99822715 0.0000072  0.00000778 0.         0.05545706 0.02160665\n",
      " 0.00000181 0.00000596 0.00000043 0.0000019  0.00000207]\n",
      "[0.00000042 0.00000157 0.00000006 0.00000054 0.00050086 0.0000027\n",
      " 0.9982106  0.00000745 0.00000634 0.         0.05545614 0.02235992\n",
      " 0.00000151 0.00000483 0.00000042 0.00000151 0.00000199]\n",
      "[0.00000004 0.00000025 0.00000003 0.0000001  0.00017468 0.00000035\n",
      " 0.99837327 0.0000044  0.0000012  0.         0.05546518 0.013206\n",
      " 0.00000039 0.0000008  0.00000007 0.00000013 0.00000028]\n",
      "[0.00000008 0.00000046 0.         0.00000022 0.00029171 0.00000079\n",
      " 0.99831491 0.00000569 0.00000243 0.         0.05546194 0.01706521\n",
      " 0.00000073 0.0000017  0.00000016 0.00000035 0.00000054]\n",
      "[0.00000018 0.00000096 0.00000004 0.00000029 0.00040906 0.0000011\n",
      " 0.99825639 0.00000674 0.00000347 0.         0.05545869 0.02020762\n",
      " 0.00000085 0.00000262 0.00000022 0.00000058 0.00000114]\n",
      "[0.00000008 0.00000061 0.         0.00000031 0.00031582 0.00000118\n",
      " 0.99830289 0.00000592 0.0000032  0.         0.05546127 0.01775638\n",
      " 0.00000092 0.00000228 0.00000019 0.00000048 0.00000069]\n",
      "[0.0000004  0.00000139 0.         0.00000069 0.00098575 0.00000184\n",
      " 0.99796863 0.00001045 0.0000071  0.         0.0554427  0.03136473\n",
      " 0.00000162 0.00000549 0.00000064 0.00000144 0.00000179]\n",
      "[0.00000022 0.00000123 0.00000013 0.00000053 0.00041789 0.00000214\n",
      " 0.99825198 0.00000681 0.00000513 0.         0.05545844 0.02042459\n",
      " 0.00000149 0.00000364 0.00000035 0.00000101 0.00000145]\n",
      "[0.00000013 0.00000092 0.         0.00000031 0.00066259 0.00000085\n",
      " 0.99812991 0.00000857 0.00000374 0.         0.05545166 0.02571671\n",
      " 0.00000101 0.00000273 0.00000035 0.00000059 0.00000105]\n",
      "[0.0000001  0.00000082 0.00000002 0.00000027 0.00030727 0.00000111\n",
      " 0.99830716 0.00000584 0.00000306 0.         0.05546151 0.01751416\n",
      " 0.00000074 0.00000232 0.00000016 0.00000047 0.00000092]\n",
      "[0.00000059 0.00000176 0.         0.00000075 0.0005156  0.00000368\n",
      " 0.99820325 0.00000756 0.0000077  0.         0.05545574 0.02268644\n",
      " 0.00000184 0.00000586 0.0000005  0.00000201 0.00000234]\n",
      "[0.00000584 0.00003213 0.         0.00001168 0.01405021 0.00002454\n",
      " 0.99138285 0.00003934 0.00012268 0.00000035 0.05507683 0.11802177\n",
      " 0.00001753 0.00010515 0.0000146  0.00004089 0.00003797]\n",
      "[0.00000504 0.00001849 0.00000504 0.00000336 0.01089805 0.00000802\n",
      " 0.99298357 0.00003468 0.00005548 0.00000009 0.05516575 0.10402685\n",
      " 0.00001177 0.00004371 0.00000925 0.00001261 0.00002354]\n",
      "[0.00000484 0.00001453 0.         0.00000388 0.01262799 0.00000859\n",
      " 0.99210601 0.00003731 0.00006201 0.00000011 0.055117   0.11192991\n",
      " 0.0000126  0.00004942 0.00001066 0.00001453 0.00001938]\n",
      "[0.00000797 0.00003188 0.         0.00001063 0.01485838 0.00002169\n",
      " 0.99097126 0.00004045 0.00011688 0.00000033 0.05505396 0.12134342\n",
      " 0.00001859 0.00009829 0.00001594 0.00003719 0.00003985]\n"
     ]
    },
    {
     "name": "stdout",
     "output_type": "stream",
     "text": [
      "[0.00000484 0.00001453 0.         0.00000388 0.01262799 0.00000859\n",
      " 0.99210601 0.00003731 0.00006201 0.00000011 0.055117   0.11192991\n",
      " 0.0000126  0.00004942 0.00001066 0.00001453 0.00001938]\n",
      "[0.00000778 0.00002138 0.         0.00000778 0.01139615 0.00001814\n",
      " 0.99273112 0.00003545 0.00009136 0.00000021 0.05515173 0.10636405\n",
      " 0.00001361 0.00007775 0.00001166 0.0000311  0.00002916]\n",
      "[0.00000504 0.00001849 0.00000504 0.00000336 0.01089805 0.00000802\n",
      " 0.99298357 0.00003468 0.00005548 0.00000009 0.05516575 0.10402685\n",
      " 0.00001177 0.00004371 0.00000925 0.00001261 0.00002354]\n",
      "[0.00000778 0.00002138 0.         0.00000778 0.01139615 0.00001814\n",
      " 0.99273112 0.00003545 0.00009136 0.00000021 0.05515173 0.10636405\n",
      " 0.00001361 0.00007775 0.00001166 0.0000311  0.00002916]\n",
      "[0.00000797 0.00003188 0.         0.00001063 0.01485838 0.00002169\n",
      " 0.99097126 0.00004045 0.00011688 0.00000033 0.05505396 0.12134342\n",
      " 0.00001859 0.00009829 0.00001594 0.00003719 0.00003985]\n",
      "[0.00000108 0.00000476 0.00000169 0.00000123 0.00136869 0.00000415\n",
      " 0.99777741 0.00001232 0.00001352 0.00000001 0.05543208 0.03695472\n",
      " 0.00000277 0.00001076 0.00000108 0.00000323 0.00000584]\n",
      "[0.00000069 0.00000305 0.00000069 0.00000098 0.00101033 0.00000309\n",
      " 0.99795636 0.00001058 0.00000984 0.         0.05544202 0.03175316\n",
      " 0.00000197 0.00000787 0.00000069 0.00000216 0.00000374]\n",
      "[0.0000003  0.0000017  0.0000003  0.00000052 0.00069122 0.00000165\n",
      " 0.99811563 0.00000876 0.00000583 0.         0.05545087 0.0262662\n",
      " 0.00000139 0.00000444 0.00000035 0.00000083 0.000002  ]\n",
      "[0.00000033 0.00000196 0.00000046 0.00000065 0.00072417 0.00000243\n",
      " 0.99809919 0.00000896 0.00000726 0.         0.05544995 0.02688483\n",
      " 0.00000177 0.0000055  0.00000052 0.00000144 0.00000229]\n",
      "[0.00000066 0.00000343 0.00000078 0.00000111 0.00111942 0.00000331\n",
      " 0.9979019  0.00001114 0.00001075 0.         0.05543899 0.03342255\n",
      " 0.00000211 0.00000864 0.00000078 0.00000244 0.0000041 ]\n",
      "[0.00000093 0.00000435 0.00000109 0.0000014  0.00150888 0.00000399\n",
      " 0.99770738 0.00001293 0.00001397 0.00000001 0.05542819 0.03879973\n",
      " 0.00000279 0.00001117 0.00000109 0.0000031  0.00000528]\n",
      "[0.00000029 0.00000174 0.0000004  0.00000058 0.00055449 0.00000245\n",
      " 0.99818385 0.00000784 0.00000642 0.         0.05545466 0.02352622\n",
      " 0.00000156 0.00000486 0.0000004  0.00000127 0.00000202]\n",
      "[0.00000035 0.00000207 0.00000048 0.00000069 0.00067089 0.00000266\n",
      " 0.99812577 0.00000863 0.00000746 0.         0.05545143 0.02587733\n",
      " 0.00000186 0.00000559 0.00000048 0.00000138 0.00000242]\n",
      "[0.00000013 0.00000122 0.00000028 0.00000041 0.00045837 0.00000146\n",
      " 0.99823179 0.00000713 0.00000432 0.         0.05545732 0.02139068\n",
      " 0.0000011  0.00000323 0.00000028 0.00000075 0.00000135]\n",
      "[0.0000009  0.00000391 0.0000012  0.0000012  0.0009952  0.00000476\n",
      " 0.99796391 0.0000105  0.00001264 0.         0.05544244 0.03151465\n",
      " 0.00000301 0.00000963 0.0000009  0.00000286 0.00000481]\n",
      "[0.00000101 0.00000432 0.00000144 0.00000115 0.00100575 0.00000453\n",
      " 0.99795864 0.00001056 0.00001223 0.         0.05544215 0.03168123\n",
      " 0.00000259 0.00000964 0.00000086 0.00000302 0.00000532]\n",
      "[0.00000028 0.00000169 0.00000028 0.00000052 0.00072417 0.0000015\n",
      " 0.99809919 0.00000896 0.00000568 0.         0.05544995 0.02688483\n",
      " 0.00000133 0.00000435 0.00000032 0.00000073 0.00000197]\n",
      "[0.0000009  0.00000391 0.0000012  0.0000012  0.0009952  0.00000476\n",
      " 0.99796391 0.0000105  0.00001264 0.         0.05544244 0.03151465\n",
      " 0.00000301 0.00000963 0.0000009  0.00000286 0.00000481]\n",
      "[0.00000024 0.00000157 0.00000051 0.00000051 0.00053673 0.0000017\n",
      " 0.99819271 0.00000772 0.00000512 0.         0.05545515 0.0231465\n",
      " 0.00000118 0.00000394 0.00000031 0.00000091 0.00000181]\n",
      "[0.00000113 0.00000508 0.0000015  0.00000113 0.00131941 0.00000517\n",
      " 0.99780203 0.00001209 0.00001561 0.00000001 0.05543345 0.03628371\n",
      " 0.00000414 0.00001147 0.00000113 0.00000282 0.00000621]\n",
      "[0.0000002  0.00000161 0.00000055 0.00000051 0.00053673 0.0000017\n",
      " 0.99819271 0.00000772 0.00000512 0.         0.05545515 0.0231465\n",
      " 0.00000118 0.00000394 0.00000031 0.00000091 0.00000181]\n",
      "[0.00000021 0.00000172 0.00000056 0.00000056 0.00057437 0.00000179\n",
      " 0.99817393 0.00000798 0.00000545 0.         0.05545411 0.0239442\n",
      " 0.00000124 0.0000042  0.00000034 0.00000099 0.00000193]\n",
      "[0.00000003 0.00000027 0.00000007 0.0000001  0.00015519 0.00000024\n",
      " 0.99838299 0.00000415 0.00000094 0.         0.05546572 0.01244737\n",
      " 0.00000023 0.0000007  0.00000004 0.00000008 0.0000003 ]\n",
      "[0.00000023 0.00000136 0.00000045 0.0000004  0.00052423 0.00000123\n",
      " 0.99819894 0.00000763 0.00000418 0.         0.0554555  0.02287539\n",
      " 0.00000113 0.00000305 0.00000031 0.00000068 0.00000158]\n",
      "[0.0000014  0.00000631 0.00000164 0.00000187 0.00234036 0.00000482\n",
      " 0.99729172 0.0000161  0.00001962 0.00000001 0.0554051  0.04831171\n",
      " 0.00000397 0.00001565 0.00000164 0.00000397 0.00000771]\n",
      "[0.00000012 0.0000011  0.00000027 0.00000039 0.00037548 0.00000153\n",
      " 0.99827314 0.00000645 0.00000402 0.         0.05545962 0.01936045\n",
      " 0.00000098 0.00000304 0.00000024 0.00000074 0.00000122]\n",
      "[0.00000109 0.000005   0.00000188 0.00000125 0.00112749 0.00000465\n",
      " 0.99789787 0.00001118 0.00001314 0.00000001 0.05543877 0.03354279\n",
      " 0.00000266 0.00001048 0.00000094 0.00000328 0.0000061 ]\n",
      "[0.00000028 0.00000169 0.00000028 0.00000052 0.00072417 0.0000015\n",
      " 0.99809919 0.00000896 0.00000568 0.         0.05544995 0.02688483\n",
      " 0.00000133 0.00000435 0.00000032 0.00000073 0.00000197]\n",
      "[0.00000024 0.00000157 0.00000051 0.00000051 0.00053673 0.0000017\n",
      " 0.99819271 0.00000772 0.00000512 0.         0.05545515 0.0231465\n",
      " 0.00000118 0.00000394 0.00000031 0.00000091 0.00000181]\n",
      "[0.0000007  0.00000302 0.0000007  0.0000009  0.00101033 0.00000316\n",
      " 0.99795636 0.00001058 0.00001005 0.         0.05544202 0.03175316\n",
      " 0.00000221 0.00000784 0.0000007  0.00000201 0.00000372]\n",
      "[0.00000022 0.00000176 0.00000048 0.00000053 0.00060295 0.00000179\n",
      " 0.99815967 0.00000818 0.00000564 0.         0.05545332 0.02453234\n",
      " 0.00000136 0.00000427 0.00000035 0.00000092 0.00000198]\n",
      "[0.00000022 0.00000176 0.00000048 0.00000053 0.00060295 0.00000179\n",
      " 0.99815967 0.00000818 0.00000564 0.         0.05545332 0.02453234\n",
      " 0.00000136 0.00000427 0.00000035 0.00000092 0.00000198]\n",
      "[0.00000007 0.00000072 0.00000018 0.00000025 0.00031384 0.00000078\n",
      " 0.99830388 0.0000059  0.00000253 0.         0.05546133 0.01770042\n",
      " 0.00000065 0.00000188 0.00000014 0.00000033 0.00000079]\n",
      "[0.00000001 0.00000003 0.00000001 0.00000001 0.00002308 0.00000006\n",
      " 0.99844885 0.0000016  0.00000016 0.         0.05546938 0.00480023\n",
      " 0.00000006 0.0000001  0.         0.00000001 0.00000004]\n",
      "[0.         0.00000002 0.         0.00000001 0.00002041 0.00000005\n",
      " 0.99845018 0.0000015  0.00000014 0.         0.05546945 0.00451427\n",
      " 0.00000005 0.00000009 0.         0.00000001 0.00000002]\n",
      "[0.         0.00000001 0.         0.         0.00000964 0.00000001\n",
      " 0.99845555 0.00000103 0.00000005 0.         0.05546975 0.00310294\n",
      " 0.00000002 0.00000003 0.         0.         0.00000001]\n",
      "[0.         0.00000001 0.         0.00000001 0.00001934 0.00000003\n",
      " 0.99845071 0.00000146 0.0000001  0.         0.05546948 0.00439459\n",
      " 0.00000003 0.00000006 0.         0.         0.00000002]\n",
      "[0.         0.00000002 0.         0.00000001 0.00002024 0.00000005\n",
      " 0.99845027 0.0000015  0.00000014 0.         0.05546946 0.00449514\n",
      " 0.00000005 0.00000009 0.         0.00000001 0.00000002]\n",
      "[0.         0.00000001 0.         0.         0.0000093  0.00000002\n",
      " 0.99845572 0.00000102 0.00000006 0.         0.05546976 0.00304761\n",
      " 0.00000002 0.00000004 0.         0.         0.00000001]\n",
      "[0.         0.00000002 0.         0.00000001 0.00002094 0.00000005\n",
      " 0.99844991 0.00000152 0.00000014 0.         0.05546944 0.00457264\n",
      " 0.00000005 0.00000009 0.         0.00000001 0.00000002]\n",
      "[0.         0.00000001 0.         0.         0.0000093  0.00000002\n",
      " 0.99845572 0.00000102 0.00000006 0.         0.05546976 0.00304761\n",
      " 0.00000002 0.00000004 0.         0.         0.00000001]\n",
      "[0.         0.00000001 0.         0.00000001 0.00001399 0.00000003\n",
      " 0.99845338 0.00000125 0.00000008 0.         0.05546963 0.00373743\n",
      " 0.00000003 0.00000005 0.         0.         0.00000001]\n",
      "[0.         0.00000002 0.         0.00000001 0.00002007 0.00000005\n",
      " 0.99845035 0.00000149 0.00000013 0.         0.05546946 0.00447618\n",
      " 0.00000005 0.00000008 0.         0.00000001 0.00000002]\n",
      "[0.         0.00000001 0.         0.00000001 0.00001921 0.00000003\n",
      " 0.99845078 0.00000146 0.00000009 0.         0.05546949 0.00437917\n",
      " 0.00000003 0.00000006 0.         0.         0.00000002]\n"
     ]
    },
    {
     "name": "stdout",
     "output_type": "stream",
     "text": [
      "[0.         0.00000001 0.         0.         0.00000964 0.00000001\n",
      " 0.99845555 0.00000103 0.00000005 0.         0.05546975 0.00310294\n",
      " 0.00000002 0.00000003 0.         0.         0.00000001]\n",
      "[0.         0.00000001 0.         0.00000001 0.00001399 0.00000003\n",
      " 0.99845338 0.00000125 0.00000008 0.         0.05546963 0.00373743\n",
      " 0.00000003 0.00000005 0.         0.         0.00000001]\n"
     ]
    }
   ],
   "source": [
    "for i in instances:\n",
    "    i = i.strip('\\n')\n",
    "    i = i.strip('\\[')\n",
    "    i = i.strip('\\]')\n",
    "    #i = np.array(i)\n",
    "    #i = np.fromstring(i)\n",
    "    i = np.array(i.split(','), dtype=float)\n",
    "    i = preprocessing.normalize(i.reshape(1,-1))\n",
    "    print(i[0])\n",
    "    i = np.delete(i, [0, 1, 2, 6, 9, 10, 16])\n",
    "    # print(i)\n",
    "    # print(clf.predict(i.reshape(1, -1)))\n",
    "    #print(type(i))\n",
    "    #print(clf.predict(i))\n",
    "    \n",
    "    predictions.append(clf.predict(i.reshape(1, -1))[0])"
   ]
  },
  {
   "cell_type": "code",
   "execution_count": 87,
   "metadata": {},
   "outputs": [],
   "source": [
    "# [0.00045302, 0.0000755 , 0.00052852, 0.00218959, 0.00183246, 0.00176149, \n",
    "#  0.99748456, 0.00001435, 0.00792782, 0.00000302, 0.05541547, 0.04274908, \n",
    "#  0.00264261, 0.00528521, 0.00135906, 0.00181207, 0.00339764]"
   ]
  },
  {
   "cell_type": "code",
   "execution_count": 88,
   "metadata": {},
   "outputs": [
    {
     "data": {
      "text/plain": [
       "[1, 1, 1, 1, 1, 1, 1, 1, 1, 1, 1, 1, 1, 1, 1, 1, 1, 1, 1, 1]"
      ]
     },
     "execution_count": 88,
     "metadata": {},
     "output_type": "execute_result"
    }
   ],
   "source": [
    "predictions[240:260]"
   ]
  },
  {
   "cell_type": "code",
   "execution_count": 89,
   "metadata": {},
   "outputs": [],
   "source": [
    "f = open(\"c_attributes_classes.txt\")\n",
    "classes = f.readlines()\n",
    "f.close()"
   ]
  },
  {
   "cell_type": "code",
   "execution_count": 90,
   "metadata": {},
   "outputs": [],
   "source": [
    "class_labels = []\n",
    "for c in classes:\n",
    "    class_labels.append(int(c.strip()))"
   ]
  },
  {
   "cell_type": "code",
   "execution_count": 91,
   "metadata": {},
   "outputs": [
    {
     "data": {
      "text/plain": [
       "0"
      ]
     },
     "execution_count": 91,
     "metadata": {},
     "output_type": "execute_result"
    }
   ],
   "source": [
    "class_labels[0]"
   ]
  },
  {
   "cell_type": "code",
   "execution_count": 92,
   "metadata": {},
   "outputs": [
    {
     "data": {
      "text/plain": [
       "[0, 0, 0, 0, 0, 0, 0, 0, 0, 0, 0, 0, 0, 1, 0, 0, 0, 0, 1, 0]"
      ]
     },
     "execution_count": 92,
     "metadata": {},
     "output_type": "execute_result"
    }
   ],
   "source": [
    "class_labels[240:260]"
   ]
  },
  {
   "cell_type": "code",
   "execution_count": 93,
   "metadata": {},
   "outputs": [],
   "source": [
    "accuracy_score = metrics.accuracy_score(class_labels, predictions)"
   ]
  },
  {
   "cell_type": "code",
   "execution_count": 94,
   "metadata": {},
   "outputs": [
    {
     "data": {
      "text/plain": [
       "0.34851138353765326"
      ]
     },
     "execution_count": 94,
     "metadata": {},
     "output_type": "execute_result"
    }
   ],
   "source": [
    "accuracy_score"
   ]
  },
  {
   "cell_type": "code",
   "execution_count": 95,
   "metadata": {},
   "outputs": [
    {
     "data": {
      "image/png": "[encoded data removed]",
      "text/plain": [
       "<Figure size 648x648 with 2 Axes>"
      ]
     },
     "metadata": {
      "needs_background": "light"
     },
     "output_type": "display_data"
    }
   ],
   "source": [
    "cm = metrics.confusion_matrix(class_labels, predictions)\n",
    "\n",
    "plt.figure(figsize=(9,9))\n",
    "sns.heatmap(cm, annot=True, fmt=\".3f\", linewidths=.5, square = True, cmap = 'viridis');\n",
    "plt.ylabel('Stvarna klasa');\n",
    "plt.xlabel('Predvidjena klasa');\n",
    "all_sample_title = 'Accuracy Score: {0}'.format(metrics.accuracy_score(class_labels, predictions))\n",
    "plt.title(all_sample_title, size = 15);\n",
    "figname = 'RF_c_files_confussion_matrix.png'\n",
    "#plt.savefig(figname)\n",
    "plt.show()"
   ]
  },
  {
   "cell_type": "code",
   "execution_count": 96,
   "metadata": {},
   "outputs": [],
   "source": [
    "# type(class_labels)"
   ]
  },
  {
   "cell_type": "code",
   "execution_count": 97,
   "metadata": {},
   "outputs": [],
   "source": [
    "from collections import Counter"
   ]
  },
  {
   "cell_type": "code",
   "execution_count": 98,
   "metadata": {},
   "outputs": [
    {
     "data": {
      "text/plain": [
       "Counter({0: 372, 1: 199})"
      ]
     },
     "execution_count": 98,
     "metadata": {},
     "output_type": "execute_result"
    }
   ],
   "source": [
    "Counter(class_labels)"
   ]
  },
  {
   "cell_type": "code",
   "execution_count": 99,
   "metadata": {},
   "outputs": [
    {
     "data": {
      "text/plain": [
       "Counter({1: 571})"
      ]
     },
     "execution_count": 99,
     "metadata": {},
     "output_type": "execute_result"
    }
   ],
   "source": [
    "Counter(predictions)"
   ]
  },
  {
   "cell_type": "code",
   "execution_count": 100,
   "metadata": {},
   "outputs": [],
   "source": [
    "data = np.empty(shape=(len(instances), 17), dtype=float)"
   ]
  },
  {
   "cell_type": "code",
   "execution_count": 101,
   "metadata": {},
   "outputs": [
    {
     "data": {
      "text/plain": [
       "(571, 17)"
      ]
     },
     "execution_count": 101,
     "metadata": {},
     "output_type": "execute_result"
    }
   ],
   "source": [
    "data.shape"
   ]
  },
  {
   "cell_type": "code",
   "execution_count": 102,
   "metadata": {},
   "outputs": [
    {
     "data": {
      "text/plain": [
       "'[19, 48, 13, 29, 130145.77451223352, 137.8125, 2471765661.417352, 5978.571516655727, 610, 0.0072562358276643995, 137320314.52318624, 17935714.54996718, 210, 400, 16, 21, 67]'"
      ]
     },
     "execution_count": 102,
     "metadata": {},
     "output_type": "execute_result"
    }
   ],
   "source": [
    "instances[0].strip('\\n')"
   ]
  },
  {
   "cell_type": "code",
   "execution_count": 103,
   "metadata": {},
   "outputs": [],
   "source": [
    "#####\n",
    "j = 0\n",
    "for i in instances:\n",
    "    i = i.strip('\\n')\n",
    "    i = i.strip('\\[')\n",
    "    i = i.strip('\\]')\n",
    "    #i = np.array(i)\n",
    "    #i = np.fromstring(i)\n",
    "    i = np.array(i.split(','), dtype=float)\n",
    "    i = preprocessing.normalize(i.reshape(1,-1))\n",
    "    # print(type(i))\n",
    "    # print(i)\n",
    "    if j < data.shape[0]:\n",
    "        data[j] = i\n",
    "        j += 1"
   ]
  },
  {
   "cell_type": "code",
   "execution_count": 104,
   "metadata": {},
   "outputs": [
    {
     "data": {
      "text/plain": [
       "array([[0.00000001, 0.00000002, 0.00000001, ..., 0.00000001, 0.00000001,\n",
       "        0.00000003],\n",
       "       [0.00000001, 0.00000003, 0.        , ..., 0.00000002, 0.00000003,\n",
       "        0.00000003],\n",
       "       [0.00000001, 0.00000003, 0.        , ..., 0.00000001, 0.00000001,\n",
       "        0.00000004],\n",
       "       ...,\n",
       "       [0.        , 0.00000001, 0.        , ..., 0.        , 0.        ,\n",
       "        0.00000002],\n",
       "       [0.        , 0.00000001, 0.        , ..., 0.        , 0.        ,\n",
       "        0.00000001],\n",
       "       [0.        , 0.00000001, 0.        , ..., 0.        , 0.        ,\n",
       "        0.00000001]])"
      ]
     },
     "execution_count": 104,
     "metadata": {},
     "output_type": "execute_result"
    }
   ],
   "source": [
    "data"
   ]
  },
  {
   "cell_type": "code",
   "execution_count": 105,
   "metadata": {},
   "outputs": [
    {
     "data": {
      "text/plain": [
       "numpy.ndarray"
      ]
     },
     "execution_count": 105,
     "metadata": {},
     "output_type": "execute_result"
    }
   ],
   "source": [
    "type(data)"
   ]
  },
  {
   "cell_type": "code",
   "execution_count": 106,
   "metadata": {},
   "outputs": [],
   "source": [
    "X_train2, X_test2, y_train2, y_test2 = train_test_split(data, class_labels, test_size=0.4, random_state=42)"
   ]
  },
  {
   "cell_type": "code",
   "execution_count": 107,
   "metadata": {},
   "outputs": [
    {
     "data": {
      "text/plain": [
       "(342, 17)"
      ]
     },
     "execution_count": 107,
     "metadata": {},
     "output_type": "execute_result"
    }
   ],
   "source": [
    "X_train2.shape"
   ]
  },
  {
   "cell_type": "code",
   "execution_count": 108,
   "metadata": {},
   "outputs": [
    {
     "name": "stderr",
     "output_type": "stream",
     "text": [
      "C:\\Users\\Dell\\Anaconda3\\lib\\site-packages\\sklearn\\ensemble\\forest.py:248: FutureWarning: The default value of n_estimators will change from 10 in version 0.20 to 100 in 0.22.\n",
      "  \"10 in version 0.20 to 100 in 0.22.\", FutureWarning)\n"
     ]
    },
    {
     "name": "stdout",
     "output_type": "stream",
     "text": [
      "0.5982532751091703\n"
     ]
    }
   ],
   "source": [
    "clf2 = RandomForestClassifier(n_jobs=2, random_state=0)\n",
    "clf2.fit(X_train2, np.ravel(y_train2))\n",
    "y_pred2 = clf2.predict(X_test2)\n",
    "print(metrics.accuracy_score(y_test2, y_pred2))"
   ]
  },
  {
   "cell_type": "code",
   "execution_count": 109,
   "metadata": {},
   "outputs": [
    {
     "data": {
      "image/png": "[encoded data removed]",
      "text/plain": [
       "<Figure size 648x648 with 2 Axes>"
      ]
     },
     "metadata": {
      "needs_background": "light"
     },
     "output_type": "display_data"
    }
   ],
   "source": [
    "cm = metrics.confusion_matrix(y_test2, y_pred2)\n",
    "\n",
    "plt.figure(figsize=(9,9))\n",
    "sns.heatmap(cm, annot=True, fmt=\".3f\", linewidths=.5, square = True, cmap = 'viridis');\n",
    "plt.ylabel('Stvarna klasa');\n",
    "plt.xlabel('Predvidjena klasa');\n",
    "all_sample_title = 'Accuracy Score: {0}'.format(metrics.accuracy_score(y_test2, y_pred2))\n",
    "plt.title(all_sample_title, size = 15);\n",
    "figname = 'new_data_confussion_matrix.png'\n",
    "#plt.savefig(figname)\n",
    "plt.show()"
   ]
  },
  {
   "cell_type": "code",
   "execution_count": 110,
   "metadata": {},
   "outputs": [],
   "source": [
    "y_pred3 = clf2.predict(X_train2)"
   ]
  },
  {
   "cell_type": "code",
   "execution_count": 111,
   "metadata": {},
   "outputs": [],
   "source": [
    "cm = metrics.confusion_matrix(y_train2, y_pred3)"
   ]
  },
  {
   "cell_type": "code",
   "execution_count": 112,
   "metadata": {},
   "outputs": [
    {
     "data": {
      "image/png": "[encoded data removed]",
      "text/plain": [
       "<Figure size 648x648 with 2 Axes>"
      ]
     },
     "metadata": {
      "needs_background": "light"
     },
     "output_type": "display_data"
    }
   ],
   "source": [
    "cm = metrics.confusion_matrix(y_train2, y_pred3)\n",
    "\n",
    "plt.figure(figsize=(9,9))\n",
    "sns.heatmap(cm, annot=True, fmt=\".3f\", linewidths=.5, square = True, cmap = 'viridis');\n",
    "plt.ylabel('Stvarna klasa');\n",
    "plt.xlabel('Predvidjena klasa');\n",
    "all_sample_title = 'Accuracy Score: {0}'.format(metrics.accuracy_score(y_train2, y_pred3))\n",
    "plt.title(all_sample_title, size = 15);\n",
    "figname = 'new_data_confussion_matrix.png'\n",
    "#plt.savefig(figname)\n",
    "plt.show()"
   ]
  },
  {
   "cell_type": "code",
   "execution_count": 113,
   "metadata": {},
   "outputs": [],
   "source": [
    "indices_zeroes = []\n",
    "indices_ones = []"
   ]
  },
  {
   "cell_type": "code",
   "execution_count": 114,
   "metadata": {},
   "outputs": [],
   "source": [
    "for val in enumerate(class_labels):\n",
    "    if val[1] == 0:\n",
    "        indices_zeroes.append(val[0])\n",
    "    else:\n",
    "        indices_ones.append(val[0])\n",
    "    # print(val[0])"
   ]
  },
  {
   "cell_type": "code",
   "execution_count": 115,
   "metadata": {},
   "outputs": [
    {
     "data": {
      "text/plain": [
       "199"
      ]
     },
     "execution_count": 115,
     "metadata": {},
     "output_type": "execute_result"
    }
   ],
   "source": [
    "len(indices_ones)"
   ]
  },
  {
   "cell_type": "code",
   "execution_count": 116,
   "metadata": {},
   "outputs": [
    {
     "data": {
      "text/plain": [
       "372"
      ]
     },
     "execution_count": 116,
     "metadata": {},
     "output_type": "execute_result"
    }
   ],
   "source": [
    "len(indices_zeroes)"
   ]
  },
  {
   "cell_type": "code",
   "execution_count": 117,
   "metadata": {},
   "outputs": [
    {
     "data": {
      "text/plain": [
       "[31,\n",
       " 32,\n",
       " 33,\n",
       " 34,\n",
       " 35,\n",
       " 36,\n",
       " 37,\n",
       " 38,\n",
       " 39,\n",
       " 40,\n",
       " 41,\n",
       " 42,\n",
       " 43,\n",
       " 44,\n",
       " 45,\n",
       " 46,\n",
       " 49,\n",
       " 50,\n",
       " 51,\n",
       " 62,\n",
       " 63,\n",
       " 66,\n",
       " 69,\n",
       " 74,\n",
       " 75,\n",
       " 83,\n",
       " 86,\n",
       " 87,\n",
       " 88,\n",
       " 89,\n",
       " 93,\n",
       " 95,\n",
       " 98,\n",
       " 101,\n",
       " 102,\n",
       " 110,\n",
       " 111,\n",
       " 112,\n",
       " 117,\n",
       " 121,\n",
       " 123,\n",
       " 124,\n",
       " 125,\n",
       " 126,\n",
       " 130,\n",
       " 131,\n",
       " 132,\n",
       " 136,\n",
       " 141,\n",
       " 144,\n",
       " 145,\n",
       " 146,\n",
       " 150,\n",
       " 151,\n",
       " 152,\n",
       " 160,\n",
       " 161,\n",
       " 162,\n",
       " 163,\n",
       " 166,\n",
       " 167,\n",
       " 168,\n",
       " 169,\n",
       " 170,\n",
       " 172,\n",
       " 173,\n",
       " 174,\n",
       " 175,\n",
       " 176,\n",
       " 180,\n",
       " 181,\n",
       " 185,\n",
       " 187,\n",
       " 188,\n",
       " 190,\n",
       " 191,\n",
       " 194,\n",
       " 195,\n",
       " 196,\n",
       " 198,\n",
       " 199,\n",
       " 200,\n",
       " 204,\n",
       " 206,\n",
       " 208,\n",
       " 212,\n",
       " 218,\n",
       " 219,\n",
       " 230,\n",
       " 231,\n",
       " 253,\n",
       " 258,\n",
       " 260,\n",
       " 264,\n",
       " 268,\n",
       " 270,\n",
       " 277,\n",
       " 288,\n",
       " 289,\n",
       " 291,\n",
       " 304,\n",
       " 308,\n",
       " 310,\n",
       " 311,\n",
       " 312,\n",
       " 313,\n",
       " 314,\n",
       " 315,\n",
       " 316,\n",
       " 317,\n",
       " 319,\n",
       " 320,\n",
       " 321,\n",
       " 322,\n",
       " 323,\n",
       " 324,\n",
       " 325,\n",
       " 326,\n",
       " 327,\n",
       " 329,\n",
       " 334,\n",
       " 336,\n",
       " 340,\n",
       " 343,\n",
       " 344,\n",
       " 345,\n",
       " 346,\n",
       " 347,\n",
       " 351,\n",
       " 352,\n",
       " 357,\n",
       " 360,\n",
       " 361,\n",
       " 362,\n",
       " 363,\n",
       " 367,\n",
       " 368,\n",
       " 374,\n",
       " 375,\n",
       " 376,\n",
       " 379,\n",
       " 380,\n",
       " 381,\n",
       " 382,\n",
       " 387,\n",
       " 390,\n",
       " 391,\n",
       " 392,\n",
       " 393,\n",
       " 395,\n",
       " 397,\n",
       " 399,\n",
       " 405,\n",
       " 425,\n",
       " 436,\n",
       " 437,\n",
       " 438,\n",
       " 439,\n",
       " 442,\n",
       " 443,\n",
       " 452,\n",
       " 478,\n",
       " 484,\n",
       " 489,\n",
       " 490,\n",
       " 494,\n",
       " 499,\n",
       " 503,\n",
       " 504,\n",
       " 510,\n",
       " 511,\n",
       " 512,\n",
       " 519,\n",
       " 520,\n",
       " 521,\n",
       " 522,\n",
       " 525,\n",
       " 528,\n",
       " 529,\n",
       " 530,\n",
       " 532,\n",
       " 535,\n",
       " 536,\n",
       " 537,\n",
       " 541,\n",
       " 542,\n",
       " 544,\n",
       " 546,\n",
       " 547,\n",
       " 554,\n",
       " 556,\n",
       " 558,\n",
       " 559,\n",
       " 562,\n",
       " 564,\n",
       " 565,\n",
       " 568,\n",
       " 569,\n",
       " 570]"
      ]
     },
     "execution_count": 117,
     "metadata": {},
     "output_type": "execute_result"
    }
   ],
   "source": [
    "indices_ones"
   ]
  },
  {
   "cell_type": "code",
   "execution_count": 118,
   "metadata": {},
   "outputs": [
    {
     "data": {
      "text/plain": [
       "0.020985602058173153"
      ]
     },
     "execution_count": 118,
     "metadata": {},
     "output_type": "execute_result"
    }
   ],
   "source": [
    "np.average(data[indices_ones][:,11])"
   ]
  },
  {
   "cell_type": "code",
   "execution_count": 119,
   "metadata": {},
   "outputs": [
    {
     "data": {
      "text/plain": [
       "0.01882112823960489"
      ]
     },
     "execution_count": 119,
     "metadata": {},
     "output_type": "execute_result"
    }
   ],
   "source": [
    "np.average(data[indices_zeroes][:,11])"
   ]
  },
  {
   "cell_type": "code",
   "execution_count": 120,
   "metadata": {},
   "outputs": [
    {
     "data": {
      "text/plain": [
       "6.8281469804546446e-06"
      ]
     },
     "execution_count": 120,
     "metadata": {},
     "output_type": "execute_result"
    }
   ],
   "source": [
    "np.average(data[indices_ones][:,8])"
   ]
  },
  {
   "cell_type": "code",
   "execution_count": 121,
   "metadata": {},
   "outputs": [
    {
     "data": {
      "text/plain": [
       "5.930273005605808e-06"
      ]
     },
     "execution_count": 121,
     "metadata": {},
     "output_type": "execute_result"
    }
   ],
   "source": [
    "np.average(data[indices_zeroes][:,8])"
   ]
  },
  {
   "cell_type": "code",
   "execution_count": 122,
   "metadata": {},
   "outputs": [
    {
     "data": {
      "text/plain": [
       "1.5171999805835803e-06"
      ]
     },
     "execution_count": 122,
     "metadata": {},
     "output_type": "execute_result"
    }
   ],
   "source": [
    "np.average(data[indices_ones][:,12])"
   ]
  },
  {
   "cell_type": "code",
   "execution_count": 123,
   "metadata": {},
   "outputs": [
    {
     "data": {
      "text/plain": [
       "1.5020364297546552e-06"
      ]
     },
     "execution_count": 123,
     "metadata": {},
     "output_type": "execute_result"
    }
   ],
   "source": [
    "np.average(data[indices_zeroes][:,12])"
   ]
  },
  {
   "cell_type": "code",
   "execution_count": 124,
   "metadata": {},
   "outputs": [],
   "source": [
    "# github_instance = np.array([8, 353, 14, 140, 1948361.3189646779, 336.5, 220617335959.33817, 218541.19461053805, 2722, 0.0029717682020802376, 12256518664.407677, 655623583.8316141, 1346, 1376, 144, 72, 361], dtype=float)\n",
    "# github_instance = np.array([5, 37, 8, 5, 1050957.9486631174, 55.52127659574467, 3239695746.7548647, 19450.175652740458, 933, 0.01801111324008431, 179983097.04193693, 58350526.95822137, 614, 319, 94, 17, 42])\n",
    "# github_instance = np.array([11, 261, 18, 107, 2031006.1313715037, 263.83941605839414, 141380850105.87363, 178619.82390402522, 2504, 0.0037901842527527253, 7854491672.548534, 535859471.7120757, 1364, 1140, 137, 53, 272], dtype=float)\n",
    "# -------------------------------------\n",
    "# github_instance = np.array([49, 211, 2, 103, 476426.1581724572, 284.29411764705884, 38506260620.376114, 45148.38475387226, 1390, 0.0035174839644113386, 2139236701.1320064, 135445154.2616168, 537, 853, 51, 54, 260], dtype=float)\n",
    "# -------------------------------------------\n",
    "# github_instance = np.array([10, 70, 6, 32, 575623.6626825822, 77.9375, 3496484281.5796075, 14954.223070107917, 827, 0.012830793905372895, 194249126.75442263, 44862669.21032375, 430, 397, 80, 29, 80], dtype=float)\n",
    "# -------------------------------------------\n",
    "# github_instance = np.array([3, 23, 6, 13, 462080.56114427367, 58.5974025974026, 1586625502.3403487, 9025.573557934904, 659, 0.017065602836879433, 88145861.24113049, 27076720.67380471, 376, 283, 77, 24, 26], dtype=float)\n",
    "# github_instance = np.array([3, 34, 6, 13, 64905.57020861779, 130.0, 1096904136.5256405, 2812.574709040104, 435, 0.007692307692307693, 60939118.69586892, 8437724.127120312, 182, 253, 14, 20, 37], dtype=float)\n",
    "\n",
    "\n",
    "# isnum # github_instance = np.array([2, 17, 6, 5, 3029.874609116446, 29.4, 2618902.417135891, 29.69277116934117, 57, 0.034013605442176874, 145494.57872977172, 89078.31350802351, 14, 43, 5, 21, 19], dtype=float)\n",
    "# isalpha\n",
    "\n",
    "# strcmp\n",
    "# github_instance = np.array([2, 14, 6, 3, 1454.4023793190904, 15.75, 360782.6902198419, 7.635612491425225, 33, 0.06349206349206349, 20043.482789991216, 22906.837474275675, 9, 24, 4, 14, 16], dtype=float)\n",
    "\n",
    "# putchar\n",
    "github_instance = np.array([2, 11, 6, 1, 24340.52014006465, 145.0, 511759435.9448593, 1176.4584734364582, 319, 0.006896551724137931, 28431079.774714407, 3529375.4203093746, 145, 174, 6, 12, 13], dtype=float)\n"
   ]
  },
  {
   "cell_type": "code",
   "execution_count": 125,
   "metadata": {},
   "outputs": [
    {
     "data": {
      "text/plain": [
       "array([2.00000000e+00, 1.10000000e+01, 6.00000000e+00, 1.00000000e+00,\n",
       "       2.43405201e+04, 1.45000000e+02, 5.11759436e+08, 1.17645847e+03,\n",
       "       3.19000000e+02, 6.89655172e-03, 2.84310798e+07, 3.52937542e+06,\n",
       "       1.45000000e+02, 1.74000000e+02, 6.00000000e+00, 1.20000000e+01,\n",
       "       1.30000000e+01])"
      ]
     },
     "execution_count": 125,
     "metadata": {},
     "output_type": "execute_result"
    }
   ],
   "source": [
    "github_instance"
   ]
  },
  {
   "cell_type": "code",
   "execution_count": 126,
   "metadata": {},
   "outputs": [],
   "source": [
    "github_instance = preprocessing.normalize(github_instance.reshape(1,-1))"
   ]
  },
  {
   "cell_type": "code",
   "execution_count": 127,
   "metadata": {},
   "outputs": [],
   "source": [
    "github_instance = np.delete(github_instance, [0, 1, 2, 6, 9, 10, 16])"
   ]
  },
  {
   "cell_type": "code",
   "execution_count": 128,
   "metadata": {},
   "outputs": [
    {
     "data": {
      "text/plain": [
       "array([0.        , 0.00004749, 0.00000028, 0.0000023 , 0.00000062,\n",
       "       0.00688577, 0.00000028, 0.00000034, 0.00000001, 0.00000002])"
      ]
     },
     "execution_count": 128,
     "metadata": {},
     "output_type": "execute_result"
    }
   ],
   "source": [
    "github_instance"
   ]
  },
  {
   "cell_type": "code",
   "execution_count": 129,
   "metadata": {},
   "outputs": [],
   "source": [
    "prediction = clf.predict(github_instance.reshape(1,-1))"
   ]
  },
  {
   "cell_type": "code",
   "execution_count": 130,
   "metadata": {},
   "outputs": [
    {
     "data": {
      "text/plain": [
       "array([1], dtype=int64)"
      ]
     },
     "execution_count": 130,
     "metadata": {},
     "output_type": "execute_result"
    }
   ],
   "source": [
    "prediction"
   ]
  },
  {
   "cell_type": "code",
   "execution_count": null,
   "metadata": {},
   "outputs": [],
   "source": []
  },
  {
   "cell_type": "code",
   "execution_count": null,
   "metadata": {},
   "outputs": [],
   "source": []
  }
 ],
 "metadata": {
  "kernelspec": {
   "display_name": "Python 3",
   "language": "python",
   "name": "python3"
  },
  "language_info": {
   "codemirror_mode": {
    "name": "ipython",
    "version": 3
   },
   "file_extension": ".py",
   "mimetype": "text/x-python",
   "name": "python",
   "nbconvert_exporter": "python",
   "pygments_lexer": "ipython3",
   "version": "3.7.0"
  }
 },
 "nbformat": 4,
 "nbformat_minor": 2
}
