{
 "cells": [
  {
   "cell_type": "code",
   "execution_count": 1,
   "metadata": {
    "collapsed": true
   },
   "outputs": [],
   "source": [
    "import pycparser"
   ]
  },
  {
   "cell_type": "code",
   "execution_count": 2,
   "metadata": {},
   "outputs": [],
   "source": [
    "file_name = \"year.c\"\n",
    "def get_ast(file_name):\n",
    "    cpp_path = search_cpp()\n",
    "    if cpp_path:\n",
    "        logger.info(\"{0} will be used as C preprocessor.\".format(cpp_path))\n",
    "    else:\n",
    "        logger.warning(\"C preprocessor not found. Only already preprocessed sources will be interpreted correctly.\")\n",
    "\n",
    "    try:\n",
    "        ast = parse_file(file_name, use_cpp=cpp_path is not None, cpp_path=cpp_path)\n",
    "    except c_parser.ParseError:\n",
    "        e = sys.exc_info()[1]\n",
    "        logger.error(\"Parse error: {0}.\".format(str(e)))\n",
    "        return\n",
    "\n",
    "    string_io = StringIO()\n",
    "    ast.show(buf=string_io, offset=4, attrnames=True, nodenames=True)\n",
    "    logger.info(\"{0} successfully parsed:\\n{1}\".format(file_name, string_io.getvalue()))\n",
    "    return ast "
   ]
  },
  {
   "cell_type": "code",
   "execution_count": null,
   "metadata": {
    "collapsed": true
   },
   "outputs": [],
   "source": []
  }
 ],
 "metadata": {
  "kernelspec": {
   "display_name": "Python 3",
   "language": "python",
   "name": "python3"
  },
  "language_info": {
   "codemirror_mode": {
    "name": "ipython",
    "version": 3
   },
   "file_extension": ".py",
   "mimetype": "text/x-python",
   "name": "python",
   "nbconvert_exporter": "python",
   "pygments_lexer": "ipython3",
   "version": "3.6.1"
  }
 },
 "nbformat": 4,
 "nbformat_minor": 2
}
